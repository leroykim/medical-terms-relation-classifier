{
 "cells": [
  {
   "cell_type": "markdown",
   "metadata": {},
   "source": [
    "# Medical terms relation classifier"
   ]
  },
  {
   "cell_type": "markdown",
   "metadata": {},
   "source": [
    "# dataset\n",
    "## Source\n",
    "- [Figure Eight: Medical Sentence Summary - Medical sentence summary and relation-extraction](https://www.kaggle.com/kmader/figure-eight-medical-sentence-summary)\n",
    "\n",
    "## about\n",
    "This dataset contains 3,984 medical sentences extracted from PubMed abstracts and relationships between discrete medical terms were annotated. This dataset focuses primarily on “treat” and “cause” relationships, with 1,043 sentences containing treatment relations and 1,787 containing causal ones.\n",
    "\n",
    "Human-in-the-loop annotators were given two different terms (such as “Lewy Body Dementia” and “Well-formed Visual Hallucinations”) and were asked to mark the relationship between those terms (in this case “Lewy Body Dementia causes Well-Formed Visual Hallucinations).\n",
    "## Data reference\n",
    "- [CrowdTruth Measures for Language Ambiguity](http://ceur-ws.org/Vol-1467/LD4IE2015_Dumitrache.pdf)\n",
    "- [Achieving expert-level annotation quality with crowdtruth](https://pdfs.semanticscholar.org/f760/1751415836c59b0cf4d08df0945bcc8bf4ab.pdf)\n",
    "- [CrowdTruth ground truth for medical relation extraction (github)](https://github.com/CrowdTruth/Medical-Relation-Extraction/)"
   ]
  },
  {
   "cell_type": "markdown",
   "metadata": {},
   "source": [
    "# Plan of the project\n",
    "We will use transfer learning strategy for the project. The retionale behind this idea came out of the fact that 2,830 sentences are quite not enough to build the deep learning model with high accuracy.\n",
    "\n",
    "The first base model we will use is `AWD-LSTM/QRNN` model trained with `Wikitext 103` dataset.\n",
    "- [data reference](https://arxiv.org/abs/1609.07843)\n",
    "- [AWD-LSTM/QRNN](https://arxiv.org/abs/1708.02182)\n",
    "\n",
    "Secondly, we will train our `Figure Eight` language model with transfer learning method from the `AWD-LSTM/QRNN` model.\\\n",
    "The final deep learning model which does the job we are interested in will be the tranfer-learned model from the `Figure Eight` language model.\n",
    "\n",
    "(Put a intuitive figure here about the plan)"
   ]
  },
  {
   "cell_type": "markdown",
   "metadata": {},
   "source": [
    "# Data exploration\n",
    "From the given research papers, this dataset represents twelve  relations in medical sentences:\n",
    "![set_of_medical_relation](./figures/set_of_medical_relations.png)"
   ]
  },
  {
   "cell_type": "markdown",
   "metadata": {},
   "source": [
    "## Importing libraries"
   ]
  },
  {
   "cell_type": "code",
   "execution_count": 1,
   "metadata": {},
   "outputs": [],
   "source": [
    "import os\n",
    "import re\n",
    "import pathlib\n",
    "\n",
    "import pandas as pd\n",
    "import torch\n",
    "from fastai.text import *\n",
    "from fastai.callbacks.tracker import EarlyStoppingCallback"
   ]
  },
  {
   "cell_type": "markdown",
   "metadata": {},
   "source": [
    "## Importing train dataset"
   ]
  },
  {
   "cell_type": "code",
   "execution_count": 2,
   "metadata": {},
   "outputs": [],
   "source": [
    "cwd = pathlib.Path.cwd()\n",
    "path = cwd/'data'\n",
    "\n",
    "train = pd.read_csv(path/'train.csv')"
   ]
  },
  {
   "cell_type": "markdown",
   "metadata": {},
   "source": [
    "## Data inspection"
   ]
  },
  {
   "cell_type": "markdown",
   "metadata": {},
   "source": [
    "Dataset has a 25 columns with following names."
   ]
  },
  {
   "cell_type": "code",
   "execution_count": 3,
   "metadata": {},
   "outputs": [
    {
     "name": "stdout",
     "output_type": "stream",
     "text": [
      "length of columns: 25\n",
      "column names:\n",
      "['_unit_id', '_created_at', '_canary', '_id', '_started_at', '_channel', '_trust', '_worker_id', '_country', '_region', '_city', '_ip', 'direction', 'b1', 'b2', 'direction_gold', 'e1', 'e2', 'relation', 'relex_relcos', 'sent_id', 'sentence', 'term1', 'term2', 'twrex']\n"
     ]
    }
   ],
   "source": [
    "columns = list(train.columns)\n",
    "print(f'length of columns: {len(columns)}')\n",
    "print(f'column names:\\n{columns}')"
   ]
  },
  {
   "cell_type": "markdown",
   "metadata": {},
   "source": [
    "Here are the 10 head samples of the dataset. Dataframe is transposed to see all the column values for the convenience."
   ]
  },
  {
   "cell_type": "code",
   "execution_count": 4,
   "metadata": {},
   "outputs": [
    {
     "data": {
      "text/html": [
       "<div>\n",
       "<style scoped>\n",
       "    .dataframe tbody tr th:only-of-type {\n",
       "        vertical-align: middle;\n",
       "    }\n",
       "\n",
       "    .dataframe tbody tr th {\n",
       "        vertical-align: top;\n",
       "    }\n",
       "\n",
       "    .dataframe thead th {\n",
       "        text-align: right;\n",
       "    }\n",
       "</style>\n",
       "<table border=\"1\" class=\"dataframe\">\n",
       "  <thead>\n",
       "    <tr style=\"text-align: right;\">\n",
       "      <th></th>\n",
       "      <th>0</th>\n",
       "      <th>1</th>\n",
       "      <th>2</th>\n",
       "      <th>3</th>\n",
       "      <th>4</th>\n",
       "      <th>5</th>\n",
       "      <th>6</th>\n",
       "      <th>7</th>\n",
       "      <th>8</th>\n",
       "      <th>9</th>\n",
       "    </tr>\n",
       "  </thead>\n",
       "  <tbody>\n",
       "    <tr>\n",
       "      <th>_unit_id</th>\n",
       "      <td>502808352</td>\n",
       "      <td>502808352</td>\n",
       "      <td>502808352</td>\n",
       "      <td>502808352</td>\n",
       "      <td>502808352</td>\n",
       "      <td>502808352</td>\n",
       "      <td>502808352</td>\n",
       "      <td>502808354</td>\n",
       "      <td>502808354</td>\n",
       "      <td>502808354</td>\n",
       "    </tr>\n",
       "    <tr>\n",
       "      <th>_created_at</th>\n",
       "      <td>7/13/2014 13:48:35</td>\n",
       "      <td>7/13/2014 13:51:12</td>\n",
       "      <td>7/13/2014 16:24:57</td>\n",
       "      <td>7/13/2014 16:33:49</td>\n",
       "      <td>7/13/2014 16:47:27</td>\n",
       "      <td>7/13/2014 16:56:13</td>\n",
       "      <td>7/13/2014 17:14:41</td>\n",
       "      <td>7/13/2014 13:45:15</td>\n",
       "      <td>7/13/2014 13:50:45</td>\n",
       "      <td>7/13/2014 14:07:58</td>\n",
       "    </tr>\n",
       "    <tr>\n",
       "      <th>_canary</th>\n",
       "      <td>NaN</td>\n",
       "      <td>NaN</td>\n",
       "      <td>NaN</td>\n",
       "      <td>NaN</td>\n",
       "      <td>NaN</td>\n",
       "      <td>NaN</td>\n",
       "      <td>NaN</td>\n",
       "      <td>NaN</td>\n",
       "      <td>NaN</td>\n",
       "      <td>NaN</td>\n",
       "    </tr>\n",
       "    <tr>\n",
       "      <th>_id</th>\n",
       "      <td>1321892767</td>\n",
       "      <td>1321894040</td>\n",
       "      <td>1321961909</td>\n",
       "      <td>1321965723</td>\n",
       "      <td>1321970904</td>\n",
       "      <td>1321973849</td>\n",
       "      <td>1321979856</td>\n",
       "      <td>1321891302</td>\n",
       "      <td>1321893871</td>\n",
       "      <td>1321902037</td>\n",
       "    </tr>\n",
       "    <tr>\n",
       "      <th>_started_at</th>\n",
       "      <td>7/13/2014 13:48:14</td>\n",
       "      <td>7/13/2014 13:51:07</td>\n",
       "      <td>7/13/2014 16:24:35</td>\n",
       "      <td>7/13/2014 16:33:31</td>\n",
       "      <td>7/13/2014 16:47:06</td>\n",
       "      <td>7/13/2014 16:55:37</td>\n",
       "      <td>7/13/2014 17:14:06</td>\n",
       "      <td>7/13/2014 13:44:25</td>\n",
       "      <td>7/13/2014 13:50:40</td>\n",
       "      <td>7/13/2014 14:07:28</td>\n",
       "    </tr>\n",
       "    <tr>\n",
       "      <th>_channel</th>\n",
       "      <td>clixsense</td>\n",
       "      <td>neodev</td>\n",
       "      <td>instagc</td>\n",
       "      <td>elite</td>\n",
       "      <td>neodev</td>\n",
       "      <td>clixsense</td>\n",
       "      <td>prodege</td>\n",
       "      <td>clixsense</td>\n",
       "      <td>neodev</td>\n",
       "      <td>prodege</td>\n",
       "    </tr>\n",
       "    <tr>\n",
       "      <th>_trust</th>\n",
       "      <td>0.9167</td>\n",
       "      <td>0.8333</td>\n",
       "      <td>0.6639</td>\n",
       "      <td>0.3923</td>\n",
       "      <td>0.6552</td>\n",
       "      <td>0.6639</td>\n",
       "      <td>0.6151</td>\n",
       "      <td>0.9167</td>\n",
       "      <td>0.8333</td>\n",
       "      <td>0.9444</td>\n",
       "    </tr>\n",
       "    <tr>\n",
       "      <th>_worker_id</th>\n",
       "      <td>27871219</td>\n",
       "      <td>17610000</td>\n",
       "      <td>25990856</td>\n",
       "      <td>28276268</td>\n",
       "      <td>27597779</td>\n",
       "      <td>28037714</td>\n",
       "      <td>2422962</td>\n",
       "      <td>27871219</td>\n",
       "      <td>17610000</td>\n",
       "      <td>23977248</td>\n",
       "    </tr>\n",
       "    <tr>\n",
       "      <th>_country</th>\n",
       "      <td>NLD</td>\n",
       "      <td>GBR</td>\n",
       "      <td>USA</td>\n",
       "      <td>USA</td>\n",
       "      <td>CAN</td>\n",
       "      <td>GBR</td>\n",
       "      <td>USA</td>\n",
       "      <td>NLD</td>\n",
       "      <td>GBR</td>\n",
       "      <td>GBR</td>\n",
       "    </tr>\n",
       "    <tr>\n",
       "      <th>_region</th>\n",
       "      <td>07</td>\n",
       "      <td>I2</td>\n",
       "      <td>NV</td>\n",
       "      <td>CA</td>\n",
       "      <td>AB</td>\n",
       "      <td>I4</td>\n",
       "      <td>IA</td>\n",
       "      <td>07</td>\n",
       "      <td>I2</td>\n",
       "      <td>B5</td>\n",
       "    </tr>\n",
       "    <tr>\n",
       "      <th>_city</th>\n",
       "      <td>Amsterdam</td>\n",
       "      <td>Manchester</td>\n",
       "      <td>Las Vegas</td>\n",
       "      <td>San Diego</td>\n",
       "      <td>Calgary</td>\n",
       "      <td>Mitcham</td>\n",
       "      <td>Honey Creek</td>\n",
       "      <td>Amsterdam</td>\n",
       "      <td>Manchester</td>\n",
       "      <td>Wembley</td>\n",
       "    </tr>\n",
       "    <tr>\n",
       "      <th>_ip</th>\n",
       "      <td>87.210.207.223</td>\n",
       "      <td>90.200.140.201</td>\n",
       "      <td>68.108.98.78</td>\n",
       "      <td>76.88.95.100</td>\n",
       "      <td>68.146.86.137</td>\n",
       "      <td>94.4.232.118</td>\n",
       "      <td>12.73.110.97</td>\n",
       "      <td>87.210.207.223</td>\n",
       "      <td>90.200.140.201</td>\n",
       "      <td>82.28.55.95</td>\n",
       "    </tr>\n",
       "    <tr>\n",
       "      <th>direction</th>\n",
       "      <td>IM CEFTRIAXONE treats URETHRAL OR RECTAL GONOR...</td>\n",
       "      <td>URETHRAL OR RECTAL GONORRHEA treats IM CEFTRIA...</td>\n",
       "      <td>IM CEFTRIAXONE treats URETHRAL OR RECTAL GONOR...</td>\n",
       "      <td>URETHRAL OR RECTAL GONORRHEA treats IM CEFTRIA...</td>\n",
       "      <td>IM CEFTRIAXONE treats URETHRAL OR RECTAL GONOR...</td>\n",
       "      <td>IM CEFTRIAXONE treats URETHRAL OR RECTAL GONOR...</td>\n",
       "      <td>IM CEFTRIAXONE treats URETHRAL OR RECTAL GONOR...</td>\n",
       "      <td>no_relation</td>\n",
       "      <td>OSTEOSARCOMA diagnosed by RETINOBLASTOMA</td>\n",
       "      <td>no_relation</td>\n",
       "    </tr>\n",
       "    <tr>\n",
       "      <th>b1</th>\n",
       "      <td>41</td>\n",
       "      <td>41</td>\n",
       "      <td>41</td>\n",
       "      <td>41</td>\n",
       "      <td>41</td>\n",
       "      <td>41</td>\n",
       "      <td>41</td>\n",
       "      <td>175</td>\n",
       "      <td>175</td>\n",
       "      <td>175</td>\n",
       "    </tr>\n",
       "    <tr>\n",
       "      <th>b2</th>\n",
       "      <td>128</td>\n",
       "      <td>128</td>\n",
       "      <td>128</td>\n",
       "      <td>128</td>\n",
       "      <td>128</td>\n",
       "      <td>128</td>\n",
       "      <td>128</td>\n",
       "      <td>203</td>\n",
       "      <td>203</td>\n",
       "      <td>203</td>\n",
       "    </tr>\n",
       "    <tr>\n",
       "      <th>direction_gold</th>\n",
       "      <td>NaN</td>\n",
       "      <td>NaN</td>\n",
       "      <td>NaN</td>\n",
       "      <td>NaN</td>\n",
       "      <td>NaN</td>\n",
       "      <td>NaN</td>\n",
       "      <td>NaN</td>\n",
       "      <td>NaN</td>\n",
       "      <td>NaN</td>\n",
       "      <td>NaN</td>\n",
       "    </tr>\n",
       "    <tr>\n",
       "      <th>e1</th>\n",
       "      <td>69</td>\n",
       "      <td>69</td>\n",
       "      <td>69</td>\n",
       "      <td>69</td>\n",
       "      <td>69</td>\n",
       "      <td>69</td>\n",
       "      <td>69</td>\n",
       "      <td>187</td>\n",
       "      <td>187</td>\n",
       "      <td>187</td>\n",
       "    </tr>\n",
       "    <tr>\n",
       "      <th>e2</th>\n",
       "      <td>142</td>\n",
       "      <td>142</td>\n",
       "      <td>142</td>\n",
       "      <td>142</td>\n",
       "      <td>142</td>\n",
       "      <td>142</td>\n",
       "      <td>142</td>\n",
       "      <td>217</td>\n",
       "      <td>217</td>\n",
       "      <td>217</td>\n",
       "    </tr>\n",
       "    <tr>\n",
       "      <th>relation</th>\n",
       "      <td>treats</td>\n",
       "      <td>treats</td>\n",
       "      <td>treats</td>\n",
       "      <td>treats</td>\n",
       "      <td>treats</td>\n",
       "      <td>treats</td>\n",
       "      <td>treats</td>\n",
       "      <td>diagnosed by</td>\n",
       "      <td>diagnosed by</td>\n",
       "      <td>diagnosed by</td>\n",
       "    </tr>\n",
       "    <tr>\n",
       "      <th>relex_relcos</th>\n",
       "      <td>1</td>\n",
       "      <td>1</td>\n",
       "      <td>1</td>\n",
       "      <td>1</td>\n",
       "      <td>1</td>\n",
       "      <td>1</td>\n",
       "      <td>1</td>\n",
       "      <td>0.53033</td>\n",
       "      <td>0.53033</td>\n",
       "      <td>0.53033</td>\n",
       "    </tr>\n",
       "    <tr>\n",
       "      <th>sent_id</th>\n",
       "      <td>907845-FS1-2</td>\n",
       "      <td>907845-FS1-2</td>\n",
       "      <td>907845-FS1-2</td>\n",
       "      <td>907845-FS1-2</td>\n",
       "      <td>907845-FS1-2</td>\n",
       "      <td>907845-FS1-2</td>\n",
       "      <td>907845-FS1-2</td>\n",
       "      <td>906321-FS1-13</td>\n",
       "      <td>906321-FS1-13</td>\n",
       "      <td>906321-FS1-13</td>\n",
       "    </tr>\n",
       "    <tr>\n",
       "      <th>sentence</th>\n",
       "      <td>For treatment of uncomplicated cervical, URETH...</td>\n",
       "      <td>For treatment of uncomplicated cervical, URETH...</td>\n",
       "      <td>For treatment of uncomplicated cervical, URETH...</td>\n",
       "      <td>For treatment of uncomplicated cervical, URETH...</td>\n",
       "      <td>For treatment of uncomplicated cervical, URETH...</td>\n",
       "      <td>For treatment of uncomplicated cervical, URETH...</td>\n",
       "      <td>For treatment of uncomplicated cervical, URETH...</td>\n",
       "      <td>Diagnosis specific malignancies available for ...</td>\n",
       "      <td>Diagnosis specific malignancies available for ...</td>\n",
       "      <td>Diagnosis specific malignancies available for ...</td>\n",
       "    </tr>\n",
       "    <tr>\n",
       "      <th>term1</th>\n",
       "      <td>URETHRAL OR RECTAL GONORRHEA</td>\n",
       "      <td>URETHRAL OR RECTAL GONORRHEA</td>\n",
       "      <td>URETHRAL OR RECTAL GONORRHEA</td>\n",
       "      <td>URETHRAL OR RECTAL GONORRHEA</td>\n",
       "      <td>URETHRAL OR RECTAL GONORRHEA</td>\n",
       "      <td>URETHRAL OR RECTAL GONORRHEA</td>\n",
       "      <td>URETHRAL OR RECTAL GONORRHEA</td>\n",
       "      <td>OSTEOSARCOMA</td>\n",
       "      <td>OSTEOSARCOMA</td>\n",
       "      <td>OSTEOSARCOMA</td>\n",
       "    </tr>\n",
       "    <tr>\n",
       "      <th>term2</th>\n",
       "      <td>IM CEFTRIAXONE</td>\n",
       "      <td>IM CEFTRIAXONE</td>\n",
       "      <td>IM CEFTRIAXONE</td>\n",
       "      <td>IM CEFTRIAXONE</td>\n",
       "      <td>IM CEFTRIAXONE</td>\n",
       "      <td>IM CEFTRIAXONE</td>\n",
       "      <td>IM CEFTRIAXONE</td>\n",
       "      <td>RETINOBLASTOMA</td>\n",
       "      <td>RETINOBLASTOMA</td>\n",
       "      <td>RETINOBLASTOMA</td>\n",
       "    </tr>\n",
       "    <tr>\n",
       "      <th>twrex</th>\n",
       "      <td>RO-may_treat</td>\n",
       "      <td>RO-may_treat</td>\n",
       "      <td>RO-may_treat</td>\n",
       "      <td>RO-may_treat</td>\n",
       "      <td>RO-may_treat</td>\n",
       "      <td>RO-may_treat</td>\n",
       "      <td>RO-may_treat</td>\n",
       "      <td>RO-has_manifestation</td>\n",
       "      <td>RO-has_manifestation</td>\n",
       "      <td>RO-has_manifestation</td>\n",
       "    </tr>\n",
       "  </tbody>\n",
       "</table>\n",
       "</div>"
      ],
      "text/plain": [
       "                                                                0  \\\n",
       "_unit_id                                                502808352   \n",
       "_created_at                                    7/13/2014 13:48:35   \n",
       "_canary                                                       NaN   \n",
       "_id                                                    1321892767   \n",
       "_started_at                                    7/13/2014 13:48:14   \n",
       "_channel                                                clixsense   \n",
       "_trust                                                     0.9167   \n",
       "_worker_id                                               27871219   \n",
       "_country                                                      NLD   \n",
       "_region                                                        07   \n",
       "_city                                                   Amsterdam   \n",
       "_ip                                                87.210.207.223   \n",
       "direction       IM CEFTRIAXONE treats URETHRAL OR RECTAL GONOR...   \n",
       "b1                                                             41   \n",
       "b2                                                            128   \n",
       "direction_gold                                                NaN   \n",
       "e1                                                             69   \n",
       "e2                                                            142   \n",
       "relation                                                   treats   \n",
       "relex_relcos                                                    1   \n",
       "sent_id                                              907845-FS1-2   \n",
       "sentence        For treatment of uncomplicated cervical, URETH...   \n",
       "term1                                URETHRAL OR RECTAL GONORRHEA   \n",
       "term2                                              IM CEFTRIAXONE   \n",
       "twrex                                                RO-may_treat   \n",
       "\n",
       "                                                                1  \\\n",
       "_unit_id                                                502808352   \n",
       "_created_at                                    7/13/2014 13:51:12   \n",
       "_canary                                                       NaN   \n",
       "_id                                                    1321894040   \n",
       "_started_at                                    7/13/2014 13:51:07   \n",
       "_channel                                                   neodev   \n",
       "_trust                                                     0.8333   \n",
       "_worker_id                                               17610000   \n",
       "_country                                                      GBR   \n",
       "_region                                                        I2   \n",
       "_city                                                  Manchester   \n",
       "_ip                                                90.200.140.201   \n",
       "direction       URETHRAL OR RECTAL GONORRHEA treats IM CEFTRIA...   \n",
       "b1                                                             41   \n",
       "b2                                                            128   \n",
       "direction_gold                                                NaN   \n",
       "e1                                                             69   \n",
       "e2                                                            142   \n",
       "relation                                                   treats   \n",
       "relex_relcos                                                    1   \n",
       "sent_id                                              907845-FS1-2   \n",
       "sentence        For treatment of uncomplicated cervical, URETH...   \n",
       "term1                                URETHRAL OR RECTAL GONORRHEA   \n",
       "term2                                              IM CEFTRIAXONE   \n",
       "twrex                                                RO-may_treat   \n",
       "\n",
       "                                                                2  \\\n",
       "_unit_id                                                502808352   \n",
       "_created_at                                    7/13/2014 16:24:57   \n",
       "_canary                                                       NaN   \n",
       "_id                                                    1321961909   \n",
       "_started_at                                    7/13/2014 16:24:35   \n",
       "_channel                                                  instagc   \n",
       "_trust                                                     0.6639   \n",
       "_worker_id                                               25990856   \n",
       "_country                                                      USA   \n",
       "_region                                                        NV   \n",
       "_city                                                   Las Vegas   \n",
       "_ip                                                  68.108.98.78   \n",
       "direction       IM CEFTRIAXONE treats URETHRAL OR RECTAL GONOR...   \n",
       "b1                                                             41   \n",
       "b2                                                            128   \n",
       "direction_gold                                                NaN   \n",
       "e1                                                             69   \n",
       "e2                                                            142   \n",
       "relation                                                   treats   \n",
       "relex_relcos                                                    1   \n",
       "sent_id                                              907845-FS1-2   \n",
       "sentence        For treatment of uncomplicated cervical, URETH...   \n",
       "term1                                URETHRAL OR RECTAL GONORRHEA   \n",
       "term2                                              IM CEFTRIAXONE   \n",
       "twrex                                                RO-may_treat   \n",
       "\n",
       "                                                                3  \\\n",
       "_unit_id                                                502808352   \n",
       "_created_at                                    7/13/2014 16:33:49   \n",
       "_canary                                                       NaN   \n",
       "_id                                                    1321965723   \n",
       "_started_at                                    7/13/2014 16:33:31   \n",
       "_channel                                                    elite   \n",
       "_trust                                                     0.3923   \n",
       "_worker_id                                               28276268   \n",
       "_country                                                      USA   \n",
       "_region                                                        CA   \n",
       "_city                                                   San Diego   \n",
       "_ip                                                  76.88.95.100   \n",
       "direction       URETHRAL OR RECTAL GONORRHEA treats IM CEFTRIA...   \n",
       "b1                                                             41   \n",
       "b2                                                            128   \n",
       "direction_gold                                                NaN   \n",
       "e1                                                             69   \n",
       "e2                                                            142   \n",
       "relation                                                   treats   \n",
       "relex_relcos                                                    1   \n",
       "sent_id                                              907845-FS1-2   \n",
       "sentence        For treatment of uncomplicated cervical, URETH...   \n",
       "term1                                URETHRAL OR RECTAL GONORRHEA   \n",
       "term2                                              IM CEFTRIAXONE   \n",
       "twrex                                                RO-may_treat   \n",
       "\n",
       "                                                                4  \\\n",
       "_unit_id                                                502808352   \n",
       "_created_at                                    7/13/2014 16:47:27   \n",
       "_canary                                                       NaN   \n",
       "_id                                                    1321970904   \n",
       "_started_at                                    7/13/2014 16:47:06   \n",
       "_channel                                                   neodev   \n",
       "_trust                                                     0.6552   \n",
       "_worker_id                                               27597779   \n",
       "_country                                                      CAN   \n",
       "_region                                                        AB   \n",
       "_city                                                     Calgary   \n",
       "_ip                                                 68.146.86.137   \n",
       "direction       IM CEFTRIAXONE treats URETHRAL OR RECTAL GONOR...   \n",
       "b1                                                             41   \n",
       "b2                                                            128   \n",
       "direction_gold                                                NaN   \n",
       "e1                                                             69   \n",
       "e2                                                            142   \n",
       "relation                                                   treats   \n",
       "relex_relcos                                                    1   \n",
       "sent_id                                              907845-FS1-2   \n",
       "sentence        For treatment of uncomplicated cervical, URETH...   \n",
       "term1                                URETHRAL OR RECTAL GONORRHEA   \n",
       "term2                                              IM CEFTRIAXONE   \n",
       "twrex                                                RO-may_treat   \n",
       "\n",
       "                                                                5  \\\n",
       "_unit_id                                                502808352   \n",
       "_created_at                                    7/13/2014 16:56:13   \n",
       "_canary                                                       NaN   \n",
       "_id                                                    1321973849   \n",
       "_started_at                                    7/13/2014 16:55:37   \n",
       "_channel                                                clixsense   \n",
       "_trust                                                     0.6639   \n",
       "_worker_id                                               28037714   \n",
       "_country                                                      GBR   \n",
       "_region                                                        I4   \n",
       "_city                                                     Mitcham   \n",
       "_ip                                                  94.4.232.118   \n",
       "direction       IM CEFTRIAXONE treats URETHRAL OR RECTAL GONOR...   \n",
       "b1                                                             41   \n",
       "b2                                                            128   \n",
       "direction_gold                                                NaN   \n",
       "e1                                                             69   \n",
       "e2                                                            142   \n",
       "relation                                                   treats   \n",
       "relex_relcos                                                    1   \n",
       "sent_id                                              907845-FS1-2   \n",
       "sentence        For treatment of uncomplicated cervical, URETH...   \n",
       "term1                                URETHRAL OR RECTAL GONORRHEA   \n",
       "term2                                              IM CEFTRIAXONE   \n",
       "twrex                                                RO-may_treat   \n",
       "\n",
       "                                                                6  \\\n",
       "_unit_id                                                502808352   \n",
       "_created_at                                    7/13/2014 17:14:41   \n",
       "_canary                                                       NaN   \n",
       "_id                                                    1321979856   \n",
       "_started_at                                    7/13/2014 17:14:06   \n",
       "_channel                                                  prodege   \n",
       "_trust                                                     0.6151   \n",
       "_worker_id                                                2422962   \n",
       "_country                                                      USA   \n",
       "_region                                                        IA   \n",
       "_city                                                 Honey Creek   \n",
       "_ip                                                  12.73.110.97   \n",
       "direction       IM CEFTRIAXONE treats URETHRAL OR RECTAL GONOR...   \n",
       "b1                                                             41   \n",
       "b2                                                            128   \n",
       "direction_gold                                                NaN   \n",
       "e1                                                             69   \n",
       "e2                                                            142   \n",
       "relation                                                   treats   \n",
       "relex_relcos                                                    1   \n",
       "sent_id                                              907845-FS1-2   \n",
       "sentence        For treatment of uncomplicated cervical, URETH...   \n",
       "term1                                URETHRAL OR RECTAL GONORRHEA   \n",
       "term2                                              IM CEFTRIAXONE   \n",
       "twrex                                                RO-may_treat   \n",
       "\n",
       "                                                                7  \\\n",
       "_unit_id                                                502808354   \n",
       "_created_at                                    7/13/2014 13:45:15   \n",
       "_canary                                                       NaN   \n",
       "_id                                                    1321891302   \n",
       "_started_at                                    7/13/2014 13:44:25   \n",
       "_channel                                                clixsense   \n",
       "_trust                                                     0.9167   \n",
       "_worker_id                                               27871219   \n",
       "_country                                                      NLD   \n",
       "_region                                                        07   \n",
       "_city                                                   Amsterdam   \n",
       "_ip                                                87.210.207.223   \n",
       "direction                                             no_relation   \n",
       "b1                                                            175   \n",
       "b2                                                            203   \n",
       "direction_gold                                                NaN   \n",
       "e1                                                            187   \n",
       "e2                                                            217   \n",
       "relation                                             diagnosed by   \n",
       "relex_relcos                                              0.53033   \n",
       "sent_id                                             906321-FS1-13   \n",
       "sentence        Diagnosis specific malignancies available for ...   \n",
       "term1                                                OSTEOSARCOMA   \n",
       "term2                                              RETINOBLASTOMA   \n",
       "twrex                                        RO-has_manifestation   \n",
       "\n",
       "                                                                8  \\\n",
       "_unit_id                                                502808354   \n",
       "_created_at                                    7/13/2014 13:50:45   \n",
       "_canary                                                       NaN   \n",
       "_id                                                    1321893871   \n",
       "_started_at                                    7/13/2014 13:50:40   \n",
       "_channel                                                   neodev   \n",
       "_trust                                                     0.8333   \n",
       "_worker_id                                               17610000   \n",
       "_country                                                      GBR   \n",
       "_region                                                        I2   \n",
       "_city                                                  Manchester   \n",
       "_ip                                                90.200.140.201   \n",
       "direction                OSTEOSARCOMA diagnosed by RETINOBLASTOMA   \n",
       "b1                                                            175   \n",
       "b2                                                            203   \n",
       "direction_gold                                                NaN   \n",
       "e1                                                            187   \n",
       "e2                                                            217   \n",
       "relation                                             diagnosed by   \n",
       "relex_relcos                                              0.53033   \n",
       "sent_id                                             906321-FS1-13   \n",
       "sentence        Diagnosis specific malignancies available for ...   \n",
       "term1                                                OSTEOSARCOMA   \n",
       "term2                                              RETINOBLASTOMA   \n",
       "twrex                                        RO-has_manifestation   \n",
       "\n",
       "                                                                9  \n",
       "_unit_id                                                502808354  \n",
       "_created_at                                    7/13/2014 14:07:58  \n",
       "_canary                                                       NaN  \n",
       "_id                                                    1321902037  \n",
       "_started_at                                    7/13/2014 14:07:28  \n",
       "_channel                                                  prodege  \n",
       "_trust                                                     0.9444  \n",
       "_worker_id                                               23977248  \n",
       "_country                                                      GBR  \n",
       "_region                                                        B5  \n",
       "_city                                                     Wembley  \n",
       "_ip                                                   82.28.55.95  \n",
       "direction                                             no_relation  \n",
       "b1                                                            175  \n",
       "b2                                                            203  \n",
       "direction_gold                                                NaN  \n",
       "e1                                                            187  \n",
       "e2                                                            217  \n",
       "relation                                             diagnosed by  \n",
       "relex_relcos                                              0.53033  \n",
       "sent_id                                             906321-FS1-13  \n",
       "sentence        Diagnosis specific malignancies available for ...  \n",
       "term1                                                OSTEOSARCOMA  \n",
       "term2                                              RETINOBLASTOMA  \n",
       "twrex                                        RO-has_manifestation  "
      ]
     },
     "execution_count": 4,
     "metadata": {},
     "output_type": "execute_result"
    }
   ],
   "source": [
    "train.head(10).T"
   ]
  },
  {
   "cell_type": "markdown",
   "metadata": {},
   "source": [
    "### Column explanation from the document:\n",
    "* **SID**: unique ID of the sentence and term pair\n",
    "* **relation**: medical relation\n",
    "* **sentence**: medical sentence\n",
    "* **term1, term**: the 2 medical terms after correction with *FactSpan* and *RelDir*; together, they express the relation: ```term1 cause of/treated by term2```\n",
    "* **b1, b2**: the beginning position of each term in the sentence, measured in number of characters\n",
    "* **e1, e2**: the end position of each term in the sentence, measured in number of characters\n",
    "* **sentence_relation_score**: the sentence relation score of the medical relation; using cosine similarity over the aggregated crowd data, it computes the likelihood that the relation is expressed between the 2 terms in the sentence\n",
    "* **crowd**: the score used to train the relation extraction classifier by Chang et al.(4) with crowd data; it is the sentence-relation score, with a threshold to select positive and negative examples equal to 0.5, and rescaled in [0.5, 1] for positives, and [-1, -0.5] for negatives.\n",
    "* **baseline**: discrete (positive or negative) labels are given for each data entry by the distant supervision (1) method, based on whether the relation is expressed between the 2 terms in the sentence\n",
    "* **expert**: discrete labels based on an expert’s judgment as to whether the *baseline* label is correct\n",
    "* **test_partition**: manual evaluation scores over the sentences where *crowd* and *expert* disagreed, used for evaluating the classifier; the sentence-relation score threshold was set at 0.7 for maximum agreement; sentences scored with 0 were determined to be unclear and were removed from testing\n",
    "* **term1_UMLS, term2_UMLS**: the original UMLS (4) terms used for distant supervision, before correction with *FactSpan* and *RelDir*\n",
    "* **UMLS_seed_relation**: the UMLS relation used as a seed in distant supervision to find the given entry\n",
    "\n",
    "There are some differences in the columns stated in the document and our dataset, but it seems enough for data analysis."
   ]
  },
  {
   "cell_type": "markdown",
   "metadata": {},
   "source": [
    "## Column selection\n",
    "We will use these columns to train our classifier:\n",
    "- direction\n",
    "- relation\n",
    "- relex_relcos\n",
    "- sentence\n",
    "- term1\n",
    "- term2\n",
    "\n",
    "### relex_relcos\n",
    "We could find some hints about what it means from the research papers mentioned earlier. The annotation process is named as `RelEx`(Relation Extraction task) in the research papers. And based on the `RelEx` task, sentence-annotaion score is calculated:\n",
    "\n",
    "> sentence-annotation score: A core CrowdTruth concept, this metric computes annotation ambiguity in a sentence with the use of `cosine similarity`. In the case of RelEx, it becomes the `sentence-relation score`, and is computed as the cosine similarity between the sentence vector and the unit vector for the relation: srs(s; r) = cos(Vs; ^r). **The higher the value of this metric, the more clearly the relation is expressed in the sentence.** (Dumitrache, A., Aroyo, L., & Welty, C. (2015). Achieving expert-level annotation quality with crowdtruth. In Proc. of BDM2I Workshop, ISWC.)\n",
    "\n",
    "Thus, we concluded that relex_relcos stands for **REL**ation **EX**traction task - **REL**ation **COS**ine similarity."
   ]
  },
  {
   "cell_type": "markdown",
   "metadata": {},
   "source": [
    "## Inputs and outputs\n",
    "- Input: the medical sentences\n",
    "- Output: relation between the terms.\n",
    "\n",
    "If we successfully create the classification model for the relation, we will improve our model to predict direction between terms in the sentences as well.\n",
    "\n",
    "---"
   ]
  },
  {
   "cell_type": "markdown",
   "metadata": {},
   "source": [
    "# Data preprocessing\n",
    "## 1. Dropping unnecessary columns."
   ]
  },
  {
   "cell_type": "code",
   "execution_count": 5,
   "metadata": {},
   "outputs": [],
   "source": [
    "drop = ['_unit_id', '_created_at', '_canary', '_id', '_started_at', '_channel', '_trust', '_worker_id', \n",
    "        '_country', '_region', '_city', '_ip', 'b1', 'b2', 'direction_gold', 'e1', 'e2', \n",
    "        'sent_id', 'twrex']\n",
    "\n",
    "train.drop(drop, axis=1, inplace=True)"
   ]
  },
  {
   "cell_type": "code",
   "execution_count": 6,
   "metadata": {},
   "outputs": [],
   "source": [
    "test = pd.read_csv(\"data/test.csv\")\n",
    "test.drop(drop, axis=1, inplace=True)\n",
    "\n",
    "validation = pd.read_csv(\"data/validation.csv\")\n",
    "validation.drop(drop, axis=1, inplace=True)"
   ]
  },
  {
   "cell_type": "code",
   "execution_count": 7,
   "metadata": {},
   "outputs": [
    {
     "data": {
      "text/html": [
       "<div>\n",
       "<style scoped>\n",
       "    .dataframe tbody tr th:only-of-type {\n",
       "        vertical-align: middle;\n",
       "    }\n",
       "\n",
       "    .dataframe tbody tr th {\n",
       "        vertical-align: top;\n",
       "    }\n",
       "\n",
       "    .dataframe thead th {\n",
       "        text-align: right;\n",
       "    }\n",
       "</style>\n",
       "<table border=\"1\" class=\"dataframe\">\n",
       "  <thead>\n",
       "    <tr style=\"text-align: right;\">\n",
       "      <th></th>\n",
       "      <th>0</th>\n",
       "      <th>1</th>\n",
       "      <th>2</th>\n",
       "      <th>3</th>\n",
       "      <th>4</th>\n",
       "    </tr>\n",
       "  </thead>\n",
       "  <tbody>\n",
       "    <tr>\n",
       "      <th>direction</th>\n",
       "      <td>IM CEFTRIAXONE treats URETHRAL OR RECTAL GONOR...</td>\n",
       "      <td>URETHRAL OR RECTAL GONORRHEA treats IM CEFTRIA...</td>\n",
       "      <td>IM CEFTRIAXONE treats URETHRAL OR RECTAL GONOR...</td>\n",
       "      <td>URETHRAL OR RECTAL GONORRHEA treats IM CEFTRIA...</td>\n",
       "      <td>IM CEFTRIAXONE treats URETHRAL OR RECTAL GONOR...</td>\n",
       "    </tr>\n",
       "    <tr>\n",
       "      <th>relation</th>\n",
       "      <td>treats</td>\n",
       "      <td>treats</td>\n",
       "      <td>treats</td>\n",
       "      <td>treats</td>\n",
       "      <td>treats</td>\n",
       "    </tr>\n",
       "    <tr>\n",
       "      <th>relex_relcos</th>\n",
       "      <td>1</td>\n",
       "      <td>1</td>\n",
       "      <td>1</td>\n",
       "      <td>1</td>\n",
       "      <td>1</td>\n",
       "    </tr>\n",
       "    <tr>\n",
       "      <th>sentence</th>\n",
       "      <td>For treatment of uncomplicated cervical, URETH...</td>\n",
       "      <td>For treatment of uncomplicated cervical, URETH...</td>\n",
       "      <td>For treatment of uncomplicated cervical, URETH...</td>\n",
       "      <td>For treatment of uncomplicated cervical, URETH...</td>\n",
       "      <td>For treatment of uncomplicated cervical, URETH...</td>\n",
       "    </tr>\n",
       "    <tr>\n",
       "      <th>term1</th>\n",
       "      <td>URETHRAL OR RECTAL GONORRHEA</td>\n",
       "      <td>URETHRAL OR RECTAL GONORRHEA</td>\n",
       "      <td>URETHRAL OR RECTAL GONORRHEA</td>\n",
       "      <td>URETHRAL OR RECTAL GONORRHEA</td>\n",
       "      <td>URETHRAL OR RECTAL GONORRHEA</td>\n",
       "    </tr>\n",
       "    <tr>\n",
       "      <th>term2</th>\n",
       "      <td>IM CEFTRIAXONE</td>\n",
       "      <td>IM CEFTRIAXONE</td>\n",
       "      <td>IM CEFTRIAXONE</td>\n",
       "      <td>IM CEFTRIAXONE</td>\n",
       "      <td>IM CEFTRIAXONE</td>\n",
       "    </tr>\n",
       "  </tbody>\n",
       "</table>\n",
       "</div>"
      ],
      "text/plain": [
       "                                                              0  \\\n",
       "direction     IM CEFTRIAXONE treats URETHRAL OR RECTAL GONOR...   \n",
       "relation                                                 treats   \n",
       "relex_relcos                                                  1   \n",
       "sentence      For treatment of uncomplicated cervical, URETH...   \n",
       "term1                              URETHRAL OR RECTAL GONORRHEA   \n",
       "term2                                            IM CEFTRIAXONE   \n",
       "\n",
       "                                                              1  \\\n",
       "direction     URETHRAL OR RECTAL GONORRHEA treats IM CEFTRIA...   \n",
       "relation                                                 treats   \n",
       "relex_relcos                                                  1   \n",
       "sentence      For treatment of uncomplicated cervical, URETH...   \n",
       "term1                              URETHRAL OR RECTAL GONORRHEA   \n",
       "term2                                            IM CEFTRIAXONE   \n",
       "\n",
       "                                                              2  \\\n",
       "direction     IM CEFTRIAXONE treats URETHRAL OR RECTAL GONOR...   \n",
       "relation                                                 treats   \n",
       "relex_relcos                                                  1   \n",
       "sentence      For treatment of uncomplicated cervical, URETH...   \n",
       "term1                              URETHRAL OR RECTAL GONORRHEA   \n",
       "term2                                            IM CEFTRIAXONE   \n",
       "\n",
       "                                                              3  \\\n",
       "direction     URETHRAL OR RECTAL GONORRHEA treats IM CEFTRIA...   \n",
       "relation                                                 treats   \n",
       "relex_relcos                                                  1   \n",
       "sentence      For treatment of uncomplicated cervical, URETH...   \n",
       "term1                              URETHRAL OR RECTAL GONORRHEA   \n",
       "term2                                            IM CEFTRIAXONE   \n",
       "\n",
       "                                                              4  \n",
       "direction     IM CEFTRIAXONE treats URETHRAL OR RECTAL GONOR...  \n",
       "relation                                                 treats  \n",
       "relex_relcos                                                  1  \n",
       "sentence      For treatment of uncomplicated cervical, URETH...  \n",
       "term1                              URETHRAL OR RECTAL GONORRHEA  \n",
       "term2                                            IM CEFTRIAXONE  "
      ]
     },
     "execution_count": 7,
     "metadata": {},
     "output_type": "execute_result"
    }
   ],
   "source": [
    "train.head().T"
   ]
  },
  {
   "cell_type": "code",
   "execution_count": 8,
   "metadata": {},
   "outputs": [
    {
     "data": {
      "text/html": [
       "<div>\n",
       "<style scoped>\n",
       "    .dataframe tbody tr th:only-of-type {\n",
       "        vertical-align: middle;\n",
       "    }\n",
       "\n",
       "    .dataframe tbody tr th {\n",
       "        vertical-align: top;\n",
       "    }\n",
       "\n",
       "    .dataframe thead th {\n",
       "        text-align: right;\n",
       "    }\n",
       "</style>\n",
       "<table border=\"1\" class=\"dataframe\">\n",
       "  <thead>\n",
       "    <tr style=\"text-align: right;\">\n",
       "      <th></th>\n",
       "      <th>0</th>\n",
       "      <th>1</th>\n",
       "      <th>2</th>\n",
       "      <th>3</th>\n",
       "      <th>4</th>\n",
       "    </tr>\n",
       "  </thead>\n",
       "  <tbody>\n",
       "    <tr>\n",
       "      <th>direction</th>\n",
       "      <td>LIVER location HEPATOCELLULAR CARCINOMA</td>\n",
       "      <td>LIVER location HEPATOCELLULAR CARCINOMA</td>\n",
       "      <td>HEPATOCELLULAR CARCINOMA location LIVER</td>\n",
       "      <td>HEPATOCELLULAR CARCINOMA location LIVER</td>\n",
       "      <td>no_relation</td>\n",
       "    </tr>\n",
       "    <tr>\n",
       "      <th>relation</th>\n",
       "      <td>location</td>\n",
       "      <td>location</td>\n",
       "      <td>location</td>\n",
       "      <td>location</td>\n",
       "      <td>location</td>\n",
       "    </tr>\n",
       "    <tr>\n",
       "      <th>relex_relcos</th>\n",
       "      <td>0.353553</td>\n",
       "      <td>0.353553</td>\n",
       "      <td>0.353553</td>\n",
       "      <td>0.353553</td>\n",
       "      <td>0.353553</td>\n",
       "    </tr>\n",
       "    <tr>\n",
       "      <th>sentence</th>\n",
       "      <td>Therefore, although serum P III P can be a use...</td>\n",
       "      <td>Therefore, although serum P III P can be a use...</td>\n",
       "      <td>Therefore, although serum P III P can be a use...</td>\n",
       "      <td>Therefore, although serum P III P can be a use...</td>\n",
       "      <td>Therefore, although serum P III P can be a use...</td>\n",
       "    </tr>\n",
       "    <tr>\n",
       "      <th>term1</th>\n",
       "      <td>LIVER</td>\n",
       "      <td>LIVER</td>\n",
       "      <td>LIVER</td>\n",
       "      <td>LIVER</td>\n",
       "      <td>LIVER</td>\n",
       "    </tr>\n",
       "    <tr>\n",
       "      <th>term2</th>\n",
       "      <td>HEPATOCELLULAR CARCINOMA</td>\n",
       "      <td>HEPATOCELLULAR CARCINOMA</td>\n",
       "      <td>HEPATOCELLULAR CARCINOMA</td>\n",
       "      <td>HEPATOCELLULAR CARCINOMA</td>\n",
       "      <td>HEPATOCELLULAR CARCINOMA</td>\n",
       "    </tr>\n",
       "  </tbody>\n",
       "</table>\n",
       "</div>"
      ],
      "text/plain": [
       "                                                              0  \\\n",
       "direction               LIVER location HEPATOCELLULAR CARCINOMA   \n",
       "relation                                               location   \n",
       "relex_relcos                                           0.353553   \n",
       "sentence      Therefore, although serum P III P can be a use...   \n",
       "term1                                                     LIVER   \n",
       "term2                                  HEPATOCELLULAR CARCINOMA   \n",
       "\n",
       "                                                              1  \\\n",
       "direction               LIVER location HEPATOCELLULAR CARCINOMA   \n",
       "relation                                               location   \n",
       "relex_relcos                                           0.353553   \n",
       "sentence      Therefore, although serum P III P can be a use...   \n",
       "term1                                                     LIVER   \n",
       "term2                                  HEPATOCELLULAR CARCINOMA   \n",
       "\n",
       "                                                              2  \\\n",
       "direction               HEPATOCELLULAR CARCINOMA location LIVER   \n",
       "relation                                               location   \n",
       "relex_relcos                                           0.353553   \n",
       "sentence      Therefore, although serum P III P can be a use...   \n",
       "term1                                                     LIVER   \n",
       "term2                                  HEPATOCELLULAR CARCINOMA   \n",
       "\n",
       "                                                              3  \\\n",
       "direction               HEPATOCELLULAR CARCINOMA location LIVER   \n",
       "relation                                               location   \n",
       "relex_relcos                                           0.353553   \n",
       "sentence      Therefore, although serum P III P can be a use...   \n",
       "term1                                                     LIVER   \n",
       "term2                                  HEPATOCELLULAR CARCINOMA   \n",
       "\n",
       "                                                              4  \n",
       "direction                                           no_relation  \n",
       "relation                                               location  \n",
       "relex_relcos                                           0.353553  \n",
       "sentence      Therefore, although serum P III P can be a use...  \n",
       "term1                                                     LIVER  \n",
       "term2                                  HEPATOCELLULAR CARCINOMA  "
      ]
     },
     "execution_count": 8,
     "metadata": {},
     "output_type": "execute_result"
    }
   ],
   "source": [
    "test.head().T"
   ]
  },
  {
   "cell_type": "code",
   "execution_count": 9,
   "metadata": {},
   "outputs": [
    {
     "data": {
      "text/html": [
       "<div>\n",
       "<style scoped>\n",
       "    .dataframe tbody tr th:only-of-type {\n",
       "        vertical-align: middle;\n",
       "    }\n",
       "\n",
       "    .dataframe tbody tr th {\n",
       "        vertical-align: top;\n",
       "    }\n",
       "\n",
       "    .dataframe thead th {\n",
       "        text-align: right;\n",
       "    }\n",
       "</style>\n",
       "<table border=\"1\" class=\"dataframe\">\n",
       "  <thead>\n",
       "    <tr style=\"text-align: right;\">\n",
       "      <th></th>\n",
       "      <th>0</th>\n",
       "      <th>1</th>\n",
       "      <th>2</th>\n",
       "      <th>3</th>\n",
       "      <th>4</th>\n",
       "    </tr>\n",
       "  </thead>\n",
       "  <tbody>\n",
       "    <tr>\n",
       "      <th>direction</th>\n",
       "      <td>PHEOCHROMOCYTOMA diagnosed by HYPERTENSION</td>\n",
       "      <td>PHEOCHROMOCYTOMA diagnosed by HYPERTENSION</td>\n",
       "      <td>HYPERTENSION diagnosed by PHEOCHROMOCYTOMA</td>\n",
       "      <td>no_relation</td>\n",
       "      <td>PHEOCHROMOCYTOMA diagnosed by HYPERTENSION</td>\n",
       "    </tr>\n",
       "    <tr>\n",
       "      <th>relation</th>\n",
       "      <td>diagnosed by</td>\n",
       "      <td>diagnosed by</td>\n",
       "      <td>diagnosed by</td>\n",
       "      <td>diagnosed by</td>\n",
       "      <td>diagnosed by</td>\n",
       "    </tr>\n",
       "    <tr>\n",
       "      <th>relex_relcos</th>\n",
       "      <td>0.824163</td>\n",
       "      <td>0.824163</td>\n",
       "      <td>0.824163</td>\n",
       "      <td>0.824163</td>\n",
       "      <td>0.824163</td>\n",
       "    </tr>\n",
       "    <tr>\n",
       "      <th>sentence</th>\n",
       "      <td>This case demonstrates a typical presentation ...</td>\n",
       "      <td>This case demonstrates a typical presentation ...</td>\n",
       "      <td>This case demonstrates a typical presentation ...</td>\n",
       "      <td>This case demonstrates a typical presentation ...</td>\n",
       "      <td>This case demonstrates a typical presentation ...</td>\n",
       "    </tr>\n",
       "    <tr>\n",
       "      <th>term1</th>\n",
       "      <td>HYPERTENSION</td>\n",
       "      <td>HYPERTENSION</td>\n",
       "      <td>HYPERTENSION</td>\n",
       "      <td>HYPERTENSION</td>\n",
       "      <td>HYPERTENSION</td>\n",
       "    </tr>\n",
       "    <tr>\n",
       "      <th>term2</th>\n",
       "      <td>PHEOCHROMOCYTOMA</td>\n",
       "      <td>PHEOCHROMOCYTOMA</td>\n",
       "      <td>PHEOCHROMOCYTOMA</td>\n",
       "      <td>PHEOCHROMOCYTOMA</td>\n",
       "      <td>PHEOCHROMOCYTOMA</td>\n",
       "    </tr>\n",
       "  </tbody>\n",
       "</table>\n",
       "</div>"
      ],
      "text/plain": [
       "                                                              0  \\\n",
       "direction            PHEOCHROMOCYTOMA diagnosed by HYPERTENSION   \n",
       "relation                                           diagnosed by   \n",
       "relex_relcos                                           0.824163   \n",
       "sentence      This case demonstrates a typical presentation ...   \n",
       "term1                                              HYPERTENSION   \n",
       "term2                                          PHEOCHROMOCYTOMA   \n",
       "\n",
       "                                                              1  \\\n",
       "direction            PHEOCHROMOCYTOMA diagnosed by HYPERTENSION   \n",
       "relation                                           diagnosed by   \n",
       "relex_relcos                                           0.824163   \n",
       "sentence      This case demonstrates a typical presentation ...   \n",
       "term1                                              HYPERTENSION   \n",
       "term2                                          PHEOCHROMOCYTOMA   \n",
       "\n",
       "                                                              2  \\\n",
       "direction            HYPERTENSION diagnosed by PHEOCHROMOCYTOMA   \n",
       "relation                                           diagnosed by   \n",
       "relex_relcos                                           0.824163   \n",
       "sentence      This case demonstrates a typical presentation ...   \n",
       "term1                                              HYPERTENSION   \n",
       "term2                                          PHEOCHROMOCYTOMA   \n",
       "\n",
       "                                                              3  \\\n",
       "direction                                           no_relation   \n",
       "relation                                           diagnosed by   \n",
       "relex_relcos                                           0.824163   \n",
       "sentence      This case demonstrates a typical presentation ...   \n",
       "term1                                              HYPERTENSION   \n",
       "term2                                          PHEOCHROMOCYTOMA   \n",
       "\n",
       "                                                              4  \n",
       "direction            PHEOCHROMOCYTOMA diagnosed by HYPERTENSION  \n",
       "relation                                           diagnosed by  \n",
       "relex_relcos                                           0.824163  \n",
       "sentence      This case demonstrates a typical presentation ...  \n",
       "term1                                              HYPERTENSION  \n",
       "term2                                          PHEOCHROMOCYTOMA  "
      ]
     },
     "execution_count": 9,
     "metadata": {},
     "output_type": "execute_result"
    }
   ],
   "source": [
    "validation.head().T"
   ]
  },
  {
   "cell_type": "markdown",
   "metadata": {},
   "source": [
    "## 2. Defect detection in each column"
   ]
  },
  {
   "cell_type": "markdown",
   "metadata": {},
   "source": [
    "### Shape of the dataset"
   ]
  },
  {
   "cell_type": "code",
   "execution_count": 10,
   "metadata": {},
   "outputs": [
    {
     "name": "stdout",
     "output_type": "stream",
     "text": [
      "train data shape: (13340, 6)\n",
      "validation data shape: (4270, 6)\n",
      "test data shape: (4566, 6)\n"
     ]
    }
   ],
   "source": [
    "print(f'train data shape: {train.shape}')\n",
    "print(f'validation data shape: {validation.shape}')\n",
    "print(f'test data shape: {test.shape}')"
   ]
  },
  {
   "cell_type": "markdown",
   "metadata": {},
   "source": [
    "### Types of the dataset"
   ]
  },
  {
   "cell_type": "code",
   "execution_count": 11,
   "metadata": {},
   "outputs": [
    {
     "name": "stdout",
     "output_type": "stream",
     "text": [
      "train dtype:\n",
      "direction        object\n",
      "relation         object\n",
      "relex_relcos    float64\n",
      "sentence         object\n",
      "term1            object\n",
      "term2            object\n",
      "dtype: object\n",
      "-----\n",
      "validation dtype:\n",
      "direction        object\n",
      "relation         object\n",
      "relex_relcos    float64\n",
      "sentence         object\n",
      "term1            object\n",
      "term2            object\n",
      "dtype: object\n",
      "-----\n",
      "test dtype:\n",
      "direction        object\n",
      "relation         object\n",
      "relex_relcos    float64\n",
      "sentence         object\n",
      "term1            object\n",
      "term2            object\n",
      "dtype: object\n",
      "-----\n"
     ]
    }
   ],
   "source": [
    "print(f'train dtype:\\n{train.dtypes}\\n-----')\n",
    "print(f'validation dtype:\\n{validation.dtypes}\\n-----')\n",
    "print(f'test dtype:\\n{test.dtypes}\\n-----')"
   ]
  },
  {
   "cell_type": "markdown",
   "metadata": {},
   "source": [
    "### Null value check"
   ]
  },
  {
   "cell_type": "code",
   "execution_count": 12,
   "metadata": {},
   "outputs": [
    {
     "data": {
      "text/plain": [
       "0"
      ]
     },
     "execution_count": 12,
     "metadata": {},
     "output_type": "execute_result"
    }
   ],
   "source": [
    "train['direction'].isna().sum()"
   ]
  },
  {
   "cell_type": "code",
   "execution_count": 13,
   "metadata": {},
   "outputs": [
    {
     "data": {
      "text/plain": [
       "0"
      ]
     },
     "execution_count": 13,
     "metadata": {},
     "output_type": "execute_result"
    }
   ],
   "source": [
    "validation['direction'].isna().sum()"
   ]
  },
  {
   "cell_type": "code",
   "execution_count": 14,
   "metadata": {},
   "outputs": [
    {
     "data": {
      "text/plain": [
       "0"
      ]
     },
     "execution_count": 14,
     "metadata": {},
     "output_type": "execute_result"
    }
   ],
   "source": [
    "test['direction'].isna().sum()"
   ]
  },
  {
   "cell_type": "markdown",
   "metadata": {},
   "source": [
    "### Duplicate value check"
   ]
  },
  {
   "cell_type": "markdown",
   "metadata": {},
   "source": [
    "It is normal to have much less unique values in `direction`, and `sentece` column because more then one annotator labeled relationship of two term in a sentence."
   ]
  },
  {
   "cell_type": "code",
   "execution_count": 15,
   "metadata": {},
   "outputs": [
    {
     "name": "stdout",
     "output_type": "stream",
     "text": [
      "Number of unique values of direction column in train: 2349\n",
      "Number of unique values of direction column in validation: 847\n",
      "Number of unique values of direction column in test: 862\n"
     ]
    }
   ],
   "source": [
    "print(f\"Number of unique values of direction column in train: {len(train['direction'].unique())}\")\n",
    "print(f\"Number of unique values of direction column in validation: {len(validation['direction'].unique())}\")\n",
    "print(f\"Number of unique values of direction column in test: {len(test['direction'].unique())}\")"
   ]
  },
  {
   "cell_type": "code",
   "execution_count": 16,
   "metadata": {},
   "outputs": [
    {
     "name": "stdout",
     "output_type": "stream",
     "text": [
      "Number of unique values of sentence column in train: 1618\n",
      "Number of unique values of sentence column in validation: 584\n",
      "Number of unique values of sentence column in test: 590\n"
     ]
    }
   ],
   "source": [
    "print(f\"Number of unique values of sentence column in train: {len(train['sentence'].unique())}\")\n",
    "print(f\"Number of unique values of sentence column in validation: {len(validation['sentence'].unique())}\")\n",
    "print(f\"Number of unique values of sentence column in test: {len(test['sentence'].unique())}\")"
   ]
  },
  {
   "cell_type": "code",
   "execution_count": 17,
   "metadata": {},
   "outputs": [
    {
     "name": "stdout",
     "output_type": "stream",
     "text": [
      "Number of unique values of term1 column in train: 1056\n",
      "Number of unique values of term1 column in validation: 465\n",
      "Number of unique values of term1 column in test: 458\n"
     ]
    }
   ],
   "source": [
    "print(f\"Number of unique values of term1 column in train: {len(train['term1'].unique())}\")\n",
    "print(f\"Number of unique values of term1 column in validation: {len(validation['term1'].unique())}\")\n",
    "print(f\"Number of unique values of term1 column in test: {len(test['term1'].unique())}\")"
   ]
  },
  {
   "cell_type": "code",
   "execution_count": 18,
   "metadata": {},
   "outputs": [
    {
     "name": "stdout",
     "output_type": "stream",
     "text": [
      "Number of unique values of term2 column in train: 1216\n",
      "Number of unique values of term2 column in validation: 494\n",
      "Number of unique values of term2 column in test: 504\n"
     ]
    }
   ],
   "source": [
    "print(f\"Number of unique values of term2 column in train: {len(train['term2'].unique())}\")\n",
    "print(f\"Number of unique values of term2 column in validation: {len(validation['term2'].unique())}\")\n",
    "print(f\"Number of unique values of term2 column in test: {len(test['term2'].unique())}\")"
   ]
  },
  {
   "cell_type": "markdown",
   "metadata": {},
   "source": [
    "### Ambiguity check"
   ]
  },
  {
   "cell_type": "markdown",
   "metadata": {},
   "source": [
    "There are some columns whose names are ambiguous to distinguish."
   ]
  },
  {
   "cell_type": "code",
   "execution_count": 19,
   "metadata": {},
   "outputs": [
    {
     "name": "stdout",
     "output_type": "stream",
     "text": [
      "Unique values of relation column in train:\n",
      "['treats', 'diagnosed by', 'contraindicates', 'causes', 'location', 'is location of', 'location of', 'is diagnosed by', 'diagnose_by_test_or_drug']\n",
      "-----\n",
      "Unique values of relation column in validation:\n",
      "['diagnosed by', 'causes', 'treats', 'is location of', 'contraindicates', 'location of', 'is diagnosed by', 'diagnose_by_test_or_drug']\n",
      "-----\n",
      "Unique values of relation column in test:\n",
      "['location', 'diagnosed by', 'causes', 'treats', 'is location of', 'contraindicates', 'is diagnosed by']\n",
      "-----\n"
     ]
    }
   ],
   "source": [
    "print(f\"Unique values of relation column in train:\\n{list(train['relation'].unique())}\\n-----\")\n",
    "print(f\"Unique values of relation column in validation:\\n{list(validation['relation'].unique())}\\n-----\")\n",
    "print(f\"Unique values of relation column in test:\\n{list(test['relation'].unique())}\\n-----\")"
   ]
  },
  {
   "cell_type": "markdown",
   "metadata": {},
   "source": [
    "Again, from the research papers, it is stated that there are 12 relationships in the dataset: \n",
    "\n",
    "> treat, prevent, diagnosis, cause, location, symptom, minifestation, contraindicate, associated with, side effect, is a, part of\n",
    "\n",
    "And we have two sets of relationships which have ambiguity:\\\n",
    "{'diagnosed by', 'is diagnosed by', 'diagnose_by_test_or_drug'}, and {'location', 'location of', 'is location of'}"
   ]
  },
  {
   "cell_type": "markdown",
   "metadata": {},
   "source": [
    "### {'diagnosed by', 'is diagnosed by', 'diagnose_by_test_or_drug'}"
   ]
  },
  {
   "cell_type": "code",
   "execution_count": 20,
   "metadata": {},
   "outputs": [],
   "source": [
    "diagnosed_by = train.loc[train['relation'] == 'diagnosed by']\n",
    "is_diagnosed_by = train.loc[train['relation'] == 'is diagnosed by']\n",
    "by_test_or_drug = train.loc[train['relation'] == 'diagnose_by_test_or_drug']"
   ]
  },
  {
   "cell_type": "code",
   "execution_count": 21,
   "metadata": {},
   "outputs": [],
   "source": [
    "pd.options.display.max_colwidth = 300"
   ]
  },
  {
   "cell_type": "code",
   "execution_count": 22,
   "metadata": {},
   "outputs": [
    {
     "data": {
      "text/html": [
       "<div>\n",
       "<style scoped>\n",
       "    .dataframe tbody tr th:only-of-type {\n",
       "        vertical-align: middle;\n",
       "    }\n",
       "\n",
       "    .dataframe tbody tr th {\n",
       "        vertical-align: top;\n",
       "    }\n",
       "\n",
       "    .dataframe thead th {\n",
       "        text-align: right;\n",
       "    }\n",
       "</style>\n",
       "<table border=\"1\" class=\"dataframe\">\n",
       "  <thead>\n",
       "    <tr style=\"text-align: right;\">\n",
       "      <th></th>\n",
       "      <th>direction</th>\n",
       "      <th>relation</th>\n",
       "      <th>relex_relcos</th>\n",
       "      <th>sentence</th>\n",
       "      <th>term1</th>\n",
       "      <th>term2</th>\n",
       "    </tr>\n",
       "  </thead>\n",
       "  <tbody>\n",
       "    <tr>\n",
       "      <th>761</th>\n",
       "      <td>VASOVAGAL SYNCOPE diagnosed by ISOPROTERENOL TEST</td>\n",
       "      <td>diagnosed by</td>\n",
       "      <td>0.956183</td>\n",
       "      <td>Thus the nitroglycerin test seems to be a useful alternative tool for diagnosis of VASOVAGAL SYNCOPE; it is equally specific but more sensitive and feasible than the ISOPROTERENOL TEST.</td>\n",
       "      <td>VASOVAGAL SYNCOPE</td>\n",
       "      <td>ISOPROTERENOL TEST</td>\n",
       "    </tr>\n",
       "    <tr>\n",
       "      <th>1132</th>\n",
       "      <td>ALLERGIC CONTACT DERMATITIS diagnosed by HYPERSENSITIVITY</td>\n",
       "      <td>diagnosed by</td>\n",
       "      <td>0.549442</td>\n",
       "      <td>a  Patch testing (e.g., 1% bacitracin in petrolatum) may be useful in diagnosing suspected ALLERGIC CONTACT DERMATITIS when HYPERSENSITIVITY to other topical antibiotics (e.g., neomycin) is suspected.</td>\n",
       "      <td>ALLERGIC CONTACT DERMATITIS</td>\n",
       "      <td>HYPERSENSITIVITY</td>\n",
       "    </tr>\n",
       "    <tr>\n",
       "      <th>111</th>\n",
       "      <td>MYASTHENIA GRAVIS diagnosed by INTRAVENOUS EDROPHONIUM CHLORIDE</td>\n",
       "      <td>diagnosed by</td>\n",
       "      <td>1.000000</td>\n",
       "      <td>Maximum velocity and amplitude of repetitive ( 1 per second) 30 degrees saccadic eye movements were quantitatively assessed for 4 minutes before and after INTRAVENOUS EDROPHONIUM CHLORIDE as a diagnostic test for MYASTHENIA GRAVIS</td>\n",
       "      <td>MYASTHENIA GRAVIS</td>\n",
       "      <td>INTRAVENOUS EDROPHONIUM CHLORIDE</td>\n",
       "    </tr>\n",
       "    <tr>\n",
       "      <th>1412</th>\n",
       "      <td>PPD SKIN TEST diagnosed by TUBERCULOSIS</td>\n",
       "      <td>diagnosed by</td>\n",
       "      <td>0.936329</td>\n",
       "      <td>Lower fracture risk by arranging for home safety assessment and devices to improve gait stability, and by recommending tai chi or other balance exercises Arrange periodic ophthalmologic screening for cataracts (posterior subcapsular) and glaucoma to detect vision loss Anticipate reactivation of ...</td>\n",
       "      <td>TUBERCULOSIS</td>\n",
       "      <td>PPD SKIN TEST</td>\n",
       "    </tr>\n",
       "    <tr>\n",
       "      <th>849</th>\n",
       "      <td>MICROVASCULAR PROLIFERATION diagnosed by GLIOBLASTOMA MULTIFORME</td>\n",
       "      <td>diagnosed by</td>\n",
       "      <td>0.600000</td>\n",
       "      <td>The presence of MICROVASCULAR PROLIFERATION leads to the histological diagnosis of GLIOBLASTOMA MULTIFORME.</td>\n",
       "      <td>MICROVASCULAR PROLIFERATION</td>\n",
       "      <td>GLIOBLASTOMA MULTIFORME</td>\n",
       "    </tr>\n",
       "  </tbody>\n",
       "</table>\n",
       "</div>"
      ],
      "text/plain": [
       "                                                             direction  \\\n",
       "761                  VASOVAGAL SYNCOPE diagnosed by ISOPROTERENOL TEST   \n",
       "1132         ALLERGIC CONTACT DERMATITIS diagnosed by HYPERSENSITIVITY   \n",
       "111    MYASTHENIA GRAVIS diagnosed by INTRAVENOUS EDROPHONIUM CHLORIDE   \n",
       "1412                           PPD SKIN TEST diagnosed by TUBERCULOSIS   \n",
       "849   MICROVASCULAR PROLIFERATION diagnosed by GLIOBLASTOMA MULTIFORME   \n",
       "\n",
       "          relation  relex_relcos  \\\n",
       "761   diagnosed by      0.956183   \n",
       "1132  diagnosed by      0.549442   \n",
       "111   diagnosed by      1.000000   \n",
       "1412  diagnosed by      0.936329   \n",
       "849   diagnosed by      0.600000   \n",
       "\n",
       "                                                                                                                                                                                                                                                                                                         sentence  \\\n",
       "761                                                                                                                     Thus the nitroglycerin test seems to be a useful alternative tool for diagnosis of VASOVAGAL SYNCOPE; it is equally specific but more sensitive and feasible than the ISOPROTERENOL TEST.   \n",
       "1132                                                                                                     a  Patch testing (e.g., 1% bacitracin in petrolatum) may be useful in diagnosing suspected ALLERGIC CONTACT DERMATITIS when HYPERSENSITIVITY to other topical antibiotics (e.g., neomycin) is suspected.   \n",
       "111                                                                        Maximum velocity and amplitude of repetitive ( 1 per second) 30 degrees saccadic eye movements were quantitatively assessed for 4 minutes before and after INTRAVENOUS EDROPHONIUM CHLORIDE as a diagnostic test for MYASTHENIA GRAVIS   \n",
       "1412  Lower fracture risk by arranging for home safety assessment and devices to improve gait stability, and by recommending tai chi or other balance exercises Arrange periodic ophthalmologic screening for cataracts (posterior subcapsular) and glaucoma to detect vision loss Anticipate reactivation of ...   \n",
       "849                                                                                                                                                                                                   The presence of MICROVASCULAR PROLIFERATION leads to the histological diagnosis of GLIOBLASTOMA MULTIFORME.   \n",
       "\n",
       "                            term1                             term2  \n",
       "761             VASOVAGAL SYNCOPE                ISOPROTERENOL TEST  \n",
       "1132  ALLERGIC CONTACT DERMATITIS                  HYPERSENSITIVITY  \n",
       "111             MYASTHENIA GRAVIS  INTRAVENOUS EDROPHONIUM CHLORIDE  \n",
       "1412                 TUBERCULOSIS                     PPD SKIN TEST  \n",
       "849   MICROVASCULAR PROLIFERATION           GLIOBLASTOMA MULTIFORME  "
      ]
     },
     "execution_count": 22,
     "metadata": {},
     "output_type": "execute_result"
    }
   ],
   "source": [
    "diagnosed_by.sample(5)"
   ]
  },
  {
   "cell_type": "code",
   "execution_count": 23,
   "metadata": {},
   "outputs": [
    {
     "data": {
      "text/html": [
       "<div>\n",
       "<style scoped>\n",
       "    .dataframe tbody tr th:only-of-type {\n",
       "        vertical-align: middle;\n",
       "    }\n",
       "\n",
       "    .dataframe tbody tr th {\n",
       "        vertical-align: top;\n",
       "    }\n",
       "\n",
       "    .dataframe thead th {\n",
       "        text-align: right;\n",
       "    }\n",
       "</style>\n",
       "<table border=\"1\" class=\"dataframe\">\n",
       "  <thead>\n",
       "    <tr style=\"text-align: right;\">\n",
       "      <th></th>\n",
       "      <th>direction</th>\n",
       "      <th>relation</th>\n",
       "      <th>relex_relcos</th>\n",
       "      <th>sentence</th>\n",
       "      <th>term1</th>\n",
       "      <th>term2</th>\n",
       "    </tr>\n",
       "  </thead>\n",
       "  <tbody>\n",
       "    <tr>\n",
       "      <th>5584</th>\n",
       "      <td>RADIAL SCARS is diagnosed by MICROCALCIFICATIONS</td>\n",
       "      <td>is diagnosed by</td>\n",
       "      <td>0.392232</td>\n",
       "      <td>Only the presence of MICROCALCIFICATIONS in 11 of those patients helped the authors distinguish carcinoma from RADIAL SCARS</td>\n",
       "      <td>MICROCALCIFICATIONS</td>\n",
       "      <td>RADIAL SCARS</td>\n",
       "    </tr>\n",
       "    <tr>\n",
       "      <th>5978</th>\n",
       "      <td>no_relation</td>\n",
       "      <td>is diagnosed by</td>\n",
       "      <td>0.424264</td>\n",
       "      <td>Ayestaran A, Lopez R, Montoro JB et al. Pharmacokinetics of conventional formulation versus fat emulsion formulation of AMPHOTERICIN B in a group of patients with NEUTROPENIA</td>\n",
       "      <td>NEUTROPENIA</td>\n",
       "      <td>AMPHOTERICIN B</td>\n",
       "    </tr>\n",
       "    <tr>\n",
       "      <th>5589</th>\n",
       "      <td>RADIAL SCARS is diagnosed by MICROCALCIFICATIONS</td>\n",
       "      <td>is diagnosed by</td>\n",
       "      <td>0.392232</td>\n",
       "      <td>Only the presence of MICROCALCIFICATIONS in 11 of those patients helped the authors distinguish carcinoma from RADIAL SCARS</td>\n",
       "      <td>MICROCALCIFICATIONS</td>\n",
       "      <td>RADIAL SCARS</td>\n",
       "    </tr>\n",
       "    <tr>\n",
       "      <th>6059</th>\n",
       "      <td>ERGONOVINE is diagnosed by VASOSPASTIC ANGINA</td>\n",
       "      <td>is diagnosed by</td>\n",
       "      <td>0.975900</td>\n",
       "      <td>These results suggest that the two provocative tests for coronary spasm that involve acetylcholine and ERGONOVINE are clinically useful in the diagnosis of VASOSPASTIC ANGINA, but testing with intracoronary ergonovine is needed when a spontaneous focal coronary spasm is relieved by the intracoro...</td>\n",
       "      <td>VASOSPASTIC ANGINA</td>\n",
       "      <td>ERGONOVINE</td>\n",
       "    </tr>\n",
       "    <tr>\n",
       "      <th>5981</th>\n",
       "      <td>NEUTROPENIA is diagnosed by AMPHOTERICIN B</td>\n",
       "      <td>is diagnosed by</td>\n",
       "      <td>0.424264</td>\n",
       "      <td>Ayestaran A, Lopez R, Montoro JB et al. Pharmacokinetics of conventional formulation versus fat emulsion formulation of AMPHOTERICIN B in a group of patients with NEUTROPENIA</td>\n",
       "      <td>NEUTROPENIA</td>\n",
       "      <td>AMPHOTERICIN B</td>\n",
       "    </tr>\n",
       "  </tbody>\n",
       "</table>\n",
       "</div>"
      ],
      "text/plain": [
       "                                             direction         relation  \\\n",
       "5584  RADIAL SCARS is diagnosed by MICROCALCIFICATIONS  is diagnosed by   \n",
       "5978                                       no_relation  is diagnosed by   \n",
       "5589  RADIAL SCARS is diagnosed by MICROCALCIFICATIONS  is diagnosed by   \n",
       "6059     ERGONOVINE is diagnosed by VASOSPASTIC ANGINA  is diagnosed by   \n",
       "5981        NEUTROPENIA is diagnosed by AMPHOTERICIN B  is diagnosed by   \n",
       "\n",
       "      relex_relcos  \\\n",
       "5584      0.392232   \n",
       "5978      0.424264   \n",
       "5589      0.392232   \n",
       "6059      0.975900   \n",
       "5981      0.424264   \n",
       "\n",
       "                                                                                                                                                                                                                                                                                                         sentence  \\\n",
       "5584                                                                                                                                                                                  Only the presence of MICROCALCIFICATIONS in 11 of those patients helped the authors distinguish carcinoma from RADIAL SCARS   \n",
       "5978                                                                                                                               Ayestaran A, Lopez R, Montoro JB et al. Pharmacokinetics of conventional formulation versus fat emulsion formulation of AMPHOTERICIN B in a group of patients with NEUTROPENIA   \n",
       "5589                                                                                                                                                                                  Only the presence of MICROCALCIFICATIONS in 11 of those patients helped the authors distinguish carcinoma from RADIAL SCARS   \n",
       "6059  These results suggest that the two provocative tests for coronary spasm that involve acetylcholine and ERGONOVINE are clinically useful in the diagnosis of VASOSPASTIC ANGINA, but testing with intracoronary ergonovine is needed when a spontaneous focal coronary spasm is relieved by the intracoro...   \n",
       "5981                                                                                                                               Ayestaran A, Lopez R, Montoro JB et al. Pharmacokinetics of conventional formulation versus fat emulsion formulation of AMPHOTERICIN B in a group of patients with NEUTROPENIA   \n",
       "\n",
       "                    term1           term2  \n",
       "5584  MICROCALCIFICATIONS    RADIAL SCARS  \n",
       "5978          NEUTROPENIA  AMPHOTERICIN B  \n",
       "5589  MICROCALCIFICATIONS    RADIAL SCARS  \n",
       "6059   VASOSPASTIC ANGINA      ERGONOVINE  \n",
       "5981          NEUTROPENIA  AMPHOTERICIN B  "
      ]
     },
     "execution_count": 23,
     "metadata": {},
     "output_type": "execute_result"
    }
   ],
   "source": [
    "is_diagnosed_by.sample(5)"
   ]
  },
  {
   "cell_type": "code",
   "execution_count": 24,
   "metadata": {},
   "outputs": [
    {
     "data": {
      "text/html": [
       "<div>\n",
       "<style scoped>\n",
       "    .dataframe tbody tr th:only-of-type {\n",
       "        vertical-align: middle;\n",
       "    }\n",
       "\n",
       "    .dataframe tbody tr th {\n",
       "        vertical-align: top;\n",
       "    }\n",
       "\n",
       "    .dataframe thead th {\n",
       "        text-align: right;\n",
       "    }\n",
       "</style>\n",
       "<table border=\"1\" class=\"dataframe\">\n",
       "  <thead>\n",
       "    <tr style=\"text-align: right;\">\n",
       "      <th></th>\n",
       "      <th>direction</th>\n",
       "      <th>relation</th>\n",
       "      <th>relex_relcos</th>\n",
       "      <th>sentence</th>\n",
       "      <th>term1</th>\n",
       "      <th>term2</th>\n",
       "    </tr>\n",
       "  </thead>\n",
       "  <tbody>\n",
       "    <tr>\n",
       "      <th>6199</th>\n",
       "      <td>N PURIFIED PROTEIN DERIVATIV diagnose_by_test_or_drug TUBERCULOSIS</td>\n",
       "      <td>diagnose_by_test_or_drug</td>\n",
       "      <td>0.961524</td>\n",
       "      <td>In contemporary skin tests for TUBERCULOSIS Koch's, or old, tuberculin has been replaced by tuberculiN PURIFIED PROTEIN DERIVATIVe.</td>\n",
       "      <td>TUBERCULOSIS</td>\n",
       "      <td>N PURIFIED PROTEIN DERIVATIV</td>\n",
       "    </tr>\n",
       "    <tr>\n",
       "      <th>6194</th>\n",
       "      <td>TUBERCULOSIS diagnose_by_test_or_drug N PURIFIED PROTEIN DERIVATIV</td>\n",
       "      <td>diagnose_by_test_or_drug</td>\n",
       "      <td>0.961524</td>\n",
       "      <td>In contemporary skin tests for TUBERCULOSIS Koch's, or old, tuberculin has been replaced by tuberculiN PURIFIED PROTEIN DERIVATIVe.</td>\n",
       "      <td>TUBERCULOSIS</td>\n",
       "      <td>N PURIFIED PROTEIN DERIVATIV</td>\n",
       "    </tr>\n",
       "    <tr>\n",
       "      <th>6222</th>\n",
       "      <td>DEPRESSION diagnose_by_test_or_drug DEXAMETHASONE</td>\n",
       "      <td>diagnose_by_test_or_drug</td>\n",
       "      <td>0.990148</td>\n",
       "      <td>The DEXAMETHASONE suppression test for the detection, diagnosis, and managemnt of DEPRESSION</td>\n",
       "      <td>DEPRESSION</td>\n",
       "      <td>DEXAMETHASONE</td>\n",
       "    </tr>\n",
       "    <tr>\n",
       "      <th>6195</th>\n",
       "      <td>TUBERCULOSIS diagnose_by_test_or_drug N PURIFIED PROTEIN DERIVATIV</td>\n",
       "      <td>diagnose_by_test_or_drug</td>\n",
       "      <td>0.961524</td>\n",
       "      <td>In contemporary skin tests for TUBERCULOSIS Koch's, or old, tuberculin has been replaced by tuberculiN PURIFIED PROTEIN DERIVATIVe.</td>\n",
       "      <td>TUBERCULOSIS</td>\n",
       "      <td>N PURIFIED PROTEIN DERIVATIV</td>\n",
       "    </tr>\n",
       "    <tr>\n",
       "      <th>6154</th>\n",
       "      <td>TREATMENT OF UNCOMPLICATED URINARY TRACT INFECTION IN THE ELDERLY diagnose_by_test_or_drug CONTROLLED TRIAL OF NORFLOXACIN AND AMOXYCILLIN IN</td>\n",
       "      <td>diagnose_by_test_or_drug</td>\n",
       "      <td>0.486664</td>\n",
       "      <td>Hill S, Yeates M, Pathy J et al. A CONTROLLED TRIAL OF NORFLOXACIN AND AMOXYCILLIN IN the TREATMENT OF UNCOMPLICATED URINARY TRACT INFECTION IN THE ELDERLY.</td>\n",
       "      <td>TREATMENT OF UNCOMPLICATED URINARY TRACT INFECTION IN THE ELDERLY</td>\n",
       "      <td>CONTROLLED TRIAL OF NORFLOXACIN AND AMOXYCILLIN IN</td>\n",
       "    </tr>\n",
       "  </tbody>\n",
       "</table>\n",
       "</div>"
      ],
      "text/plain": [
       "                                                                                                                                          direction  \\\n",
       "6199                                                                             N PURIFIED PROTEIN DERIVATIV diagnose_by_test_or_drug TUBERCULOSIS   \n",
       "6194                                                                             TUBERCULOSIS diagnose_by_test_or_drug N PURIFIED PROTEIN DERIVATIV   \n",
       "6222                                                                                              DEPRESSION diagnose_by_test_or_drug DEXAMETHASONE   \n",
       "6195                                                                             TUBERCULOSIS diagnose_by_test_or_drug N PURIFIED PROTEIN DERIVATIV   \n",
       "6154  TREATMENT OF UNCOMPLICATED URINARY TRACT INFECTION IN THE ELDERLY diagnose_by_test_or_drug CONTROLLED TRIAL OF NORFLOXACIN AND AMOXYCILLIN IN   \n",
       "\n",
       "                      relation  relex_relcos  \\\n",
       "6199  diagnose_by_test_or_drug      0.961524   \n",
       "6194  diagnose_by_test_or_drug      0.961524   \n",
       "6222  diagnose_by_test_or_drug      0.990148   \n",
       "6195  diagnose_by_test_or_drug      0.961524   \n",
       "6154  diagnose_by_test_or_drug      0.486664   \n",
       "\n",
       "                                                                                                                                                          sentence  \\\n",
       "6199                           In contemporary skin tests for TUBERCULOSIS Koch's, or old, tuberculin has been replaced by tuberculiN PURIFIED PROTEIN DERIVATIVe.   \n",
       "6194                           In contemporary skin tests for TUBERCULOSIS Koch's, or old, tuberculin has been replaced by tuberculiN PURIFIED PROTEIN DERIVATIVe.   \n",
       "6222                                                                  The DEXAMETHASONE suppression test for the detection, diagnosis, and managemnt of DEPRESSION   \n",
       "6195                           In contemporary skin tests for TUBERCULOSIS Koch's, or old, tuberculin has been replaced by tuberculiN PURIFIED PROTEIN DERIVATIVe.   \n",
       "6154  Hill S, Yeates M, Pathy J et al. A CONTROLLED TRIAL OF NORFLOXACIN AND AMOXYCILLIN IN the TREATMENT OF UNCOMPLICATED URINARY TRACT INFECTION IN THE ELDERLY.   \n",
       "\n",
       "                                                                  term1  \\\n",
       "6199                                                       TUBERCULOSIS   \n",
       "6194                                                       TUBERCULOSIS   \n",
       "6222                                                         DEPRESSION   \n",
       "6195                                                       TUBERCULOSIS   \n",
       "6154  TREATMENT OF UNCOMPLICATED URINARY TRACT INFECTION IN THE ELDERLY   \n",
       "\n",
       "                                                   term2  \n",
       "6199                        N PURIFIED PROTEIN DERIVATIV  \n",
       "6194                        N PURIFIED PROTEIN DERIVATIV  \n",
       "6222                                       DEXAMETHASONE  \n",
       "6195                        N PURIFIED PROTEIN DERIVATIV  \n",
       "6154  CONTROLLED TRIAL OF NORFLOXACIN AND AMOXYCILLIN IN  "
      ]
     },
     "execution_count": 24,
     "metadata": {},
     "output_type": "execute_result"
    }
   ],
   "source": [
    "by_test_or_drug.sample(5)"
   ]
  },
  {
   "cell_type": "markdown",
   "metadata": {},
   "source": [
    "After looking into some samples of each relation, it seems like all three relations are the same. We need to change it's `relation` column value to `diagnosis`. Thus, change all these values to 'diagnosis':"
   ]
  },
  {
   "cell_type": "code",
   "execution_count": 25,
   "metadata": {},
   "outputs": [],
   "source": [
    "train.loc[train['relation'] == 'diagnosed by', 'relation'] = 'diagnosis'\n",
    "train.loc[train['relation'] == 'is diagnosed by', 'relation'] = 'diagnosis'\n",
    "train.loc[train['relation'] == 'diagnose_by_test_or_drug', 'relation'] = 'diagnosis'\n",
    "\n",
    "validation.loc[validation['relation'] == 'diagnosed by', 'relation'] = 'diagnosis'\n",
    "validation.loc[validation['relation'] == 'is diagnosed by', 'relation'] = 'diagnosis'\n",
    "validation.loc[validation['relation'] == 'diagnose_by_test_or_drug', 'relation'] = 'diagnosis'\n",
    "\n",
    "test.loc[test['relation'] == 'diagnosed by', 'relation'] = 'diagnosis'\n",
    "test.loc[test['relation'] == 'is diagnosed by', 'relation'] = 'diagnosis'"
   ]
  },
  {
   "cell_type": "markdown",
   "metadata": {},
   "source": [
    "Also, we need to change words in the `direction` column as well. E.g. `TREATMENT OF UNCOMPLICATED URINARY TRACT INFECTION IN THE ELDERLY diagnose_by_test_or_drug CONTROLLED TRIAL OF NORFLOXACIN AND AMOXYCILLIN IN`"
   ]
  },
  {
   "cell_type": "code",
   "execution_count": 26,
   "metadata": {},
   "outputs": [],
   "source": [
    "condition = '(diagnosed by)|(is diagnosed by)|(diagnose by test or drug)'\n",
    "replace_sub = lambda x: re.sub(condition, 'diagnosis',x)"
   ]
  },
  {
   "cell_type": "code",
   "execution_count": 27,
   "metadata": {},
   "outputs": [],
   "source": [
    "train.loc[train['relation'] == 'diagnosis', 'direction'] = (\n",
    "    train.loc[train['relation'] == 'diagnosis', 'direction'].apply(replace_sub))\n",
    "\n",
    "validation.loc[validation['relation'] == 'diagnosis', 'direction'] = (\n",
    "    validation.loc[validation['relation'] == 'diagnosis', 'direction'].apply(replace_sub))\n",
    "\n",
    "test.loc[test['relation'] == 'diagnosis', 'direction'] = (\n",
    "    test.loc[test['relation'] == 'diagnosis', 'direction'].apply(replace_sub))"
   ]
  },
  {
   "cell_type": "markdown",
   "metadata": {},
   "source": [
    "### {'location', 'location of', 'is location of'}"
   ]
  },
  {
   "cell_type": "markdown",
   "metadata": {},
   "source": [
    "The definition of `location` relation is 'body part in which disease of disorder is observed.' E.g. 'leukemia is found in the circulatory system'. So, when looking into the data set, read one of {'location', 'location of', 'is location of'} as 'is found in' helped a lot to understand the `direction`. These three relationship also seemed to fall into `location` relation."
   ]
  },
  {
   "cell_type": "code",
   "execution_count": 28,
   "metadata": {},
   "outputs": [],
   "source": [
    "location = train.loc[train['relation'] == 'location']\n",
    "location_of = train.loc[train['relation'] == 'location of']\n",
    "is_location_of = train.loc[train['relation'] == 'is location of']"
   ]
  },
  {
   "cell_type": "code",
   "execution_count": 29,
   "metadata": {},
   "outputs": [
    {
     "data": {
      "text/html": [
       "<div>\n",
       "<style scoped>\n",
       "    .dataframe tbody tr th:only-of-type {\n",
       "        vertical-align: middle;\n",
       "    }\n",
       "\n",
       "    .dataframe tbody tr th {\n",
       "        vertical-align: top;\n",
       "    }\n",
       "\n",
       "    .dataframe thead th {\n",
       "        text-align: right;\n",
       "    }\n",
       "</style>\n",
       "<table border=\"1\" class=\"dataframe\">\n",
       "  <thead>\n",
       "    <tr style=\"text-align: right;\">\n",
       "      <th></th>\n",
       "      <th>direction</th>\n",
       "      <th>relation</th>\n",
       "      <th>relex_relcos</th>\n",
       "      <th>sentence</th>\n",
       "      <th>term1</th>\n",
       "      <th>term2</th>\n",
       "    </tr>\n",
       "  </thead>\n",
       "  <tbody>\n",
       "    <tr>\n",
       "      <th>52</th>\n",
       "      <td>no_relation</td>\n",
       "      <td>location</td>\n",
       "      <td>0.40452</td>\n",
       "      <td>It is said that the JOINTS of the affected limb by poliomyelitis are protected from the development of OSTEOARTHRITIS</td>\n",
       "      <td>JOINTS</td>\n",
       "      <td>OSTEOARTHRITIS</td>\n",
       "    </tr>\n",
       "    <tr>\n",
       "      <th>50</th>\n",
       "      <td>no_relation</td>\n",
       "      <td>location</td>\n",
       "      <td>0.40452</td>\n",
       "      <td>It is said that the JOINTS of the affected limb by poliomyelitis are protected from the development of OSTEOARTHRITIS</td>\n",
       "      <td>JOINTS</td>\n",
       "      <td>OSTEOARTHRITIS</td>\n",
       "    </tr>\n",
       "    <tr>\n",
       "      <th>55</th>\n",
       "      <td>no_relation</td>\n",
       "      <td>location</td>\n",
       "      <td>0.40452</td>\n",
       "      <td>It is said that the JOINTS of the affected limb by poliomyelitis are protected from the development of OSTEOARTHRITIS</td>\n",
       "      <td>JOINTS</td>\n",
       "      <td>OSTEOARTHRITIS</td>\n",
       "    </tr>\n",
       "    <tr>\n",
       "      <th>49</th>\n",
       "      <td>OSTEOARTHRITIS location JOINTS</td>\n",
       "      <td>location</td>\n",
       "      <td>0.40452</td>\n",
       "      <td>It is said that the JOINTS of the affected limb by poliomyelitis are protected from the development of OSTEOARTHRITIS</td>\n",
       "      <td>JOINTS</td>\n",
       "      <td>OSTEOARTHRITIS</td>\n",
       "    </tr>\n",
       "    <tr>\n",
       "      <th>54</th>\n",
       "      <td>OSTEOARTHRITIS location JOINTS</td>\n",
       "      <td>location</td>\n",
       "      <td>0.40452</td>\n",
       "      <td>It is said that the JOINTS of the affected limb by poliomyelitis are protected from the development of OSTEOARTHRITIS</td>\n",
       "      <td>JOINTS</td>\n",
       "      <td>OSTEOARTHRITIS</td>\n",
       "    </tr>\n",
       "  </tbody>\n",
       "</table>\n",
       "</div>"
      ],
      "text/plain": [
       "                         direction  relation  relex_relcos  \\\n",
       "52                     no_relation  location       0.40452   \n",
       "50                     no_relation  location       0.40452   \n",
       "55                     no_relation  location       0.40452   \n",
       "49  OSTEOARTHRITIS location JOINTS  location       0.40452   \n",
       "54  OSTEOARTHRITIS location JOINTS  location       0.40452   \n",
       "\n",
       "                                                                                                                 sentence  \\\n",
       "52  It is said that the JOINTS of the affected limb by poliomyelitis are protected from the development of OSTEOARTHRITIS   \n",
       "50  It is said that the JOINTS of the affected limb by poliomyelitis are protected from the development of OSTEOARTHRITIS   \n",
       "55  It is said that the JOINTS of the affected limb by poliomyelitis are protected from the development of OSTEOARTHRITIS   \n",
       "49  It is said that the JOINTS of the affected limb by poliomyelitis are protected from the development of OSTEOARTHRITIS   \n",
       "54  It is said that the JOINTS of the affected limb by poliomyelitis are protected from the development of OSTEOARTHRITIS   \n",
       "\n",
       "     term1           term2  \n",
       "52  JOINTS  OSTEOARTHRITIS  \n",
       "50  JOINTS  OSTEOARTHRITIS  \n",
       "55  JOINTS  OSTEOARTHRITIS  \n",
       "49  JOINTS  OSTEOARTHRITIS  \n",
       "54  JOINTS  OSTEOARTHRITIS  "
      ]
     },
     "execution_count": 29,
     "metadata": {},
     "output_type": "execute_result"
    }
   ],
   "source": [
    "location.sample(5)"
   ]
  },
  {
   "cell_type": "code",
   "execution_count": 30,
   "metadata": {},
   "outputs": [
    {
     "data": {
      "text/html": [
       "<div>\n",
       "<style scoped>\n",
       "    .dataframe tbody tr th:only-of-type {\n",
       "        vertical-align: middle;\n",
       "    }\n",
       "\n",
       "    .dataframe tbody tr th {\n",
       "        vertical-align: top;\n",
       "    }\n",
       "\n",
       "    .dataframe thead th {\n",
       "        text-align: right;\n",
       "    }\n",
       "</style>\n",
       "<table border=\"1\" class=\"dataframe\">\n",
       "  <thead>\n",
       "    <tr style=\"text-align: right;\">\n",
       "      <th></th>\n",
       "      <th>direction</th>\n",
       "      <th>relation</th>\n",
       "      <th>relex_relcos</th>\n",
       "      <th>sentence</th>\n",
       "      <th>term1</th>\n",
       "      <th>term2</th>\n",
       "    </tr>\n",
       "  </thead>\n",
       "  <tbody>\n",
       "    <tr>\n",
       "      <th>5640</th>\n",
       "      <td>BONE MARROW location of CHRONIC EOSINOPHILIC LEUKAEMIA</td>\n",
       "      <td>location of</td>\n",
       "      <td>0.718421</td>\n",
       "      <td>A diagnosis of CHRONIC EOSINOPHILIC LEUKAEMIA was made on the basis of myeloproliferative involvement of both peripheral blood and BONE MARROW, associated with eosinophilic differentiation and a t(5;12)(q33;p13) translocation</td>\n",
       "      <td>BONE MARROW</td>\n",
       "      <td>CHRONIC EOSINOPHILIC LEUKAEMIA</td>\n",
       "    </tr>\n",
       "    <tr>\n",
       "      <th>5652</th>\n",
       "      <td>no_relation</td>\n",
       "      <td>location of</td>\n",
       "      <td>0.718421</td>\n",
       "      <td>A diagnosis of CHRONIC EOSINOPHILIC LEUKAEMIA was made on the basis of myeloproliferative involvement of both peripheral blood and BONE MARROW, associated with eosinophilic differentiation and a t(5;12)(q33;p13) translocation</td>\n",
       "      <td>BONE MARROW</td>\n",
       "      <td>CHRONIC EOSINOPHILIC LEUKAEMIA</td>\n",
       "    </tr>\n",
       "    <tr>\n",
       "      <th>5508</th>\n",
       "      <td>no_relation</td>\n",
       "      <td>location of</td>\n",
       "      <td>0.676123</td>\n",
       "      <td>Many similarities exist between cerebral ischemia and EPILEPSY regarding BRAIN-damaging and auto-protective mechanisms that are activated following the injurious insult</td>\n",
       "      <td>BRAIN</td>\n",
       "      <td>EPILEPSY</td>\n",
       "    </tr>\n",
       "    <tr>\n",
       "      <th>5522</th>\n",
       "      <td>EPILEPSY location of BRAIN</td>\n",
       "      <td>location of</td>\n",
       "      <td>0.676123</td>\n",
       "      <td>Many similarities exist between cerebral ischemia and EPILEPSY regarding BRAIN-damaging and auto-protective mechanisms that are activated following the injurious insult</td>\n",
       "      <td>BRAIN</td>\n",
       "      <td>EPILEPSY</td>\n",
       "    </tr>\n",
       "    <tr>\n",
       "      <th>5642</th>\n",
       "      <td>no_relation</td>\n",
       "      <td>location of</td>\n",
       "      <td>0.718421</td>\n",
       "      <td>A diagnosis of CHRONIC EOSINOPHILIC LEUKAEMIA was made on the basis of myeloproliferative involvement of both peripheral blood and BONE MARROW, associated with eosinophilic differentiation and a t(5;12)(q33;p13) translocation</td>\n",
       "      <td>BONE MARROW</td>\n",
       "      <td>CHRONIC EOSINOPHILIC LEUKAEMIA</td>\n",
       "    </tr>\n",
       "  </tbody>\n",
       "</table>\n",
       "</div>"
      ],
      "text/plain": [
       "                                                   direction     relation  \\\n",
       "5640  BONE MARROW location of CHRONIC EOSINOPHILIC LEUKAEMIA  location of   \n",
       "5652                                             no_relation  location of   \n",
       "5508                                             no_relation  location of   \n",
       "5522                              EPILEPSY location of BRAIN  location of   \n",
       "5642                                             no_relation  location of   \n",
       "\n",
       "      relex_relcos  \\\n",
       "5640      0.718421   \n",
       "5652      0.718421   \n",
       "5508      0.676123   \n",
       "5522      0.676123   \n",
       "5642      0.718421   \n",
       "\n",
       "                                                                                                                                                                                                                               sentence  \\\n",
       "5640  A diagnosis of CHRONIC EOSINOPHILIC LEUKAEMIA was made on the basis of myeloproliferative involvement of both peripheral blood and BONE MARROW, associated with eosinophilic differentiation and a t(5;12)(q33;p13) translocation   \n",
       "5652  A diagnosis of CHRONIC EOSINOPHILIC LEUKAEMIA was made on the basis of myeloproliferative involvement of both peripheral blood and BONE MARROW, associated with eosinophilic differentiation and a t(5;12)(q33;p13) translocation   \n",
       "5508                                                           Many similarities exist between cerebral ischemia and EPILEPSY regarding BRAIN-damaging and auto-protective mechanisms that are activated following the injurious insult   \n",
       "5522                                                           Many similarities exist between cerebral ischemia and EPILEPSY regarding BRAIN-damaging and auto-protective mechanisms that are activated following the injurious insult   \n",
       "5642  A diagnosis of CHRONIC EOSINOPHILIC LEUKAEMIA was made on the basis of myeloproliferative involvement of both peripheral blood and BONE MARROW, associated with eosinophilic differentiation and a t(5;12)(q33;p13) translocation   \n",
       "\n",
       "            term1                           term2  \n",
       "5640  BONE MARROW  CHRONIC EOSINOPHILIC LEUKAEMIA  \n",
       "5652  BONE MARROW  CHRONIC EOSINOPHILIC LEUKAEMIA  \n",
       "5508        BRAIN                        EPILEPSY  \n",
       "5522        BRAIN                        EPILEPSY  \n",
       "5642  BONE MARROW  CHRONIC EOSINOPHILIC LEUKAEMIA  "
      ]
     },
     "execution_count": 30,
     "metadata": {},
     "output_type": "execute_result"
    }
   ],
   "source": [
    "location_of.sample(5)"
   ]
  },
  {
   "cell_type": "code",
   "execution_count": 31,
   "metadata": {},
   "outputs": [
    {
     "data": {
      "text/html": [
       "<div>\n",
       "<style scoped>\n",
       "    .dataframe tbody tr th:only-of-type {\n",
       "        vertical-align: middle;\n",
       "    }\n",
       "\n",
       "    .dataframe tbody tr th {\n",
       "        vertical-align: top;\n",
       "    }\n",
       "\n",
       "    .dataframe thead th {\n",
       "        text-align: right;\n",
       "    }\n",
       "</style>\n",
       "<table border=\"1\" class=\"dataframe\">\n",
       "  <thead>\n",
       "    <tr style=\"text-align: right;\">\n",
       "      <th></th>\n",
       "      <th>direction</th>\n",
       "      <th>relation</th>\n",
       "      <th>relex_relcos</th>\n",
       "      <th>sentence</th>\n",
       "      <th>term1</th>\n",
       "      <th>term2</th>\n",
       "    </tr>\n",
       "  </thead>\n",
       "  <tbody>\n",
       "    <tr>\n",
       "      <th>2304</th>\n",
       "      <td>no_relation</td>\n",
       "      <td>is location of</td>\n",
       "      <td>0.371391</td>\n",
       "      <td>The clinicopathologic features of intestinal type adenocarcinoma have been well documented in the stomach, and INTESTINAL METAPLASIA and INTESTINAL TYPE ADENOCARCINOMA has also been reported in the gallbladder.</td>\n",
       "      <td>INTESTINAL METAPLASIA</td>\n",
       "      <td>INTESTINAL TYPE ADENOCARCINOMA</td>\n",
       "    </tr>\n",
       "    <tr>\n",
       "      <th>1975</th>\n",
       "      <td>SKIN is location of URTICARIA</td>\n",
       "      <td>is location of</td>\n",
       "      <td>0.956183</td>\n",
       "      <td>Repeated exposures over a period of hours induce a state of tolerance in the SKIN so that URTICARIA fails to develop.</td>\n",
       "      <td>SKIN</td>\n",
       "      <td>URTICARIA</td>\n",
       "    </tr>\n",
       "    <tr>\n",
       "      <th>1754</th>\n",
       "      <td>LIVER is location of HEPATOCELLULAR NECROSIS</td>\n",
       "      <td>is location of</td>\n",
       "      <td>0.964901</td>\n",
       "      <td>Furthermore, histological analyses verified significant HEPATOCELLULAR NECROSIS as well as enhanced myeloperoxidase staining in these LIVER specimens.</td>\n",
       "      <td>LIVER</td>\n",
       "      <td>HEPATOCELLULAR NECROSIS</td>\n",
       "    </tr>\n",
       "    <tr>\n",
       "      <th>946</th>\n",
       "      <td>ANENCEPHALY is location of BRAIN</td>\n",
       "      <td>is location of</td>\n",
       "      <td>0.750479</td>\n",
       "      <td>Infants with ANENCEPHALY are born without all or most of their BRAIN and die within a few days of life.</td>\n",
       "      <td>BRAIN</td>\n",
       "      <td>ANENCEPHALY</td>\n",
       "    </tr>\n",
       "    <tr>\n",
       "      <th>2901</th>\n",
       "      <td>PROSTATES is location of PROSTATIC CARCINOMAS</td>\n",
       "      <td>is location of</td>\n",
       "      <td>0.979958</td>\n",
       "      <td>We investigate the presence of HPV in 60 prostatic benign hyperplasias and in 5 PROSTATIC CARCINOMAS in surgically resected PROSTATES by PCR technique using consensus and type specific primers.</td>\n",
       "      <td>PROSTATES</td>\n",
       "      <td>PROSTATIC CARCINOMAS</td>\n",
       "    </tr>\n",
       "  </tbody>\n",
       "</table>\n",
       "</div>"
      ],
      "text/plain": [
       "                                          direction        relation  \\\n",
       "2304                                    no_relation  is location of   \n",
       "1975                  SKIN is location of URTICARIA  is location of   \n",
       "1754   LIVER is location of HEPATOCELLULAR NECROSIS  is location of   \n",
       "946                ANENCEPHALY is location of BRAIN  is location of   \n",
       "2901  PROSTATES is location of PROSTATIC CARCINOMAS  is location of   \n",
       "\n",
       "      relex_relcos  \\\n",
       "2304      0.371391   \n",
       "1975      0.956183   \n",
       "1754      0.964901   \n",
       "946       0.750479   \n",
       "2901      0.979958   \n",
       "\n",
       "                                                                                                                                                                                                                sentence  \\\n",
       "2304  The clinicopathologic features of intestinal type adenocarcinoma have been well documented in the stomach, and INTESTINAL METAPLASIA and INTESTINAL TYPE ADENOCARCINOMA has also been reported in the gallbladder.   \n",
       "1975                                                                                               Repeated exposures over a period of hours induce a state of tolerance in the SKIN so that URTICARIA fails to develop.   \n",
       "1754                                                              Furthermore, histological analyses verified significant HEPATOCELLULAR NECROSIS as well as enhanced myeloperoxidase staining in these LIVER specimens.   \n",
       "946                                                                                                              Infants with ANENCEPHALY are born without all or most of their BRAIN and die within a few days of life.   \n",
       "2901                   We investigate the presence of HPV in 60 prostatic benign hyperplasias and in 5 PROSTATIC CARCINOMAS in surgically resected PROSTATES by PCR technique using consensus and type specific primers.   \n",
       "\n",
       "                      term1                           term2  \n",
       "2304  INTESTINAL METAPLASIA  INTESTINAL TYPE ADENOCARCINOMA  \n",
       "1975                   SKIN                       URTICARIA  \n",
       "1754                  LIVER         HEPATOCELLULAR NECROSIS  \n",
       "946                   BRAIN                     ANENCEPHALY  \n",
       "2901              PROSTATES            PROSTATIC CARCINOMAS  "
      ]
     },
     "execution_count": 31,
     "metadata": {},
     "output_type": "execute_result"
    }
   ],
   "source": [
    "is_location_of.sample(5)"
   ]
  },
  {
   "cell_type": "markdown",
   "metadata": {},
   "source": [
    "Correct `relation` name:"
   ]
  },
  {
   "cell_type": "code",
   "execution_count": 32,
   "metadata": {},
   "outputs": [],
   "source": [
    "train.loc[train['relation'] == 'location of', 'relation'] = 'location'\n",
    "train.loc[train['relation'] == 'is location of', 'relation'] = 'location'\n",
    "\n",
    "validation.loc[validation['relation'] == 'location of', 'relation'] = 'location'\n",
    "validation.loc[validation['relation'] == 'is location of', 'relation'] = 'location'\n",
    "\n",
    "test.loc[test['relation'] == 'is location of', 'relation'] = 'location'"
   ]
  },
  {
   "cell_type": "markdown",
   "metadata": {},
   "source": [
    "Correct `relation` name in the `direction` column as well."
   ]
  },
  {
   "cell_type": "code",
   "execution_count": 33,
   "metadata": {},
   "outputs": [],
   "source": [
    "condition = '(location of)|(is location of)'\n",
    "replace_sub = lambda x: re.sub(condition, 'location',x)"
   ]
  },
  {
   "cell_type": "code",
   "execution_count": 34,
   "metadata": {},
   "outputs": [],
   "source": [
    "train.loc[train['relation'] == 'location', 'direction'] = (\n",
    "    train.loc[train['relation'] == 'location', 'direction'].apply(replace_sub))\n",
    "\n",
    "validation.loc[validation['relation'] == 'location', 'direction'] = (\n",
    "    validation.loc[validation['relation'] == 'location', 'direction'].apply(replace_sub))\n",
    "\n",
    "test.loc[test['relation'] == 'location', 'direction'] = (\n",
    "    test.loc[test['relation'] == 'location', 'direction'].apply(replace_sub))"
   ]
  },
  {
   "cell_type": "markdown",
   "metadata": {},
   "source": [
    "**We have clean list of relation now**"
   ]
  },
  {
   "cell_type": "code",
   "execution_count": 35,
   "metadata": {},
   "outputs": [
    {
     "name": "stdout",
     "output_type": "stream",
     "text": [
      "Unique values of relation column in train:\n",
      "['treats', 'diagnosis', 'contraindicates', 'causes', 'location']\n",
      "-----\n",
      "Unique values of relation column in validation:\n",
      "['diagnosis', 'causes', 'treats', 'location', 'contraindicates']\n",
      "-----\n",
      "Unique values of relation column in test:\n",
      "['location', 'diagnosis', 'causes', 'treats', 'contraindicates']\n",
      "-----\n"
     ]
    }
   ],
   "source": [
    "print(f\"Unique values of relation column in train:\\n{list(train['relation'].unique())}\\n-----\")\n",
    "print(f\"Unique values of relation column in validation:\\n{list(validation['relation'].unique())}\\n-----\")\n",
    "print(f\"Unique values of relation column in test:\\n{list(test['relation'].unique())}\\n-----\")"
   ]
  },
  {
   "cell_type": "markdown",
   "metadata": {},
   "source": [
    "### Save data for reuse"
   ]
  },
  {
   "cell_type": "code",
   "execution_count": 36,
   "metadata": {},
   "outputs": [],
   "source": [
    "dest = path/'preprocessed'\n",
    "if not os.path.exists(dest):\n",
    "    os.makedirs(dest)\n",
    "\n",
    "train.to_csv(dest/'train.csv')\n",
    "test.to_csv(dest/'test.csv')\n",
    "validation.to_csv(dest/'validation.csv')"
   ]
  },
  {
   "cell_type": "markdown",
   "metadata": {},
   "source": [
    "---\n",
    "## 3. Choose best direction\n",
    "We determined the direction by majority vote of annotators: `term1->relation->term2`, `term2->relation->term1`, or `no_relation`. Therefore, we set mode direction of each sentence as a best direction."
   ]
  },
  {
   "cell_type": "markdown",
   "metadata": {},
   "source": [
    "First, we looked into train dataset to decide the best directions."
   ]
  },
  {
   "cell_type": "code",
   "execution_count": 37,
   "metadata": {
    "scrolled": false
   },
   "outputs": [
    {
     "data": {
      "text/html": [
       "<div>\n",
       "<style scoped>\n",
       "    .dataframe tbody tr th:only-of-type {\n",
       "        vertical-align: middle;\n",
       "    }\n",
       "\n",
       "    .dataframe tbody tr th {\n",
       "        vertical-align: top;\n",
       "    }\n",
       "\n",
       "    .dataframe thead th {\n",
       "        text-align: right;\n",
       "    }\n",
       "</style>\n",
       "<table border=\"1\" class=\"dataframe\">\n",
       "  <thead>\n",
       "    <tr style=\"text-align: right;\">\n",
       "      <th></th>\n",
       "      <th>direction</th>\n",
       "      <th>relation</th>\n",
       "      <th>relex_relcos</th>\n",
       "      <th>sentence</th>\n",
       "      <th>term1</th>\n",
       "      <th>term2</th>\n",
       "    </tr>\n",
       "  </thead>\n",
       "  <tbody>\n",
       "    <tr>\n",
       "      <th>6297</th>\n",
       "      <td>PCD causes SITUS INVERSUS</td>\n",
       "      <td>causes</td>\n",
       "      <td>0.750479</td>\n",
       "      <td>The number of PCD index patients who have SITUS INVERSUS (because of the randomization of left right symmetry) argues that the disease may be more common than previously suspected; this supposition could be verified if a sensitive and easily used screening test were available.</td>\n",
       "      <td>SITUS INVERSUS</td>\n",
       "      <td>PCD</td>\n",
       "    </tr>\n",
       "    <tr>\n",
       "      <th>8215</th>\n",
       "      <td>CARDIOMEGALY IN GSD TYPE II causes ORGAN CELLS (EG) HEPATOMEGALY IN HEPATIC FORMS</td>\n",
       "      <td>causes</td>\n",
       "      <td>0.507093</td>\n",
       "      <td>Organomegaly may reflect a failure in substrate degradation resulting in substrate accumulation within the ORGAN CELLS (EG) HEPATOMEGALY IN HEPATIC FORMS of GSD and many lysosomal storage diseases, CARDIOMEGALY IN GSD TYPE II</td>\n",
       "      <td>ORGAN CELLS (EG) HEPATOMEGALY IN HEPATIC FORMS</td>\n",
       "      <td>CARDIOMEGALY IN GSD TYPE II</td>\n",
       "    </tr>\n",
       "    <tr>\n",
       "      <th>897</th>\n",
       "      <td>no_relation</td>\n",
       "      <td>causes</td>\n",
       "      <td>0.904194</td>\n",
       "      <td>Lacunes consist of small vascular lesions with a volume of between 2 and about 30 mm. These lacunar infarctions are determined by an ISCHEMIA caused by obstructive diseases of small terminal VESSELS in the deep areas of the brain.</td>\n",
       "      <td>VESSELS</td>\n",
       "      <td>ISCHEMIA</td>\n",
       "    </tr>\n",
       "    <tr>\n",
       "      <th>7792</th>\n",
       "      <td>FIBROMYALGIA causes PAIN</td>\n",
       "      <td>causes</td>\n",
       "      <td>0.924500</td>\n",
       "      <td>The patient complained of long standing aching PAIN in both lower legs which was diagnosed and managed as FIBROMYALGIA</td>\n",
       "      <td>PAIN</td>\n",
       "      <td>FIBROMYALGIA</td>\n",
       "    </tr>\n",
       "    <tr>\n",
       "      <th>8086</th>\n",
       "      <td>no_relation</td>\n",
       "      <td>causes</td>\n",
       "      <td>0.781133</td>\n",
       "      <td>40,41   In GSS, which is transmitted as an autosomal dominant trait, the affected persons develop ATAXIA followed by dementia; patients with FFI are unable to sleep.</td>\n",
       "      <td>ATAXIA</td>\n",
       "      <td>FFI</td>\n",
       "    </tr>\n",
       "  </tbody>\n",
       "</table>\n",
       "</div>"
      ],
      "text/plain": [
       "                                                                              direction  \\\n",
       "6297                                                          PCD causes SITUS INVERSUS   \n",
       "8215  CARDIOMEGALY IN GSD TYPE II causes ORGAN CELLS (EG) HEPATOMEGALY IN HEPATIC FORMS   \n",
       "897                                                                         no_relation   \n",
       "7792                                                           FIBROMYALGIA causes PAIN   \n",
       "8086                                                                        no_relation   \n",
       "\n",
       "     relation  relex_relcos  \\\n",
       "6297   causes      0.750479   \n",
       "8215   causes      0.507093   \n",
       "897    causes      0.904194   \n",
       "7792   causes      0.924500   \n",
       "8086   causes      0.781133   \n",
       "\n",
       "                                                                                                                                                                                                                                                                                   sentence  \\\n",
       "6297  The number of PCD index patients who have SITUS INVERSUS (because of the randomization of left right symmetry) argues that the disease may be more common than previously suspected; this supposition could be verified if a sensitive and easily used screening test were available.   \n",
       "8215                                                      Organomegaly may reflect a failure in substrate degradation resulting in substrate accumulation within the ORGAN CELLS (EG) HEPATOMEGALY IN HEPATIC FORMS of GSD and many lysosomal storage diseases, CARDIOMEGALY IN GSD TYPE II   \n",
       "897                                                  Lacunes consist of small vascular lesions with a volume of between 2 and about 30 mm. These lacunar infarctions are determined by an ISCHEMIA caused by obstructive diseases of small terminal VESSELS in the deep areas of the brain.   \n",
       "7792                                                                                                                                                                 The patient complained of long standing aching PAIN in both lower legs which was diagnosed and managed as FIBROMYALGIA   \n",
       "8086                                                                                                                  40,41   In GSS, which is transmitted as an autosomal dominant trait, the affected persons develop ATAXIA followed by dementia; patients with FFI are unable to sleep.   \n",
       "\n",
       "                                               term1  \\\n",
       "6297                                  SITUS INVERSUS   \n",
       "8215  ORGAN CELLS (EG) HEPATOMEGALY IN HEPATIC FORMS   \n",
       "897                                          VESSELS   \n",
       "7792                                            PAIN   \n",
       "8086                                          ATAXIA   \n",
       "\n",
       "                            term2  \n",
       "6297                          PCD  \n",
       "8215  CARDIOMEGALY IN GSD TYPE II  \n",
       "897                      ISCHEMIA  \n",
       "7792                 FIBROMYALGIA  \n",
       "8086                          FFI  "
      ]
     },
     "execution_count": 37,
     "metadata": {},
     "output_type": "execute_result"
    }
   ],
   "source": [
    "train.sample(5)"
   ]
  },
  {
   "cell_type": "markdown",
   "metadata": {},
   "source": [
    "We create new dataframe with no duplicate senteces. The best relation and it's direction of sentences will be saved in this dataframe and be used in model training."
   ]
  },
  {
   "cell_type": "code",
   "execution_count": 38,
   "metadata": {},
   "outputs": [
    {
     "data": {
      "text/plain": [
       "1618"
      ]
     },
     "execution_count": 38,
     "metadata": {},
     "output_type": "execute_result"
    }
   ],
   "source": [
    "train_unique = train.drop_duplicates(subset='sentence', ignore_index=True)\n",
    "train_unique_sentence = list(train_unique['sentence'])\n",
    "len(train_unique_sentence)"
   ]
  },
  {
   "cell_type": "markdown",
   "metadata": {},
   "source": [
    "There's 1618 unique sentences in the training data."
   ]
  },
  {
   "cell_type": "code",
   "execution_count": 39,
   "metadata": {},
   "outputs": [],
   "source": [
    "def get_ambiguous_sentences(df, unique_sentence):\n",
    "    ambiguious_sentence = [] # Store index of ambiguous sentences\n",
    "    for s in unique_sentence:\n",
    "        rows = df.loc[train['sentence'] == s, 'direction']\n",
    "        mode = rows.mode()\n",
    "        if mode.size > 1:\n",
    "            # print(f'Sentence:\\n{s}\\n')\n",
    "            # print(f\"Relex_relcos:\\n{train.loc[train['sentence'] == s, 'relex_relcos'].values}\\n\")\n",
    "            # print(f\"Direction frequency:\\n{train.loc[train['sentence'] == s, 'direction'].value_counts()}\")\n",
    "            # print('---------------------------------------------------------------')\n",
    "            ambiguious_sentence.append(s)\n",
    "    return ambiguious_sentence"
   ]
  },
  {
   "cell_type": "code",
   "execution_count": 40,
   "metadata": {},
   "outputs": [
    {
     "data": {
      "text/plain": [
       "101"
      ]
     },
     "execution_count": 40,
     "metadata": {},
     "output_type": "execute_result"
    }
   ],
   "source": [
    "train_ambiguious_sentence = get_ambiguous_sentences(train, train_unique_sentence)\n",
    "len(train_ambiguious_sentence)"
   ]
  },
  {
   "cell_type": "markdown",
   "metadata": {},
   "source": [
    "Among 1618 unique sentences in the training set, we could find 101 sentences with high ambiguity. The definition of ambiguous sentence is the sentence which has more than one most frequent direction and relation annotated.\n",
    "\n",
    "If a sentence has more than one most frequent direction, we treated as a ambiguous sentence."
   ]
  },
  {
   "cell_type": "markdown",
   "metadata": {},
   "source": [
    "One example of a sentence with high ambiguity:"
   ]
  },
  {
   "cell_type": "code",
   "execution_count": 41,
   "metadata": {},
   "outputs": [
    {
     "data": {
      "text/html": [
       "<div>\n",
       "<style scoped>\n",
       "    .dataframe tbody tr th:only-of-type {\n",
       "        vertical-align: middle;\n",
       "    }\n",
       "\n",
       "    .dataframe tbody tr th {\n",
       "        vertical-align: top;\n",
       "    }\n",
       "\n",
       "    .dataframe thead th {\n",
       "        text-align: right;\n",
       "    }\n",
       "</style>\n",
       "<table border=\"1\" class=\"dataframe\">\n",
       "  <thead>\n",
       "    <tr style=\"text-align: right;\">\n",
       "      <th></th>\n",
       "      <th>direction</th>\n",
       "      <th>relation</th>\n",
       "      <th>relex_relcos</th>\n",
       "      <th>sentence</th>\n",
       "      <th>term1</th>\n",
       "      <th>term2</th>\n",
       "    </tr>\n",
       "  </thead>\n",
       "  <tbody>\n",
       "    <tr>\n",
       "      <th>126</th>\n",
       "      <td>HYPERTENSION diagnosis SPONTANEOUSLY ELEVATED BP</td>\n",
       "      <td>diagnosis</td>\n",
       "      <td>0.480384</td>\n",
       "      <td>Taken together, these data suggest that African green monkeys with SPONTANEOUSLY ELEVATED BP may be a useful experimental model for particular types of human HYPERTENSION</td>\n",
       "      <td>SPONTANEOUSLY ELEVATED BP</td>\n",
       "      <td>HYPERTENSION</td>\n",
       "    </tr>\n",
       "    <tr>\n",
       "      <th>127</th>\n",
       "      <td>HYPERTENSION diagnosis SPONTANEOUSLY ELEVATED BP</td>\n",
       "      <td>diagnosis</td>\n",
       "      <td>0.480384</td>\n",
       "      <td>Taken together, these data suggest that African green monkeys with SPONTANEOUSLY ELEVATED BP may be a useful experimental model for particular types of human HYPERTENSION</td>\n",
       "      <td>SPONTANEOUSLY ELEVATED BP</td>\n",
       "      <td>HYPERTENSION</td>\n",
       "    </tr>\n",
       "    <tr>\n",
       "      <th>128</th>\n",
       "      <td>HYPERTENSION diagnosis SPONTANEOUSLY ELEVATED BP</td>\n",
       "      <td>diagnosis</td>\n",
       "      <td>0.480384</td>\n",
       "      <td>Taken together, these data suggest that African green monkeys with SPONTANEOUSLY ELEVATED BP may be a useful experimental model for particular types of human HYPERTENSION</td>\n",
       "      <td>SPONTANEOUSLY ELEVATED BP</td>\n",
       "      <td>HYPERTENSION</td>\n",
       "    </tr>\n",
       "    <tr>\n",
       "      <th>129</th>\n",
       "      <td>HYPERTENSION diagnosis SPONTANEOUSLY ELEVATED BP</td>\n",
       "      <td>diagnosis</td>\n",
       "      <td>0.480384</td>\n",
       "      <td>Taken together, these data suggest that African green monkeys with SPONTANEOUSLY ELEVATED BP may be a useful experimental model for particular types of human HYPERTENSION</td>\n",
       "      <td>SPONTANEOUSLY ELEVATED BP</td>\n",
       "      <td>HYPERTENSION</td>\n",
       "    </tr>\n",
       "    <tr>\n",
       "      <th>130</th>\n",
       "      <td>no_relation</td>\n",
       "      <td>diagnosis</td>\n",
       "      <td>0.480384</td>\n",
       "      <td>Taken together, these data suggest that African green monkeys with SPONTANEOUSLY ELEVATED BP may be a useful experimental model for particular types of human HYPERTENSION</td>\n",
       "      <td>SPONTANEOUSLY ELEVATED BP</td>\n",
       "      <td>HYPERTENSION</td>\n",
       "    </tr>\n",
       "    <tr>\n",
       "      <th>131</th>\n",
       "      <td>SPONTANEOUSLY ELEVATED BP diagnosis HYPERTENSION</td>\n",
       "      <td>diagnosis</td>\n",
       "      <td>0.480384</td>\n",
       "      <td>Taken together, these data suggest that African green monkeys with SPONTANEOUSLY ELEVATED BP may be a useful experimental model for particular types of human HYPERTENSION</td>\n",
       "      <td>SPONTANEOUSLY ELEVATED BP</td>\n",
       "      <td>HYPERTENSION</td>\n",
       "    </tr>\n",
       "    <tr>\n",
       "      <th>132</th>\n",
       "      <td>no_relation</td>\n",
       "      <td>diagnosis</td>\n",
       "      <td>0.480384</td>\n",
       "      <td>Taken together, these data suggest that African green monkeys with SPONTANEOUSLY ELEVATED BP may be a useful experimental model for particular types of human HYPERTENSION</td>\n",
       "      <td>SPONTANEOUSLY ELEVATED BP</td>\n",
       "      <td>HYPERTENSION</td>\n",
       "    </tr>\n",
       "    <tr>\n",
       "      <th>238</th>\n",
       "      <td>no_relation</td>\n",
       "      <td>causes</td>\n",
       "      <td>0.640513</td>\n",
       "      <td>Taken together, these data suggest that African green monkeys with SPONTANEOUSLY ELEVATED BP may be a useful experimental model for particular types of human HYPERTENSION</td>\n",
       "      <td>SPONTANEOUSLY ELEVATED BP</td>\n",
       "      <td>HYPERTENSION</td>\n",
       "    </tr>\n",
       "    <tr>\n",
       "      <th>239</th>\n",
       "      <td>SPONTANEOUSLY ELEVATED BP causes HYPERTENSION</td>\n",
       "      <td>causes</td>\n",
       "      <td>0.640513</td>\n",
       "      <td>Taken together, these data suggest that African green monkeys with SPONTANEOUSLY ELEVATED BP may be a useful experimental model for particular types of human HYPERTENSION</td>\n",
       "      <td>SPONTANEOUSLY ELEVATED BP</td>\n",
       "      <td>HYPERTENSION</td>\n",
       "    </tr>\n",
       "    <tr>\n",
       "      <th>240</th>\n",
       "      <td>HYPERTENSION causes SPONTANEOUSLY ELEVATED BP</td>\n",
       "      <td>causes</td>\n",
       "      <td>0.640513</td>\n",
       "      <td>Taken together, these data suggest that African green monkeys with SPONTANEOUSLY ELEVATED BP may be a useful experimental model for particular types of human HYPERTENSION</td>\n",
       "      <td>SPONTANEOUSLY ELEVATED BP</td>\n",
       "      <td>HYPERTENSION</td>\n",
       "    </tr>\n",
       "    <tr>\n",
       "      <th>241</th>\n",
       "      <td>no_relation</td>\n",
       "      <td>causes</td>\n",
       "      <td>0.640513</td>\n",
       "      <td>Taken together, these data suggest that African green monkeys with SPONTANEOUSLY ELEVATED BP may be a useful experimental model for particular types of human HYPERTENSION</td>\n",
       "      <td>SPONTANEOUSLY ELEVATED BP</td>\n",
       "      <td>HYPERTENSION</td>\n",
       "    </tr>\n",
       "    <tr>\n",
       "      <th>242</th>\n",
       "      <td>SPONTANEOUSLY ELEVATED BP causes HYPERTENSION</td>\n",
       "      <td>causes</td>\n",
       "      <td>0.640513</td>\n",
       "      <td>Taken together, these data suggest that African green monkeys with SPONTANEOUSLY ELEVATED BP may be a useful experimental model for particular types of human HYPERTENSION</td>\n",
       "      <td>SPONTANEOUSLY ELEVATED BP</td>\n",
       "      <td>HYPERTENSION</td>\n",
       "    </tr>\n",
       "    <tr>\n",
       "      <th>243</th>\n",
       "      <td>SPONTANEOUSLY ELEVATED BP causes HYPERTENSION</td>\n",
       "      <td>causes</td>\n",
       "      <td>0.640513</td>\n",
       "      <td>Taken together, these data suggest that African green monkeys with SPONTANEOUSLY ELEVATED BP may be a useful experimental model for particular types of human HYPERTENSION</td>\n",
       "      <td>SPONTANEOUSLY ELEVATED BP</td>\n",
       "      <td>HYPERTENSION</td>\n",
       "    </tr>\n",
       "    <tr>\n",
       "      <th>244</th>\n",
       "      <td>HYPERTENSION causes SPONTANEOUSLY ELEVATED BP</td>\n",
       "      <td>causes</td>\n",
       "      <td>0.640513</td>\n",
       "      <td>Taken together, these data suggest that African green monkeys with SPONTANEOUSLY ELEVATED BP may be a useful experimental model for particular types of human HYPERTENSION</td>\n",
       "      <td>SPONTANEOUSLY ELEVATED BP</td>\n",
       "      <td>HYPERTENSION</td>\n",
       "    </tr>\n",
       "  </tbody>\n",
       "</table>\n",
       "</div>"
      ],
      "text/plain": [
       "                                            direction   relation  \\\n",
       "126  HYPERTENSION diagnosis SPONTANEOUSLY ELEVATED BP  diagnosis   \n",
       "127  HYPERTENSION diagnosis SPONTANEOUSLY ELEVATED BP  diagnosis   \n",
       "128  HYPERTENSION diagnosis SPONTANEOUSLY ELEVATED BP  diagnosis   \n",
       "129  HYPERTENSION diagnosis SPONTANEOUSLY ELEVATED BP  diagnosis   \n",
       "130                                       no_relation  diagnosis   \n",
       "131  SPONTANEOUSLY ELEVATED BP diagnosis HYPERTENSION  diagnosis   \n",
       "132                                       no_relation  diagnosis   \n",
       "238                                       no_relation     causes   \n",
       "239     SPONTANEOUSLY ELEVATED BP causes HYPERTENSION     causes   \n",
       "240     HYPERTENSION causes SPONTANEOUSLY ELEVATED BP     causes   \n",
       "241                                       no_relation     causes   \n",
       "242     SPONTANEOUSLY ELEVATED BP causes HYPERTENSION     causes   \n",
       "243     SPONTANEOUSLY ELEVATED BP causes HYPERTENSION     causes   \n",
       "244     HYPERTENSION causes SPONTANEOUSLY ELEVATED BP     causes   \n",
       "\n",
       "     relex_relcos  \\\n",
       "126      0.480384   \n",
       "127      0.480384   \n",
       "128      0.480384   \n",
       "129      0.480384   \n",
       "130      0.480384   \n",
       "131      0.480384   \n",
       "132      0.480384   \n",
       "238      0.640513   \n",
       "239      0.640513   \n",
       "240      0.640513   \n",
       "241      0.640513   \n",
       "242      0.640513   \n",
       "243      0.640513   \n",
       "244      0.640513   \n",
       "\n",
       "                                                                                                                                                                       sentence  \\\n",
       "126  Taken together, these data suggest that African green monkeys with SPONTANEOUSLY ELEVATED BP may be a useful experimental model for particular types of human HYPERTENSION   \n",
       "127  Taken together, these data suggest that African green monkeys with SPONTANEOUSLY ELEVATED BP may be a useful experimental model for particular types of human HYPERTENSION   \n",
       "128  Taken together, these data suggest that African green monkeys with SPONTANEOUSLY ELEVATED BP may be a useful experimental model for particular types of human HYPERTENSION   \n",
       "129  Taken together, these data suggest that African green monkeys with SPONTANEOUSLY ELEVATED BP may be a useful experimental model for particular types of human HYPERTENSION   \n",
       "130  Taken together, these data suggest that African green monkeys with SPONTANEOUSLY ELEVATED BP may be a useful experimental model for particular types of human HYPERTENSION   \n",
       "131  Taken together, these data suggest that African green monkeys with SPONTANEOUSLY ELEVATED BP may be a useful experimental model for particular types of human HYPERTENSION   \n",
       "132  Taken together, these data suggest that African green monkeys with SPONTANEOUSLY ELEVATED BP may be a useful experimental model for particular types of human HYPERTENSION   \n",
       "238  Taken together, these data suggest that African green monkeys with SPONTANEOUSLY ELEVATED BP may be a useful experimental model for particular types of human HYPERTENSION   \n",
       "239  Taken together, these data suggest that African green monkeys with SPONTANEOUSLY ELEVATED BP may be a useful experimental model for particular types of human HYPERTENSION   \n",
       "240  Taken together, these data suggest that African green monkeys with SPONTANEOUSLY ELEVATED BP may be a useful experimental model for particular types of human HYPERTENSION   \n",
       "241  Taken together, these data suggest that African green monkeys with SPONTANEOUSLY ELEVATED BP may be a useful experimental model for particular types of human HYPERTENSION   \n",
       "242  Taken together, these data suggest that African green monkeys with SPONTANEOUSLY ELEVATED BP may be a useful experimental model for particular types of human HYPERTENSION   \n",
       "243  Taken together, these data suggest that African green monkeys with SPONTANEOUSLY ELEVATED BP may be a useful experimental model for particular types of human HYPERTENSION   \n",
       "244  Taken together, these data suggest that African green monkeys with SPONTANEOUSLY ELEVATED BP may be a useful experimental model for particular types of human HYPERTENSION   \n",
       "\n",
       "                         term1         term2  \n",
       "126  SPONTANEOUSLY ELEVATED BP  HYPERTENSION  \n",
       "127  SPONTANEOUSLY ELEVATED BP  HYPERTENSION  \n",
       "128  SPONTANEOUSLY ELEVATED BP  HYPERTENSION  \n",
       "129  SPONTANEOUSLY ELEVATED BP  HYPERTENSION  \n",
       "130  SPONTANEOUSLY ELEVATED BP  HYPERTENSION  \n",
       "131  SPONTANEOUSLY ELEVATED BP  HYPERTENSION  \n",
       "132  SPONTANEOUSLY ELEVATED BP  HYPERTENSION  \n",
       "238  SPONTANEOUSLY ELEVATED BP  HYPERTENSION  \n",
       "239  SPONTANEOUSLY ELEVATED BP  HYPERTENSION  \n",
       "240  SPONTANEOUSLY ELEVATED BP  HYPERTENSION  \n",
       "241  SPONTANEOUSLY ELEVATED BP  HYPERTENSION  \n",
       "242  SPONTANEOUSLY ELEVATED BP  HYPERTENSION  \n",
       "243  SPONTANEOUSLY ELEVATED BP  HYPERTENSION  \n",
       "244  SPONTANEOUSLY ELEVATED BP  HYPERTENSION  "
      ]
     },
     "execution_count": 41,
     "metadata": {},
     "output_type": "execute_result"
    }
   ],
   "source": [
    "train.loc[train['sentence'] == 'Taken together, these data suggest that African green monkeys with SPONTANEOUSLY ELEVATED BP may be a useful experimental model for particular types of human HYPERTENSION']"
   ]
  },
  {
   "cell_type": "markdown",
   "metadata": {},
   "source": [
    "We decided to remove those 101 sentences because it may cause confusion during the model training as well."
   ]
  },
  {
   "cell_type": "code",
   "execution_count": 42,
   "metadata": {},
   "outputs": [],
   "source": [
    "train_unique = train_unique.query(f'sentence not in {train_ambiguious_sentence}').reset_index(drop = True)"
   ]
  },
  {
   "cell_type": "code",
   "execution_count": 43,
   "metadata": {},
   "outputs": [
    {
     "data": {
      "text/plain": [
       "1517"
      ]
     },
     "execution_count": 43,
     "metadata": {},
     "output_type": "execute_result"
    }
   ],
   "source": [
    "len(train_unique)"
   ]
  },
  {
   "cell_type": "markdown",
   "metadata": {},
   "source": [
    "And we set best direction of sentence by refering mode of each sentence's direction:"
   ]
  },
  {
   "cell_type": "code",
   "execution_count": 44,
   "metadata": {
    "scrolled": true
   },
   "outputs": [],
   "source": [
    "train_unique['direction'] = train_unique['sentence'].apply(\n",
    "    lambda x: train.loc[train['sentence'] == x, 'direction'].mode()[0])"
   ]
  },
  {
   "cell_type": "markdown",
   "metadata": {},
   "source": [
    "Apply same logic to validation and test data as well.\\\n",
    "Validation data:"
   ]
  },
  {
   "cell_type": "code",
   "execution_count": 45,
   "metadata": {},
   "outputs": [
    {
     "data": {
      "text/plain": [
       "584"
      ]
     },
     "execution_count": 45,
     "metadata": {},
     "output_type": "execute_result"
    }
   ],
   "source": [
    "validation_unique = validation.drop_duplicates(subset='sentence', ignore_index=True)\n",
    "validation_unique_sentence = list(validation_unique['sentence'])\n",
    "len(validation_unique_sentence)"
   ]
  },
  {
   "cell_type": "code",
   "execution_count": 46,
   "metadata": {},
   "outputs": [
    {
     "data": {
      "text/plain": [
       "5"
      ]
     },
     "execution_count": 46,
     "metadata": {},
     "output_type": "execute_result"
    }
   ],
   "source": [
    "validation_ambiguious_sentence = get_ambiguous_sentences(validation, validation_unique_sentence)\n",
    "len(validation_ambiguious_sentence)"
   ]
  },
  {
   "cell_type": "code",
   "execution_count": 47,
   "metadata": {},
   "outputs": [],
   "source": [
    "validation_unique = validation_unique.query(f'sentence not in {validation_ambiguious_sentence}').reset_index(drop = True)\n",
    "validation_unique['direction'] = validation_unique['sentence'].apply(\n",
    "    lambda x: validation.loc[validation['sentence'] == x, 'direction'].mode()[0])"
   ]
  },
  {
   "cell_type": "markdown",
   "metadata": {},
   "source": [
    "Test data:"
   ]
  },
  {
   "cell_type": "code",
   "execution_count": 48,
   "metadata": {},
   "outputs": [
    {
     "data": {
      "text/plain": [
       "590"
      ]
     },
     "execution_count": 48,
     "metadata": {},
     "output_type": "execute_result"
    }
   ],
   "source": [
    "test_unique = test.drop_duplicates(subset='sentence', ignore_index=True)\n",
    "test_unique_sentence = list(test_unique['sentence'])\n",
    "len(test_unique_sentence)"
   ]
  },
  {
   "cell_type": "code",
   "execution_count": 49,
   "metadata": {},
   "outputs": [
    {
     "data": {
      "text/plain": [
       "9"
      ]
     },
     "execution_count": 49,
     "metadata": {},
     "output_type": "execute_result"
    }
   ],
   "source": [
    "test_ambiguious_sentence = get_ambiguous_sentences(test, test_unique_sentence)\n",
    "len(test_ambiguious_sentence)"
   ]
  },
  {
   "cell_type": "code",
   "execution_count": 50,
   "metadata": {},
   "outputs": [],
   "source": [
    "test_unique = test_unique.query(f'sentence not in {validation_ambiguious_sentence}').reset_index(drop = True)\n",
    "test_unique['direction'] = test_unique['sentence'].apply(\n",
    "    lambda x: test.loc[test['sentence'] == x, 'direction'].mode()[0])"
   ]
  },
  {
   "cell_type": "markdown",
   "metadata": {},
   "source": [
    "### Save data for reuse"
   ]
  },
  {
   "cell_type": "code",
   "execution_count": 51,
   "metadata": {},
   "outputs": [],
   "source": [
    "dest = path/'for_training'\n",
    "if not os.path.exists(dest):\n",
    "    os.makedirs(dest)\n",
    "\n",
    "train_unique.to_csv(dest/'train.csv', index=False)\n",
    "test_unique.to_csv(dest/'test.csv', index=False)\n",
    "validation_unique.to_csv(dest/'validation.csv', index=False)"
   ]
  },
  {
   "cell_type": "markdown",
   "metadata": {},
   "source": [
    "## 4. Class distribution check"
   ]
  },
  {
   "cell_type": "code",
   "execution_count": 52,
   "metadata": {},
   "outputs": [
    {
     "data": {
      "text/plain": [
       "relation\n",
       "causes             780\n",
       "contraindicates      7\n",
       "diagnosis           55\n",
       "location            63\n",
       "treats             612\n",
       "Name: sentence, dtype: int64"
      ]
     },
     "execution_count": 52,
     "metadata": {},
     "output_type": "execute_result"
    }
   ],
   "source": [
    "train_unique.groupby('relation')['sentence'].count()"
   ]
  },
  {
   "cell_type": "code",
   "execution_count": 53,
   "metadata": {
    "scrolled": true
   },
   "outputs": [
    {
     "data": {
      "text/plain": [
       "relation\n",
       "causes             275\n",
       "contraindicates      5\n",
       "diagnosis           28\n",
       "location            25\n",
       "treats             246\n",
       "Name: sentence, dtype: int64"
      ]
     },
     "execution_count": 53,
     "metadata": {},
     "output_type": "execute_result"
    }
   ],
   "source": [
    "validation_unique.groupby('relation')['sentence'].count()"
   ]
  },
  {
   "cell_type": "code",
   "execution_count": 54,
   "metadata": {},
   "outputs": [
    {
     "data": {
      "text/plain": [
       "relation\n",
       "causes             293\n",
       "contraindicates      4\n",
       "diagnosis           34\n",
       "location            32\n",
       "treats             227\n",
       "Name: sentence, dtype: int64"
      ]
     },
     "execution_count": 54,
     "metadata": {},
     "output_type": "execute_result"
    }
   ],
   "source": [
    "test_unique.groupby('relation')['sentence'].count()"
   ]
  },
  {
   "cell_type": "markdown",
   "metadata": {},
   "source": [
    "## 5. Fix unbalanced data"
   ]
  },
  {
   "cell_type": "code",
   "execution_count": 55,
   "metadata": {},
   "outputs": [],
   "source": [
    "def downsample(df, n):\n",
    "    columns = ['causes', 'treats', 'contraindicates']\n",
    "    causes_downsampled = df.query(\"relation == 'causes'\").sample(n=n, replace=False, random_state=777)\n",
    "    treats_downsampled = df.query(\"relation == 'treats'\").sample(n=n, replace=False, random_state=777)\n",
    "    other = df.query(f\"relation not in {columns}\")\n",
    "    return pd.concat([causes_downsampled, treats_downsampled, other])"
   ]
  },
  {
   "cell_type": "code",
   "execution_count": 56,
   "metadata": {},
   "outputs": [],
   "source": [
    "train_downsampled = downsample(train_unique, 60)\n",
    "validation_downsampled = downsample(validation_unique, 30)\n",
    "test_downsampled = downsample(test_unique, 30)"
   ]
  },
  {
   "cell_type": "code",
   "execution_count": 57,
   "metadata": {},
   "outputs": [
    {
     "data": {
      "text/plain": [
       "relation\n",
       "causes       60\n",
       "diagnosis    55\n",
       "location     63\n",
       "treats       60\n",
       "Name: sentence, dtype: int64"
      ]
     },
     "execution_count": 57,
     "metadata": {},
     "output_type": "execute_result"
    }
   ],
   "source": [
    "train_downsampled.groupby('relation')['sentence'].count()"
   ]
  },
  {
   "cell_type": "code",
   "execution_count": 58,
   "metadata": {},
   "outputs": [
    {
     "data": {
      "text/plain": [
       "relation\n",
       "causes       30\n",
       "diagnosis    28\n",
       "location     25\n",
       "treats       30\n",
       "Name: sentence, dtype: int64"
      ]
     },
     "execution_count": 58,
     "metadata": {},
     "output_type": "execute_result"
    }
   ],
   "source": [
    "validation_downsampled.groupby('relation')['sentence'].count()"
   ]
  },
  {
   "cell_type": "code",
   "execution_count": 59,
   "metadata": {
    "scrolled": true
   },
   "outputs": [
    {
     "data": {
      "text/plain": [
       "relation\n",
       "causes       30\n",
       "diagnosis    34\n",
       "location     32\n",
       "treats       30\n",
       "Name: sentence, dtype: int64"
      ]
     },
     "execution_count": 59,
     "metadata": {},
     "output_type": "execute_result"
    }
   ],
   "source": [
    "test_downsampled.groupby('relation')['sentence'].count()"
   ]
  },
  {
   "cell_type": "markdown",
   "metadata": {},
   "source": [
    "### Save data for training"
   ]
  },
  {
   "cell_type": "code",
   "execution_count": 60,
   "metadata": {},
   "outputs": [],
   "source": [
    "dest = path/'for_training'\n",
    "if not os.path.exists(dest):\n",
    "    os.makedirs(dest)\n",
    "\n",
    "train_downsampled.to_csv(dest/'train_downsampled.csv', index=False)\n",
    "test_downsampled.to_csv(dest/'test_downsampled.csv', index=False)\n",
    "validation_downsampled.to_csv(dest/'validation_downsampled.csv', index=False)"
   ]
  },
  {
   "cell_type": "markdown",
   "metadata": {},
   "source": [
    "# Multi-class classification"
   ]
  },
  {
   "cell_type": "markdown",
   "metadata": {},
   "source": [
    "## Importing data"
   ]
  },
  {
   "cell_type": "code",
   "execution_count": 61,
   "metadata": {},
   "outputs": [],
   "source": [
    "data_path = path/'for_training'"
   ]
  },
  {
   "cell_type": "code",
   "execution_count": 62,
   "metadata": {},
   "outputs": [
    {
     "data": {
      "text/html": [],
      "text/plain": [
       "<IPython.core.display.HTML object>"
      ]
     },
     "metadata": {},
     "output_type": "display_data"
    },
    {
     "data": {
      "text/html": [],
      "text/plain": [
       "<IPython.core.display.HTML object>"
      ]
     },
     "metadata": {},
     "output_type": "display_data"
    }
   ],
   "source": [
    "data = TextLMDataBunch.from_df(path = data_path,\n",
    "                               train_df=train_unique,\n",
    "                               valid_df=validation_unique,\n",
    "                               text_cols = 'sentence',\n",
    "                               label_cols = 'relation')"
   ]
  },
  {
   "cell_type": "code",
   "execution_count": 63,
   "metadata": {},
   "outputs": [],
   "source": [
    "data.save()"
   ]
  },
  {
   "cell_type": "markdown",
   "metadata": {},
   "source": [
    "When we import data using fastai.text.TextDataBunch, it automatically tokenize the sentence."
   ]
  },
  {
   "cell_type": "code",
   "execution_count": 64,
   "metadata": {},
   "outputs": [
    {
     "data": {
      "text/html": [
       "<table border=\"1\" class=\"dataframe\">\n",
       "  <thead>\n",
       "    <tr style=\"text-align: right;\">\n",
       "      <th>idx</th>\n",
       "      <th>text</th>\n",
       "    </tr>\n",
       "  </thead>\n",
       "  <tbody>\n",
       "    <tr>\n",
       "      <td>0</td>\n",
       "      <td>neuroblastoma , retinoblastoma , xxup osteosarcoma xxmaj wilms ' tumour , xxup retinoblastoma xxmaj xxunk ' sarcoma , central nervous system ( xxup cns ) tumours and xxunk . xxbos xxmaj acute xxunk state moderate exercise significantly altered circulating ige concentrations in volunteers with known xxup allergy while ige concentrations in xxup non xxup allergy sufferers did not change . xxbos xxup salmeterol prevented xxup exercise xxup induced xxup asthma</td>\n",
       "    </tr>\n",
       "    <tr>\n",
       "      <td>1</td>\n",
       "      <td>combination for painful knee osteoarthritis xxmaj osteoarthritis and xxmaj cartilage a randomized , placebo controlled , cross over study of xxunk extracts and ibuprofen in osteoarthritis xxmaj rheumatic xxmaj diseases xxmaj xxunk of xxmaj north xxmaj xxunk xxmaj xxunk and rheumatic disease xxmaj rheumatology ( xxmaj xxunk ) a randomized , double blind , placebo controlled trial of xxup glucosamine xxup sulphate as an analgesic in xxup osteoarthritis xxup of</td>\n",
       "    </tr>\n",
       "    <tr>\n",
       "      <td>2</td>\n",
       "      <td>the xxup bronchial xxup hyperreactivity to xxup methacholine inhalation challenge were observed on the first day of study . xxbos xxmaj on the other hand xxup primary xxup skin xxup diseases such as xxup psoriasis atopic dermatitis , xxunk vulgaris , chronic idiopathic urticaria and alopecia areata may induce xxunk features . xxbos xxmaj we describe a patient with cutaneous xxunk who presented with xxup neurological xxup symptoms due to</td>\n",
       "    </tr>\n",
       "    <tr>\n",
       "      <td>3</td>\n",
       "      <td>de xxunk appeared xxup hypertension in a young female patient at her xxunk trimester of pregnancy . xxbos xxmaj phase xxup iii study of concurrent xxunk with cisplatin , vinblastine , dacarbazine , interleukin 2 , and interferon alfa 2b versus cisplatin , vinblastine , and xxup dacarbazine alone in patients with xxup metastatic xxup malignant xxup melanoma ( xxunk last modified 10 / xxunk . xxbos xxmaj when xxunk</td>\n",
       "    </tr>\n",
       "    <tr>\n",
       "      <td>4</td>\n",
       "      <td>) can be given to xxunk to control xxup inflammation in patients who develop severe renal disease . xxbos xxmaj studies have shown that xxup subcutaneous xxup xxunk 20 microg / day is effective in women with xxup postmenopausal xxup osteoporosis men with idiopathic or xxunk osteoporosis and patients with glucocorticoid induced osteoporosis . xxbos xxup mastocytosis is a heterogeneous group of disorders characterized by mast cell xxup hyperplasia xxup</td>\n",
       "    </tr>\n",
       "  </tbody>\n",
       "</table>"
      ],
      "text/plain": [
       "<IPython.core.display.HTML object>"
      ]
     },
     "metadata": {},
     "output_type": "display_data"
    }
   ],
   "source": [
    "data.show_batch()"
   ]
  },
  {
   "cell_type": "markdown",
   "metadata": {},
   "source": [
    "As you see they use special tokens.\n",
    "\n",
    "The rules are all listed below, here is the meaning of the special tokens:\n",
    "- UNK (xxunk) is for an unknown word (one that isn't present in the current vocabulary)\n",
    "- PAD (xxpad) is the token used for padding, if we need to regroup several texts of different lengths in a batch\n",
    "- BOS (xxbos) represents the beginning of a text in your dataset\n",
    "- FLD (xxfld) is used if you set mark_fields=True in your TokenizeProcessor to separate the different fields of texts (if your texts are loaded from several columns in a dataframe)\n",
    "- TK_MAJ (xxmaj) is used to indicate the next word begins with a capital in the original text\n",
    "- TK_UP (xxup) is used to indicate the next word is written in all caps in the original text\n",
    "- TK_REP (xxrep) is used to indicate the next character is repeated n times in the original text (usage xxrep n {char})\n",
    "- TK_WREP(xxwrep) is used to indicate the next word is repeated n times in the original text (usage xxwrep n {word})\n",
    "\n",
    "Refer [here](https://docs.fast.ai/text.transform.html#Tokenizer) for more information."
   ]
  },
  {
   "cell_type": "code",
   "execution_count": 65,
   "metadata": {},
   "outputs": [
    {
     "name": "stdout",
     "output_type": "stream",
     "text": [
      "Total number of tokens in a vocabulary: 3672\n",
      "Sample tokens:\n",
      "['xxunk', 'xxpad', 'xxbos', 'xxeos', 'xxfld', 'xxmaj', 'xxup', 'xxrep', 'xxwrep', ',', 'of', 'the', 'and', 'in', '.', 'with', 'a', '(', 'to', ')', 'for', 'or', 'is', 'patients', 'by', 'treatment', ':', ']', '[', ';', 'as', 'that', 'be', 'may', 'are', 'disease', 'was', 'pain', 'an', '%', '1', 'syndrome', 'from', 'caused', 'not', 'were', '/', 'on', 'therapy', 'other']\n"
     ]
    }
   ],
   "source": [
    "print(f'Total number of tokens in a vocabulary: {len(data.vocab.itos)}')\n",
    "print(f'Sample tokens:\\n{data.vocab.itos[:50]}')"
   ]
  },
  {
   "cell_type": "markdown",
   "metadata": {},
   "source": [
    "## Train language model with transfer learning based on Wikitext 103 language model"
   ]
  },
  {
   "cell_type": "markdown",
   "metadata": {},
   "source": [
    "We will use sequence to sequence model consist of awd_lstm layers trained with Wiki103 data as a base model of our classifier. Before we build classifier, we will build language model first to make our model have some sense of the language used in our dataset."
   ]
  },
  {
   "cell_type": "code",
   "execution_count": 66,
   "metadata": {},
   "outputs": [],
   "source": [
    "language_model = language_model_learner(data, AWD_LSTM, drop_mult=0.3)"
   ]
  },
  {
   "cell_type": "markdown",
   "metadata": {},
   "source": [
    "Find good learning rate"
   ]
  },
  {
   "cell_type": "code",
   "execution_count": 67,
   "metadata": {},
   "outputs": [
    {
     "data": {
      "text/html": [
       "\n",
       "    <div>\n",
       "        <style>\n",
       "            /* Turns off some styling */\n",
       "            progress {\n",
       "                /* gets rid of default border in Firefox and Opera. */\n",
       "                border: none;\n",
       "                /* Needs to be in here for Safari polyfill so background images work as expected. */\n",
       "                background-size: auto;\n",
       "            }\n",
       "            .progress-bar-interrupted, .progress-bar-interrupted::-webkit-progress-bar {\n",
       "                background: #F44336;\n",
       "            }\n",
       "        </style>\n",
       "      <progress value='7' class='' max='8', style='width:300px; height:20px; vertical-align: middle;'></progress>\n",
       "      87.50% [7/8 00:14<00:02]\n",
       "    </div>\n",
       "    \n",
       "<table border=\"1\" class=\"dataframe\">\n",
       "  <thead>\n",
       "    <tr style=\"text-align: left;\">\n",
       "      <th>epoch</th>\n",
       "      <th>train_loss</th>\n",
       "      <th>valid_loss</th>\n",
       "      <th>accuracy</th>\n",
       "      <th>time</th>\n",
       "    </tr>\n",
       "  </thead>\n",
       "  <tbody>\n",
       "    <tr>\n",
       "      <td>0</td>\n",
       "      <td>5.353878</td>\n",
       "      <td>#na#</td>\n",
       "      <td>00:02</td>\n",
       "    </tr>\n",
       "    <tr>\n",
       "      <td>1</td>\n",
       "      <td>5.359056</td>\n",
       "      <td>#na#</td>\n",
       "      <td>00:01</td>\n",
       "    </tr>\n",
       "    <tr>\n",
       "      <td>2</td>\n",
       "      <td>5.355369</td>\n",
       "      <td>#na#</td>\n",
       "      <td>00:01</td>\n",
       "    </tr>\n",
       "    <tr>\n",
       "      <td>3</td>\n",
       "      <td>5.332349</td>\n",
       "      <td>#na#</td>\n",
       "      <td>00:02</td>\n",
       "    </tr>\n",
       "    <tr>\n",
       "      <td>4</td>\n",
       "      <td>5.169907</td>\n",
       "      <td>#na#</td>\n",
       "      <td>00:02</td>\n",
       "    </tr>\n",
       "    <tr>\n",
       "      <td>5</td>\n",
       "      <td>4.826412</td>\n",
       "      <td>#na#</td>\n",
       "      <td>00:02</td>\n",
       "    </tr>\n",
       "    <tr>\n",
       "      <td>6</td>\n",
       "      <td>4.852095</td>\n",
       "      <td>#na#</td>\n",
       "      <td>00:02</td>\n",
       "    </tr>\n",
       "  </tbody>\n",
       "</table><p>\n",
       "\n",
       "    <div>\n",
       "        <style>\n",
       "            /* Turns off some styling */\n",
       "            progress {\n",
       "                /* gets rid of default border in Firefox and Opera. */\n",
       "                border: none;\n",
       "                /* Needs to be in here for Safari polyfill so background images work as expected. */\n",
       "                background-size: auto;\n",
       "            }\n",
       "            .progress-bar-interrupted, .progress-bar-interrupted::-webkit-progress-bar {\n",
       "                background: #F44336;\n",
       "            }\n",
       "        </style>\n",
       "      <progress value='8' class='' max='13', style='width:300px; height:20px; vertical-align: middle;'></progress>\n",
       "      61.54% [8/13 00:01<00:00 8.4261]\n",
       "    </div>\n",
       "    "
      ],
      "text/plain": [
       "<IPython.core.display.HTML object>"
      ]
     },
     "metadata": {},
     "output_type": "display_data"
    },
    {
     "name": "stdout",
     "output_type": "stream",
     "text": [
      "LR Finder is complete, type {learner_name}.recorder.plot() to see the graph.\n"
     ]
    }
   ],
   "source": [
    "language_model.lr_find()"
   ]
  },
  {
   "cell_type": "code",
   "execution_count": 68,
   "metadata": {
    "scrolled": true
   },
   "outputs": [
    {
     "name": "stdout",
     "output_type": "stream",
     "text": [
      "Min numerical gradient: 1.74E-01\n",
      "Min loss divided by 10: 5.25E-02\n"
     ]
    },
    {
     "data": {
      "image/png": "[encoded data removed]",
      "text/plain": [
       "<Figure size 432x288 with 1 Axes>"
      ]
     },
     "metadata": {
      "needs_background": "light"
     },
     "output_type": "display_data"
    }
   ],
   "source": [
    "language_model.recorder.plot(skip_end=15, suggestion = True)\n",
    "min_grad_lr = language_model.recorder.min_grad_lr"
   ]
  },
  {
   "cell_type": "code",
   "execution_count": 69,
   "metadata": {
    "scrolled": true
   },
   "outputs": [
    {
     "data": {
      "text/html": [
       "<table border=\"1\" class=\"dataframe\">\n",
       "  <thead>\n",
       "    <tr style=\"text-align: left;\">\n",
       "      <th>epoch</th>\n",
       "      <th>train_loss</th>\n",
       "      <th>valid_loss</th>\n",
       "      <th>accuracy</th>\n",
       "      <th>time</th>\n",
       "    </tr>\n",
       "  </thead>\n",
       "  <tbody>\n",
       "    <tr>\n",
       "      <td>0</td>\n",
       "      <td>5.183836</td>\n",
       "      <td>4.190846</td>\n",
       "      <td>0.300446</td>\n",
       "      <td>00:02</td>\n",
       "    </tr>\n",
       "  </tbody>\n",
       "</table>"
      ],
      "text/plain": [
       "<IPython.core.display.HTML object>"
      ]
     },
     "metadata": {},
     "output_type": "display_data"
    }
   ],
   "source": [
    "language_model.fit_one_cycle(1, min_grad_lr, moms=(0.8,0.7))"
   ]
  },
  {
   "cell_type": "code",
   "execution_count": 70,
   "metadata": {
    "scrolled": false
   },
   "outputs": [
    {
     "data": {
      "text/html": [
       "<table border=\"1\" class=\"dataframe\">\n",
       "  <thead>\n",
       "    <tr style=\"text-align: left;\">\n",
       "      <th>epoch</th>\n",
       "      <th>train_loss</th>\n",
       "      <th>valid_loss</th>\n",
       "      <th>accuracy</th>\n",
       "      <th>time</th>\n",
       "    </tr>\n",
       "  </thead>\n",
       "  <tbody>\n",
       "    <tr>\n",
       "      <td>0</td>\n",
       "      <td>3.898834</td>\n",
       "      <td>3.719529</td>\n",
       "      <td>0.354643</td>\n",
       "      <td>00:02</td>\n",
       "    </tr>\n",
       "    <tr>\n",
       "      <td>1</td>\n",
       "      <td>3.393292</td>\n",
       "      <td>3.274726</td>\n",
       "      <td>0.420491</td>\n",
       "      <td>00:02</td>\n",
       "    </tr>\n",
       "    <tr>\n",
       "      <td>2</td>\n",
       "      <td>2.839921</td>\n",
       "      <td>3.301594</td>\n",
       "      <td>0.430223</td>\n",
       "      <td>00:02</td>\n",
       "    </tr>\n",
       "  </tbody>\n",
       "</table>"
      ],
      "text/plain": [
       "<IPython.core.display.HTML object>"
      ]
     },
     "metadata": {},
     "output_type": "display_data"
    }
   ],
   "source": [
    "language_model.unfreeze()\n",
    "language_model.fit_one_cycle(3, 1e-2, moms=(0.8,0.7))"
   ]
  },
  {
   "cell_type": "markdown",
   "metadata": {},
   "source": [
    "To check our language model's performance, we printed out 5 sentences with the input \"The evidence for.\" Though the accuracy is 0.41 and losses are high, it seems our language model works pretty well. We used this way as a heuristic way of assessing the language model's performance."
   ]
  },
  {
   "cell_type": "code",
   "execution_count": 71,
   "metadata": {
    "scrolled": true
   },
   "outputs": [
    {
     "name": "stdout",
     "output_type": "stream",
     "text": [
      "if they cause [ AMPHOTERICIN b ] , exercise learning to take a follow up of symptoms such as right heart failure or heart failure antidepressants , and evaluation of the dysplastic elevation that prevents the rifapentine extremely still unclear , with no effects on natural approaches . xxbos Unlike REVIEW does not mean that the physician must recommend an oral 146 proteins in fluconazole risks because of the rash of spot or spot INFLAMMATION xxbos We present a patient with a hair who developed a COMPLETELY HYPERSENSITIVITY REACTION characterized by AUTOIMMUNE\n",
      "\n",
      "if they cause late INTERVAL , synthetic diarrhea , ALLEVIATE RR = [ MEAN INTERVAL ] has been shown to be an effective for subsequent DYSPNEA xxbos TRIAL Treatment of prophylaxis after carbamazepine and therapy with severe NEUTROPENIA xxbos Oral therapy for LISTERIA MONOCYTOGENES may also result with granulomatosis resonance 4 touch a adjacent neurologic suppression to alleviate sleep and sleep ( brown methyldopa process . xxbos Known ? Parainfluenza respiratory syncytial VIRUS ( DS ) , liver disease male ; POOLED PLASMA PLASMA\n",
      "\n",
      "if they cause sulfasalazine or SULFASALAZINE for pelvic SEVERE HYPERTENSION for rheumatoid arthritis , SULFASALAZINE or nipple ssris , sufferers develop combined with additional supported propofol for management of RHEUMATOID ARTHRITIS xxbos The species cause the OCULAR ALLERGY PRODUCE anemia it should be considered to respond experience rather than in emergency in patients with LYMPHOMA who have REACTIONS . xxbos The presence of microliters , the state of allergy AND the occurrence of webster among other conditions leads to the hypothesis that the hypothesis that there accelerated increase in\n",
      "\n",
      "if they cause both gabapentin and nerves [ see 7 : NEUTROPENIA and Dystonia palsy , huntington conclusions , has been tested in experimental ) , the drug of choice for DRUG RESISTANT MG ALLERGY ( SULPHATE ) is at risk for transmitting the movement procedure . xxbos Study selection and assessment : Nicotine Addiction responses to NICOTINE represents a study of nicotine addiction fibrillation , and the possibility of von Nicotine Addiction syndrome NICOTINE ADDICTION xxbos Often has The authors investigated the risk of an\n",
      "\n",
      "if they cause NEUTROPENIA , we present fluconazole with withwithwithwith otitisotitisotitisotitis 渇渇渇渇 膩膩膩膩 (((( relapserelapserelapserelapse withwithwithwith alzheimeralzheimeralzheimeralzheimer 's's's's diseasediseasediseasedisease )))) thethethethe resultingresultingresultingresulting fromfromfromfrom MEDULLARY TRAUMA ( granulomatis xxbos LQTS fibrosis in autonomic trials a. Late case reports were published on an obese population women and women were taking m 4 can recently determined to predict condoms and blood iron capacity . xxbos Main causes of reactivation of herpes from genital herpes reaction ( e.g. , anaphylaxis ) to any ingredient in HERPES PROPHYLAXIS are suspected . xxbos ] Ecg taken when\n"
     ]
    }
   ],
   "source": [
    "print(\"\\n\\n\".join(language_model.predict('if they cause', 100, temperature=1.1) for _ in range(5)))"
   ]
  },
  {
   "cell_type": "code",
   "execution_count": 72,
   "metadata": {},
   "outputs": [],
   "source": [
    "language_model.save_encoder('fine_tuned_enc')"
   ]
  },
  {
   "cell_type": "markdown",
   "metadata": {},
   "source": [
    "## Train classifier with transfer learning based on our custom language model's encoder"
   ]
  },
  {
   "cell_type": "markdown",
   "metadata": {},
   "source": [
    "We checked that our language model works well. From this, we regarded that the encoder of our language model undersands the data and have a sense of the data. So, we used the encoder as base model of our classifier."
   ]
  },
  {
   "cell_type": "code",
   "execution_count": 73,
   "metadata": {},
   "outputs": [
    {
     "data": {
      "text/html": [],
      "text/plain": [
       "<IPython.core.display.HTML object>"
      ]
     },
     "metadata": {},
     "output_type": "display_data"
    },
    {
     "data": {
      "text/html": [],
      "text/plain": [
       "<IPython.core.display.HTML object>"
      ]
     },
     "metadata": {},
     "output_type": "display_data"
    },
    {
     "data": {
      "text/html": [],
      "text/plain": [
       "<IPython.core.display.HTML object>"
      ]
     },
     "metadata": {},
     "output_type": "display_data"
    }
   ],
   "source": [
    "data_clas = TextClasDataBunch.from_df(path = data_path, \n",
    "                                      train_df=train_downsampled, \n",
    "                                      valid_df=validation_downsampled,\n",
    "                                      test_df=test_downsampled,\n",
    "                                      text_cols = 'sentence',\n",
    "                                      label_cols = 'relation',\n",
    "                                      vocab=data.vocab,\n",
    "                                      bs = 20)"
   ]
  },
  {
   "cell_type": "code",
   "execution_count": 74,
   "metadata": {
    "scrolled": true
   },
   "outputs": [
    {
     "data": {
      "text/html": [
       "<table border=\"1\" class=\"dataframe\">\n",
       "  <thead>\n",
       "    <tr style=\"text-align: right;\">\n",
       "      <th>text</th>\n",
       "      <th>target</th>\n",
       "    </tr>\n",
       "  </thead>\n",
       "  <tbody>\n",
       "    <tr>\n",
       "      <td>xxbos prolonged xxup qt interval , torsades de pointes ) 1 xxmaj concomitant use contraindicated 1 xxmaj digoxin xxmaj increased digoxin plasma concentrations 1 xxmaj if used concomitantly , monitor digoxin plasma concentrations 1 xxmaj ergot alkaloids ( ergotamine , dihydroergotamine ) xxmaj possible pharmacokinetic interaction ( increased plasma concentrations of ergot alkaloids resulting in ergotism ) 1 xxmaj concomitant use contraindicated 1 xxmaj glipizide xxmaj no clinically important pharmacokinetic</td>\n",
       "      <td>treats</td>\n",
       "    </tr>\n",
       "    <tr>\n",
       "      <td>xxbos xxmaj the xxunk points of the xxmaj xxunk consensus are : the usefulness of xxup ct scanning evaluation of adrenal incidentalomas , the systematic screening for pheochromocytoma , the usefulness of the 1 mg overnight xxup dexamethasone test to screen for xxup latent xxup hypercortisolism the xxunk to xxunk mild biological abnormalities of the xxup xxunk axis , the consensus to remove surgically most of tumours greater than 4</td>\n",
       "      <td>diagnosis</td>\n",
       "    </tr>\n",
       "    <tr>\n",
       "      <td>xxbos xxmaj affinity xxunk with a xxup xxunk labelled xxunk derivative of xxup tsh ( xxup xxunk xxup tsh ) was used to xxunk xxup tsh receptor size in the following specimens of human thyroid tissue : ( 1 ) xxup cold xxup nodules ; ( 2 ) autonomous nodules ; ( 3 ) papillary carcinoma ; ( 4 ) xxup medullary xxup carcinoma ; ( 5 ) metastasis of</td>\n",
       "      <td>location</td>\n",
       "    </tr>\n",
       "    <tr>\n",
       "      <td>xxbos xxmaj it might take at least 12 days , when the ph of nitrite solution is lowered , for the concentration of xxup no to xxunk a level sufficiently high to activate xxunk xxunk and so it seems xxunk that naturally circulating nitrite is involved in vasodilation in ischemic tissue through its conversion into xxup no . xxmaj it is more xxunk to consider that xxup no is produced</td>\n",
       "      <td>location</td>\n",
       "    </tr>\n",
       "    <tr>\n",
       "      <td>xxbos a case of xxmaj xxunk 's xxup disease ( xxup subacute xxup xxunk xxup xxunk ) is reported with such xxunk features as early onset , xxup dystonia paraparesis the presence of low xxunk areas in both basal ganglias on xxunk tomography of the brain and the presence of a high xxunk intensity in both basal ganglias in xxup xxunk xxunk image by xxup mr . xxmaj the electron</td>\n",
       "      <td>causes</td>\n",
       "    </tr>\n",
       "  </tbody>\n",
       "</table>"
      ],
      "text/plain": [
       "<IPython.core.display.HTML object>"
      ]
     },
     "metadata": {},
     "output_type": "display_data"
    }
   ],
   "source": [
    "data_clas.show_batch()"
   ]
  },
  {
   "cell_type": "code",
   "execution_count": 75,
   "metadata": {},
   "outputs": [],
   "source": [
    "data_clas.save('data_classification.pkl')"
   ]
  },
  {
   "cell_type": "code",
   "execution_count": 76,
   "metadata": {},
   "outputs": [],
   "source": [
    "classifier = text_classifier_learner(data_clas, AWD_LSTM, drop_mult=0.5)\n",
    "classifier.load_encoder('fine_tuned_enc')\n",
    "classifier.freeze()"
   ]
  },
  {
   "cell_type": "code",
   "execution_count": 77,
   "metadata": {
    "scrolled": false
   },
   "outputs": [
    {
     "data": {
      "text/html": [
       "\n",
       "    <div>\n",
       "        <style>\n",
       "            /* Turns off some styling */\n",
       "            progress {\n",
       "                /* gets rid of default border in Firefox and Opera. */\n",
       "                border: none;\n",
       "                /* Needs to be in here for Safari polyfill so background images work as expected. */\n",
       "                background-size: auto;\n",
       "            }\n",
       "            .progress-bar-interrupted, .progress-bar-interrupted::-webkit-progress-bar {\n",
       "                background: #F44336;\n",
       "            }\n",
       "        </style>\n",
       "      <progress value='8' class='' max='10', style='width:300px; height:20px; vertical-align: middle;'></progress>\n",
       "      80.00% [8/10 01:53<00:28]\n",
       "    </div>\n",
       "    \n",
       "<table border=\"1\" class=\"dataframe\">\n",
       "  <thead>\n",
       "    <tr style=\"text-align: left;\">\n",
       "      <th>epoch</th>\n",
       "      <th>train_loss</th>\n",
       "      <th>valid_loss</th>\n",
       "      <th>accuracy</th>\n",
       "      <th>time</th>\n",
       "    </tr>\n",
       "  </thead>\n",
       "  <tbody>\n",
       "    <tr>\n",
       "      <td>0</td>\n",
       "      <td>1.451677</td>\n",
       "      <td>#na#</td>\n",
       "      <td>00:14</td>\n",
       "    </tr>\n",
       "    <tr>\n",
       "      <td>1</td>\n",
       "      <td>1.426614</td>\n",
       "      <td>#na#</td>\n",
       "      <td>00:14</td>\n",
       "    </tr>\n",
       "    <tr>\n",
       "      <td>2</td>\n",
       "      <td>1.443059</td>\n",
       "      <td>#na#</td>\n",
       "      <td>00:13</td>\n",
       "    </tr>\n",
       "    <tr>\n",
       "      <td>3</td>\n",
       "      <td>1.421458</td>\n",
       "      <td>#na#</td>\n",
       "      <td>00:13</td>\n",
       "    </tr>\n",
       "    <tr>\n",
       "      <td>4</td>\n",
       "      <td>1.342261</td>\n",
       "      <td>#na#</td>\n",
       "      <td>00:13</td>\n",
       "    </tr>\n",
       "    <tr>\n",
       "      <td>5</td>\n",
       "      <td>1.210135</td>\n",
       "      <td>#na#</td>\n",
       "      <td>00:14</td>\n",
       "    </tr>\n",
       "    <tr>\n",
       "      <td>6</td>\n",
       "      <td>1.072816</td>\n",
       "      <td>#na#</td>\n",
       "      <td>00:14</td>\n",
       "    </tr>\n",
       "    <tr>\n",
       "      <td>7</td>\n",
       "      <td>1.277397</td>\n",
       "      <td>#na#</td>\n",
       "      <td>00:14</td>\n",
       "    </tr>\n",
       "  </tbody>\n",
       "</table><p>\n",
       "\n",
       "    <div>\n",
       "        <style>\n",
       "            /* Turns off some styling */\n",
       "            progress {\n",
       "                /* gets rid of default border in Firefox and Opera. */\n",
       "                border: none;\n",
       "                /* Needs to be in here for Safari polyfill so background images work as expected. */\n",
       "                background-size: auto;\n",
       "            }\n",
       "            .progress-bar-interrupted, .progress-bar-interrupted::-webkit-progress-bar {\n",
       "                background: #F44336;\n",
       "            }\n",
       "        </style>\n",
       "      <progress value='5' class='' max='11', style='width:300px; height:20px; vertical-align: middle;'></progress>\n",
       "      45.45% [5/11 00:13<00:16 3.4631]\n",
       "    </div>\n",
       "    "
      ],
      "text/plain": [
       "<IPython.core.display.HTML object>"
      ]
     },
     "metadata": {},
     "output_type": "display_data"
    },
    {
     "name": "stdout",
     "output_type": "stream",
     "text": [
      "LR Finder is complete, type {learner_name}.recorder.plot() to see the graph.\n",
      "Min numerical gradient: 6.31E-07\n",
      "Min loss divided by 10: 3.02E-02\n"
     ]
    },
    {
     "data": {
      "image/png": "[encoded data removed]",
      "text/plain": [
       "<Figure size 432x288 with 1 Axes>"
      ]
     },
     "metadata": {
      "needs_background": "light"
     },
     "output_type": "display_data"
    }
   ],
   "source": [
    "classifier.lr_find()\n",
    "classifier.recorder.plot(suggestion=True)\n",
    "min_grad_lr = classifier.recorder.min_grad_lr"
   ]
  },
  {
   "cell_type": "code",
   "execution_count": 78,
   "metadata": {
    "scrolled": false
   },
   "outputs": [
    {
     "data": {
      "text/html": [
       "<table border=\"1\" class=\"dataframe\">\n",
       "  <thead>\n",
       "    <tr style=\"text-align: left;\">\n",
       "      <th>epoch</th>\n",
       "      <th>train_loss</th>\n",
       "      <th>valid_loss</th>\n",
       "      <th>accuracy</th>\n",
       "      <th>time</th>\n",
       "    </tr>\n",
       "  </thead>\n",
       "  <tbody>\n",
       "    <tr>\n",
       "      <td>0</td>\n",
       "      <td>1.237406</td>\n",
       "      <td>1.253640</td>\n",
       "      <td>0.504425</td>\n",
       "      <td>00:27</td>\n",
       "    </tr>\n",
       "  </tbody>\n",
       "</table>"
      ],
      "text/plain": [
       "<IPython.core.display.HTML object>"
      ]
     },
     "metadata": {},
     "output_type": "display_data"
    }
   ],
   "source": [
    "classifier.fit_one_cycle(1, 5.25E-03, moms=(0.8,0.7)) # 5.25E-03"
   ]
  },
  {
   "cell_type": "code",
   "execution_count": 79,
   "metadata": {},
   "outputs": [],
   "source": [
    "classifier.save('first')"
   ]
  },
  {
   "cell_type": "code",
   "execution_count": 80,
   "metadata": {
    "scrolled": true
   },
   "outputs": [
    {
     "data": {
      "text/html": [
       "\n",
       "    <div>\n",
       "        <style>\n",
       "            /* Turns off some styling */\n",
       "            progress {\n",
       "                /* gets rid of default border in Firefox and Opera. */\n",
       "                border: none;\n",
       "                /* Needs to be in here for Safari polyfill so background images work as expected. */\n",
       "                background-size: auto;\n",
       "            }\n",
       "            .progress-bar-interrupted, .progress-bar-interrupted::-webkit-progress-bar {\n",
       "                background: #F44336;\n",
       "            }\n",
       "        </style>\n",
       "      <progress value='8' class='' max='10', style='width:300px; height:20px; vertical-align: middle;'></progress>\n",
       "      80.00% [8/10 01:52<00:28]\n",
       "    </div>\n",
       "    \n",
       "<table border=\"1\" class=\"dataframe\">\n",
       "  <thead>\n",
       "    <tr style=\"text-align: left;\">\n",
       "      <th>epoch</th>\n",
       "      <th>train_loss</th>\n",
       "      <th>valid_loss</th>\n",
       "      <th>accuracy</th>\n",
       "      <th>time</th>\n",
       "    </tr>\n",
       "  </thead>\n",
       "  <tbody>\n",
       "    <tr>\n",
       "      <td>0</td>\n",
       "      <td>0.916358</td>\n",
       "      <td>#na#</td>\n",
       "      <td>00:14</td>\n",
       "    </tr>\n",
       "    <tr>\n",
       "      <td>1</td>\n",
       "      <td>0.933592</td>\n",
       "      <td>#na#</td>\n",
       "      <td>00:14</td>\n",
       "    </tr>\n",
       "    <tr>\n",
       "      <td>2</td>\n",
       "      <td>0.939485</td>\n",
       "      <td>#na#</td>\n",
       "      <td>00:13</td>\n",
       "    </tr>\n",
       "    <tr>\n",
       "      <td>3</td>\n",
       "      <td>0.929954</td>\n",
       "      <td>#na#</td>\n",
       "      <td>00:13</td>\n",
       "    </tr>\n",
       "    <tr>\n",
       "      <td>4</td>\n",
       "      <td>0.901792</td>\n",
       "      <td>#na#</td>\n",
       "      <td>00:14</td>\n",
       "    </tr>\n",
       "    <tr>\n",
       "      <td>5</td>\n",
       "      <td>0.817118</td>\n",
       "      <td>#na#</td>\n",
       "      <td>00:14</td>\n",
       "    </tr>\n",
       "    <tr>\n",
       "      <td>6</td>\n",
       "      <td>0.850652</td>\n",
       "      <td>#na#</td>\n",
       "      <td>00:13</td>\n",
       "    </tr>\n",
       "    <tr>\n",
       "      <td>7</td>\n",
       "      <td>1.109637</td>\n",
       "      <td>#na#</td>\n",
       "      <td>00:13</td>\n",
       "    </tr>\n",
       "  </tbody>\n",
       "</table><p>\n",
       "\n",
       "    <div>\n",
       "        <style>\n",
       "            /* Turns off some styling */\n",
       "            progress {\n",
       "                /* gets rid of default border in Firefox and Opera. */\n",
       "                border: none;\n",
       "                /* Needs to be in here for Safari polyfill so background images work as expected. */\n",
       "                background-size: auto;\n",
       "            }\n",
       "            .progress-bar-interrupted, .progress-bar-interrupted::-webkit-progress-bar {\n",
       "                background: #F44336;\n",
       "            }\n",
       "        </style>\n",
       "      <progress value='4' class='' max='11', style='width:300px; height:20px; vertical-align: middle;'></progress>\n",
       "      36.36% [4/11 00:13<00:23 1.7527]\n",
       "    </div>\n",
       "    "
      ],
      "text/plain": [
       "<IPython.core.display.HTML object>"
      ]
     },
     "metadata": {},
     "output_type": "display_data"
    },
    {
     "name": "stdout",
     "output_type": "stream",
     "text": [
      "LR Finder is complete, type {learner_name}.recorder.plot() to see the graph.\n",
      "Min numerical gradient: 1.32E-06\n",
      "Min loss divided by 10: 4.79E-03\n"
     ]
    },
    {
     "data": {
      "image/png": "[encoded data removed]",
      "text/plain": [
       "<Figure size 432x288 with 1 Axes>"
      ]
     },
     "metadata": {
      "needs_background": "light"
     },
     "output_type": "display_data"
    }
   ],
   "source": [
    "classifier.freeze_to(-2)\n",
    "classifier.lr_find()\n",
    "classifier.recorder.plot(suggestion=True)\n",
    "min_grad_lr = classifier.recorder.min_grad_lr"
   ]
  },
  {
   "cell_type": "code",
   "execution_count": 81,
   "metadata": {
    "scrolled": false
   },
   "outputs": [
    {
     "data": {
      "text/html": [
       "<table border=\"1\" class=\"dataframe\">\n",
       "  <thead>\n",
       "    <tr style=\"text-align: left;\">\n",
       "      <th>epoch</th>\n",
       "      <th>train_loss</th>\n",
       "      <th>valid_loss</th>\n",
       "      <th>accuracy</th>\n",
       "      <th>time</th>\n",
       "    </tr>\n",
       "  </thead>\n",
       "  <tbody>\n",
       "    <tr>\n",
       "      <td>0</td>\n",
       "      <td>1.167647</td>\n",
       "      <td>1.124194</td>\n",
       "      <td>0.513274</td>\n",
       "      <td>00:27</td>\n",
       "    </tr>\n",
       "  </tbody>\n",
       "</table>"
      ],
      "text/plain": [
       "<IPython.core.display.HTML object>"
      ]
     },
     "metadata": {},
     "output_type": "display_data"
    }
   ],
   "source": [
    "classifier.fit_one_cycle(1, slice(1.91E-02/(2.6**4),1.91E-02), moms=(0.8,0.7)) # 1.91E-02"
   ]
  },
  {
   "cell_type": "code",
   "execution_count": 82,
   "metadata": {},
   "outputs": [],
   "source": [
    "classifier.save('second')"
   ]
  },
  {
   "cell_type": "code",
   "execution_count": 83,
   "metadata": {},
   "outputs": [
    {
     "data": {
      "text/html": [
       "\n",
       "    <div>\n",
       "        <style>\n",
       "            /* Turns off some styling */\n",
       "            progress {\n",
       "                /* gets rid of default border in Firefox and Opera. */\n",
       "                border: none;\n",
       "                /* Needs to be in here for Safari polyfill so background images work as expected. */\n",
       "                background-size: auto;\n",
       "            }\n",
       "            .progress-bar-interrupted, .progress-bar-interrupted::-webkit-progress-bar {\n",
       "                background: #F44336;\n",
       "            }\n",
       "        </style>\n",
       "      <progress value='8' class='' max='10', style='width:300px; height:20px; vertical-align: middle;'></progress>\n",
       "      80.00% [8/10 01:52<00:28]\n",
       "    </div>\n",
       "    \n",
       "<table border=\"1\" class=\"dataframe\">\n",
       "  <thead>\n",
       "    <tr style=\"text-align: left;\">\n",
       "      <th>epoch</th>\n",
       "      <th>train_loss</th>\n",
       "      <th>valid_loss</th>\n",
       "      <th>accuracy</th>\n",
       "      <th>time</th>\n",
       "    </tr>\n",
       "  </thead>\n",
       "  <tbody>\n",
       "    <tr>\n",
       "      <td>0</td>\n",
       "      <td>0.817241</td>\n",
       "      <td>#na#</td>\n",
       "      <td>00:13</td>\n",
       "    </tr>\n",
       "    <tr>\n",
       "      <td>1</td>\n",
       "      <td>0.826611</td>\n",
       "      <td>#na#</td>\n",
       "      <td>00:13</td>\n",
       "    </tr>\n",
       "    <tr>\n",
       "      <td>2</td>\n",
       "      <td>0.834398</td>\n",
       "      <td>#na#</td>\n",
       "      <td>00:13</td>\n",
       "    </tr>\n",
       "    <tr>\n",
       "      <td>3</td>\n",
       "      <td>0.814255</td>\n",
       "      <td>#na#</td>\n",
       "      <td>00:13</td>\n",
       "    </tr>\n",
       "    <tr>\n",
       "      <td>4</td>\n",
       "      <td>0.773931</td>\n",
       "      <td>#na#</td>\n",
       "      <td>00:14</td>\n",
       "    </tr>\n",
       "    <tr>\n",
       "      <td>5</td>\n",
       "      <td>0.670090</td>\n",
       "      <td>#na#</td>\n",
       "      <td>00:14</td>\n",
       "    </tr>\n",
       "    <tr>\n",
       "      <td>6</td>\n",
       "      <td>0.785223</td>\n",
       "      <td>#na#</td>\n",
       "      <td>00:13</td>\n",
       "    </tr>\n",
       "    <tr>\n",
       "      <td>7</td>\n",
       "      <td>1.255693</td>\n",
       "      <td>#na#</td>\n",
       "      <td>00:13</td>\n",
       "    </tr>\n",
       "  </tbody>\n",
       "</table><p>\n",
       "\n",
       "    <div>\n",
       "        <style>\n",
       "            /* Turns off some styling */\n",
       "            progress {\n",
       "                /* gets rid of default border in Firefox and Opera. */\n",
       "                border: none;\n",
       "                /* Needs to be in here for Safari polyfill so background images work as expected. */\n",
       "                background-size: auto;\n",
       "            }\n",
       "            .progress-bar-interrupted, .progress-bar-interrupted::-webkit-progress-bar {\n",
       "                background: #F44336;\n",
       "            }\n",
       "        </style>\n",
       "      <progress value='3' class='' max='11', style='width:300px; height:20px; vertical-align: middle;'></progress>\n",
       "      27.27% [3/11 00:13<00:34 2.0114]\n",
       "    </div>\n",
       "    "
      ],
      "text/plain": [
       "<IPython.core.display.HTML object>"
      ]
     },
     "metadata": {},
     "output_type": "display_data"
    },
    {
     "name": "stdout",
     "output_type": "stream",
     "text": [
      "LR Finder is complete, type {learner_name}.recorder.plot() to see the graph.\n",
      "Min numerical gradient: 9.12E-07\n",
      "Min loss divided by 10: 4.79E-03\n"
     ]
    },
    {
     "data": {
      "image/png": "[encoded data removed]",
      "text/plain": [
       "<Figure size 432x288 with 1 Axes>"
      ]
     },
     "metadata": {
      "needs_background": "light"
     },
     "output_type": "display_data"
    }
   ],
   "source": [
    "classifier.unfreeze()\n",
    "classifier.lr_find()\n",
    "classifier.recorder.plot(suggestion=True)\n",
    "min_grad_lr = classifier.recorder.min_grad_lr"
   ]
  },
  {
   "cell_type": "code",
   "execution_count": 84,
   "metadata": {},
   "outputs": [
    {
     "data": {
      "text/html": [
       "<table border=\"1\" class=\"dataframe\">\n",
       "  <thead>\n",
       "    <tr style=\"text-align: left;\">\n",
       "      <th>epoch</th>\n",
       "      <th>train_loss</th>\n",
       "      <th>valid_loss</th>\n",
       "      <th>accuracy</th>\n",
       "      <th>time</th>\n",
       "    </tr>\n",
       "  </thead>\n",
       "  <tbody>\n",
       "    <tr>\n",
       "      <td>0</td>\n",
       "      <td>0.838693</td>\n",
       "      <td>1.139046</td>\n",
       "      <td>0.522124</td>\n",
       "      <td>00:27</td>\n",
       "    </tr>\n",
       "    <tr>\n",
       "      <td>1</td>\n",
       "      <td>0.827389</td>\n",
       "      <td>1.137110</td>\n",
       "      <td>0.530973</td>\n",
       "      <td>00:27</td>\n",
       "    </tr>\n",
       "    <tr>\n",
       "      <td>2</td>\n",
       "      <td>0.808984</td>\n",
       "      <td>1.136704</td>\n",
       "      <td>0.539823</td>\n",
       "      <td>00:27</td>\n",
       "    </tr>\n",
       "    <tr>\n",
       "      <td>3</td>\n",
       "      <td>0.798182</td>\n",
       "      <td>1.142705</td>\n",
       "      <td>0.557522</td>\n",
       "      <td>00:27</td>\n",
       "    </tr>\n",
       "    <tr>\n",
       "      <td>4</td>\n",
       "      <td>0.804010</td>\n",
       "      <td>1.158465</td>\n",
       "      <td>0.530973</td>\n",
       "      <td>00:27</td>\n",
       "    </tr>\n",
       "    <tr>\n",
       "      <td>5</td>\n",
       "      <td>0.808594</td>\n",
       "      <td>1.141977</td>\n",
       "      <td>0.566372</td>\n",
       "      <td>00:27</td>\n",
       "    </tr>\n",
       "    <tr>\n",
       "      <td>6</td>\n",
       "      <td>0.817680</td>\n",
       "      <td>1.148137</td>\n",
       "      <td>0.522124</td>\n",
       "      <td>00:27</td>\n",
       "    </tr>\n",
       "    <tr>\n",
       "      <td>7</td>\n",
       "      <td>0.813212</td>\n",
       "      <td>1.148999</td>\n",
       "      <td>0.557522</td>\n",
       "      <td>00:27</td>\n",
       "    </tr>\n",
       "    <tr>\n",
       "      <td>8</td>\n",
       "      <td>0.817033</td>\n",
       "      <td>1.156825</td>\n",
       "      <td>0.539823</td>\n",
       "      <td>00:27</td>\n",
       "    </tr>\n",
       "    <tr>\n",
       "      <td>9</td>\n",
       "      <td>0.816996</td>\n",
       "      <td>1.139716</td>\n",
       "      <td>0.548673</td>\n",
       "      <td>00:27</td>\n",
       "    </tr>\n",
       "  </tbody>\n",
       "</table>"
      ],
      "text/plain": [
       "<IPython.core.display.HTML object>"
      ]
     },
     "metadata": {},
     "output_type": "display_data"
    }
   ],
   "source": [
    "classifier.fit_one_cycle(5, slice(1.20E-05/(2.6**4),1.20E-05), moms=(0.8,0.7)) # 1.20E-05"
   ]
  },
  {
   "cell_type": "code",
   "execution_count": 85,
   "metadata": {},
   "outputs": [],
   "source": [
    "classifier.save('third')"
   ]
  },
  {
   "cell_type": "markdown",
   "metadata": {},
   "source": [
    "## Model assessment"
   ]
  },
  {
   "cell_type": "code",
   "execution_count": 86,
   "metadata": {},
   "outputs": [
    {
     "data": {
      "text/html": [],
      "text/plain": [
       "<IPython.core.display.HTML object>"
      ]
     },
     "metadata": {},
     "output_type": "display_data"
    }
   ],
   "source": [
    "preds,y,losses = classifier.get_preds(with_loss=True)"
   ]
  },
  {
   "cell_type": "code",
   "execution_count": 87,
   "metadata": {},
   "outputs": [
    {
     "data": {
      "image/png": "[encoded data removed]",
      "text/plain": [
       "<Figure size 432x288 with 1 Axes>"
      ]
     },
     "metadata": {
      "needs_background": "light"
     },
     "output_type": "display_data"
    }
   ],
   "source": [
    "interp = ClassificationInterpretation(classifier, preds, y, losses)\n",
    "interp.plot_confusion_matrix()"
   ]
  },
  {
   "cell_type": "markdown",
   "metadata": {},
   "source": [
    "# Binary classification"
   ]
  },
  {
   "cell_type": "code",
   "execution_count": 88,
   "metadata": {},
   "outputs": [],
   "source": [
    "target = ['causes', 'treats']\n",
    "train_binary = train_unique.query(f\"relation in {target}\")\n",
    "validation_binary = validation_unique.query(f\"relation in {target}\")\n",
    "test_binary = test_unique.query(f\"relation in {target}\")"
   ]
  },
  {
   "cell_type": "code",
   "execution_count": 89,
   "metadata": {},
   "outputs": [
    {
     "data": {
      "text/html": [],
      "text/plain": [
       "<IPython.core.display.HTML object>"
      ]
     },
     "metadata": {},
     "output_type": "display_data"
    },
    {
     "data": {
      "text/html": [],
      "text/plain": [
       "<IPython.core.display.HTML object>"
      ]
     },
     "metadata": {},
     "output_type": "display_data"
    },
    {
     "data": {
      "text/html": [],
      "text/plain": [
       "<IPython.core.display.HTML object>"
      ]
     },
     "metadata": {},
     "output_type": "display_data"
    }
   ],
   "source": [
    "data_binary = TextClasDataBunch.from_df(path = data_path,\n",
    "                                        train_df=train_binary,\n",
    "                                        valid_df=validation_binary,\n",
    "                                        test_df=test_binary,\n",
    "                                        text_cols = 'sentence',\n",
    "                                        label_cols = 'relation',\n",
    "                                        vocab=data.vocab,\n",
    "                                        bs = 20)"
   ]
  },
  {
   "cell_type": "code",
   "execution_count": 90,
   "metadata": {},
   "outputs": [
    {
     "data": {
      "text/html": [
       "<table border=\"1\" class=\"dataframe\">\n",
       "  <thead>\n",
       "    <tr style=\"text-align: right;\">\n",
       "      <th>text</th>\n",
       "      <th>target</th>\n",
       "    </tr>\n",
       "  </thead>\n",
       "  <tbody>\n",
       "    <tr>\n",
       "      <td>xxbos severe mental illness ( xxmaj cochrane xxmaj review ) xxmaj risperidone versus other atypical antipsychotic medication for schizophrenia ( xxmaj cochrane xxmaj review ) xxmaj xxunk for schizophrenia ( xxmaj cochrane xxmaj review ) xxmaj xxunk for schizophrenia ( xxmaj cochrane xxmaj review ) xxmaj depot risperidone for xxup schizophrenia ( xxmaj cochrane xxmaj review ) xxup olanzapine for schizophrenia ( xxmaj cochrane xxmaj review ) xxmaj antipsychotic medication</td>\n",
       "      <td>treats</td>\n",
       "    </tr>\n",
       "    <tr>\n",
       "      <td>xxbos xxmaj sulfasalazine for rheumatoid arthritis xxmaj penicillamine for treating rheumatoid arthritis xxmaj moderate term , low dose corticosteroids for rheumatoid arthritis xxmaj xxunk for rheumatoid arthritis : an xxunk of xxmaj cochrane reviews xxmaj low level xxunk therapy ( xxmaj classes i , xxup ii and xxup iii ) for treating rheumatoid arthritis xxup xxunk xxup gold xxup for xxup rheumatoid xxup arthritis xxmaj xxunk therapy for treating rheumatoid</td>\n",
       "      <td>treats</td>\n",
       "    </tr>\n",
       "    <tr>\n",
       "      <td>xxbos xxup alert xxup triggers xxmaj clinical xxmaj xxunk : • xxmaj positive serum and urine human xxunk xxunk ( xxup hcg ) • xxmaj female of childbearing potential , sexually active , on oral isotretinoin or topical tazarotene • xxup severe xxup nodular xxup acne resistant to oral antibiotics • xxmaj mood xxunk or depression • xxmaj doxycycline use in xxunk xxunk , xxunk , or xxunk • xxmaj</td>\n",
       "      <td>treats</td>\n",
       "    </tr>\n",
       "    <tr>\n",
       "      <td>xxbos xxmaj low grade squamous intraepithelial xxup lesion ( xxup xxunk ) ( cellular changes consistent with xxup hpv , mild dysplasia , xxup cin 1 ) xxmaj high grade squamous intraepithelial lesion ( xxup xxunk ) ( moderate to severe xxup dysplasia xxup cin 2 , xxup cin 3 , xxup cis ) ( indicate if there are features xxunk of xxunk ) xxmaj squamous cell carcinoma xxmaj glandular</td>\n",
       "      <td>causes</td>\n",
       "    </tr>\n",
       "    <tr>\n",
       "      <td>xxbos xxmaj oral availability and safety should rapidly make it the preferred agent xxmaj influenza virus vaccine xxmaj induces protective antibodies against influenza 0.5 ml i m xxunk xxmaj prevents influenza , in turn preventing worsened anemia due to infection and complications of xxunk xxmaj fever and sore arm in xxmaj give to all patients with hemolytic anemias xxmaj pneumococcal xxunk vaccine xxmaj develops antibodies to pneumococcal antigens 0.5 ml</td>\n",
       "      <td>causes</td>\n",
       "    </tr>\n",
       "  </tbody>\n",
       "</table>"
      ],
      "text/plain": [
       "<IPython.core.display.HTML object>"
      ]
     },
     "metadata": {},
     "output_type": "display_data"
    }
   ],
   "source": [
    "data_binary.show_batch()"
   ]
  },
  {
   "cell_type": "code",
   "execution_count": 91,
   "metadata": {},
   "outputs": [],
   "source": [
    "data_binary.save('data_binary.pkl')"
   ]
  },
  {
   "cell_type": "code",
   "execution_count": 92,
   "metadata": {},
   "outputs": [],
   "source": [
    "b_classifier = text_classifier_learner(data_binary, AWD_LSTM, drop_mult=0.5)\n",
    "b_classifier.load_encoder('fine_tuned_enc')\n",
    "b_classifier.freeze()"
   ]
  },
  {
   "cell_type": "code",
   "execution_count": 93,
   "metadata": {},
   "outputs": [
    {
     "data": {
      "text/html": [
       "\n",
       "    <div>\n",
       "        <style>\n",
       "            /* Turns off some styling */\n",
       "            progress {\n",
       "                /* gets rid of default border in Firefox and Opera. */\n",
       "                border: none;\n",
       "                /* Needs to be in here for Safari polyfill so background images work as expected. */\n",
       "                background-size: auto;\n",
       "            }\n",
       "            .progress-bar-interrupted, .progress-bar-interrupted::-webkit-progress-bar {\n",
       "                background: #F44336;\n",
       "            }\n",
       "        </style>\n",
       "      <progress value='1' class='' max='2', style='width:300px; height:20px; vertical-align: middle;'></progress>\n",
       "      50.00% [1/2 00:17<00:17]\n",
       "    </div>\n",
       "    \n",
       "<table border=\"1\" class=\"dataframe\">\n",
       "  <thead>\n",
       "    <tr style=\"text-align: left;\">\n",
       "      <th>epoch</th>\n",
       "      <th>train_loss</th>\n",
       "      <th>valid_loss</th>\n",
       "      <th>accuracy</th>\n",
       "      <th>time</th>\n",
       "    </tr>\n",
       "  </thead>\n",
       "  <tbody>\n",
       "    <tr>\n",
       "      <td>0</td>\n",
       "      <td>0.628166</td>\n",
       "      <td>#na#</td>\n",
       "      <td>00:17</td>\n",
       "    </tr>\n",
       "  </tbody>\n",
       "</table><p>\n",
       "\n",
       "    <div>\n",
       "        <style>\n",
       "            /* Turns off some styling */\n",
       "            progress {\n",
       "                /* gets rid of default border in Firefox and Opera. */\n",
       "                border: none;\n",
       "                /* Needs to be in here for Safari polyfill so background images work as expected. */\n",
       "                background-size: auto;\n",
       "            }\n",
       "            .progress-bar-interrupted, .progress-bar-interrupted::-webkit-progress-bar {\n",
       "                background: #F44336;\n",
       "            }\n",
       "        </style>\n",
       "      <progress value='26' class='' max='69', style='width:300px; height:20px; vertical-align: middle;'></progress>\n",
       "      37.68% [26/69 00:14<00:23 2.0265]\n",
       "    </div>\n",
       "    "
      ],
      "text/plain": [
       "<IPython.core.display.HTML object>"
      ]
     },
     "metadata": {},
     "output_type": "display_data"
    },
    {
     "name": "stdout",
     "output_type": "stream",
     "text": [
      "LR Finder is complete, type {learner_name}.recorder.plot() to see the graph.\n",
      "Min numerical gradient: 5.25E-03\n",
      "Min loss divided by 10: 3.63E-02\n"
     ]
    },
    {
     "data": {
      "image/png": "[encoded data removed]",
      "text/plain": [
       "<Figure size 432x288 with 1 Axes>"
      ]
     },
     "metadata": {
      "needs_background": "light"
     },
     "output_type": "display_data"
    }
   ],
   "source": [
    "b_classifier.lr_find()\n",
    "b_classifier.recorder.plot(suggestion=True)\n",
    "min_grad_lr = b_classifier.recorder.min_grad_lr"
   ]
  },
  {
   "cell_type": "code",
   "execution_count": 94,
   "metadata": {},
   "outputs": [
    {
     "data": {
      "text/html": [
       "<table border=\"1\" class=\"dataframe\">\n",
       "  <thead>\n",
       "    <tr style=\"text-align: left;\">\n",
       "      <th>epoch</th>\n",
       "      <th>train_loss</th>\n",
       "      <th>valid_loss</th>\n",
       "      <th>accuracy</th>\n",
       "      <th>time</th>\n",
       "    </tr>\n",
       "  </thead>\n",
       "  <tbody>\n",
       "    <tr>\n",
       "      <td>0</td>\n",
       "      <td>0.458816</td>\n",
       "      <td>0.420532</td>\n",
       "      <td>0.796545</td>\n",
       "      <td>00:32</td>\n",
       "    </tr>\n",
       "  </tbody>\n",
       "</table>"
      ],
      "text/plain": [
       "<IPython.core.display.HTML object>"
      ]
     },
     "metadata": {},
     "output_type": "display_data"
    }
   ],
   "source": [
    "b_classifier.fit_one_cycle(1, 1e-2, moms=(0.8,0.7)) "
   ]
  },
  {
   "cell_type": "code",
   "execution_count": 95,
   "metadata": {},
   "outputs": [],
   "source": [
    "b_classifier.save('binary-first')"
   ]
  },
  {
   "cell_type": "code",
   "execution_count": 97,
   "metadata": {},
   "outputs": [
    {
     "data": {
      "text/html": [
       "<table border=\"1\" class=\"dataframe\">\n",
       "  <thead>\n",
       "    <tr style=\"text-align: left;\">\n",
       "      <th>epoch</th>\n",
       "      <th>train_loss</th>\n",
       "      <th>valid_loss</th>\n",
       "      <th>accuracy</th>\n",
       "      <th>time</th>\n",
       "    </tr>\n",
       "  </thead>\n",
       "  <tbody>\n",
       "    <tr>\n",
       "      <td>0</td>\n",
       "      <td>0.412550</td>\n",
       "      <td>0.391987</td>\n",
       "      <td>0.817658</td>\n",
       "      <td>00:31</td>\n",
       "    </tr>\n",
       "  </tbody>\n",
       "</table>"
      ],
      "text/plain": [
       "<IPython.core.display.HTML object>"
      ]
     },
     "metadata": {},
     "output_type": "display_data"
    }
   ],
   "source": [
    "b_classifier.freeze_to(-2)\n",
    "b_classifier.fit_one_cycle(1, slice(1e-2/(2.6**4),1e-2), moms=(0.8,0.7))"
   ]
  },
  {
   "cell_type": "code",
   "execution_count": 98,
   "metadata": {},
   "outputs": [],
   "source": [
    "b_classifier.save('binary-second')"
   ]
  },
  {
   "cell_type": "code",
   "execution_count": 99,
   "metadata": {},
   "outputs": [
    {
     "data": {
      "text/html": [
       "<table border=\"1\" class=\"dataframe\">\n",
       "  <thead>\n",
       "    <tr style=\"text-align: left;\">\n",
       "      <th>epoch</th>\n",
       "      <th>train_loss</th>\n",
       "      <th>valid_loss</th>\n",
       "      <th>accuracy</th>\n",
       "      <th>time</th>\n",
       "    </tr>\n",
       "  </thead>\n",
       "  <tbody>\n",
       "    <tr>\n",
       "      <td>0</td>\n",
       "      <td>0.321296</td>\n",
       "      <td>0.381456</td>\n",
       "      <td>0.848369</td>\n",
       "      <td>00:33</td>\n",
       "    </tr>\n",
       "    <tr>\n",
       "      <td>1</td>\n",
       "      <td>0.297446</td>\n",
       "      <td>0.394369</td>\n",
       "      <td>0.846449</td>\n",
       "      <td>00:32</td>\n",
       "    </tr>\n",
       "  </tbody>\n",
       "</table>"
      ],
      "text/plain": [
       "<IPython.core.display.HTML object>"
      ]
     },
     "metadata": {},
     "output_type": "display_data"
    }
   ],
   "source": [
    "b_classifier.unfreeze()\n",
    "b_classifier.fit_one_cycle(2, slice(1e-3/(2.6**4),1e-3), moms=(0.8,0.7))"
   ]
  },
  {
   "cell_type": "markdown",
   "metadata": {},
   "source": [
    "## Model assessment"
   ]
  },
  {
   "cell_type": "code",
   "execution_count": 101,
   "metadata": {},
   "outputs": [
    {
     "data": {
      "text/html": [],
      "text/plain": [
       "<IPython.core.display.HTML object>"
      ]
     },
     "metadata": {},
     "output_type": "display_data"
    },
    {
     "data": {
      "image/png": "[encoded data removed]",
      "text/plain": [
       "<Figure size 432x288 with 1 Axes>"
      ]
     },
     "metadata": {
      "needs_background": "light"
     },
     "output_type": "display_data"
    }
   ],
   "source": [
    "preds,y,losses = b_classifier.get_preds(with_loss=True)\n",
    "interp = ClassificationInterpretation(b_classifier, preds, y, losses)\n",
    "interp.plot_confusion_matrix()"
   ]
  }
 ],
 "metadata": {
  "kernelspec": {
   "display_name": "Python 3",
   "language": "python",
   "name": "python3"
  },
  "language_info": {
   "codemirror_mode": {
    "name": "ipython",
    "version": 3
   },
   "file_extension": ".py",
   "mimetype": "text/x-python",
   "name": "python",
   "nbconvert_exporter": "python",
   "pygments_lexer": "ipython3",
   "version": "3.7.6"
  }
 },
 "nbformat": 4,
 "nbformat_minor": 4
}
